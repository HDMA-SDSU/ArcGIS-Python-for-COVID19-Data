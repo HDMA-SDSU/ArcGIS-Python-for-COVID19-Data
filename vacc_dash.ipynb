{
 "cells": [
  {
   "cell_type": "markdown",
   "metadata": {},
   "source": [
    "# Vaccine Dashboard Update\n",
    "Center for Human Dynamics in the Mobile Age (HDMA) at San Diego State University <br>\n",
    "Jessica Embury"
   ]
  },
  {
   "cell_type": "markdown",
   "metadata": {},
   "source": [
    "### IMPORTS"
   ]
  },
  {
   "cell_type": "code",
   "execution_count": 69,
   "metadata": {},
   "outputs": [],
   "source": [
    "#import modules\n",
    "#import arcgis\n",
    "from arcgis.gis import GIS\n",
    "from arcgis import geometry\n",
    "from arcgis.features import GeoAccessor, GeoSeriesAccessor\n",
    "from arcgis.features import FeatureLayerCollection\n",
    "from arcgis.features import FeatureLayer\n",
    "#from arcgis.mapping import WebMap\n",
    "\n",
    "from copy import deepcopy\n",
    "import json\n",
    "import numpy as np\n",
    "import os\n",
    "import pandas as pd\n",
    "import requests\n",
    "import sys\n",
    "import tabula\n",
    "import time\n",
    "import webbrowser\n",
    "\n",
    "#ignore pandas slice warning\n",
    "pd.options.mode.chained_assignment = None  # default='warn'"
   ]
  },
  {
   "cell_type": "markdown",
   "metadata": {},
   "source": [
    "### DATE, FILE PATHS, & AGOL IDS"
   ]
  },
  {
   "cell_type": "code",
   "execution_count": 70,
   "metadata": {},
   "outputs": [],
   "source": [
    "###########################\n",
    "###SET DATA THROUGH DATE###\n",
    "###########################\n",
    "most_recent_date = '03/13/2021'  # Change date daily using 'MM/DD/YYYY' format\n",
    "max_cases = 13271  # max covid cases in any sd zip code, use until script merged with main notebook\n",
    "\n",
    "##########################\n",
    "###SET PATHS IN AND OUT###\n",
    "##########################\n",
    "#PATHS IN\n",
    "pdf_path = 'C:/Users/jesse/Dropbox/Mapping-Vulearable-Pop-Tasks/SD-County-Data/{}/COVID-19 Vaccine Report by Zipcode.pdf'.format(most_recent_date.replace('/', '-'))\n",
    "\n",
    "#additional needed zip info - community name and population\n",
    "zips_info_path = './data/zip_coords_pop.csv'\n",
    "\n",
    "#paths out\n",
    "path_out = './data/sd_zip_vaccines.csv' #feature overwrite\n",
    "path_out2 = './data/sd_zip_vaccines_alldates.csv' # date columns\n",
    "path_out3 = '../covid_data/vaccines/sd_zip_vaccines_{}.csv'.format(most_recent_date.replace('/', '')) # overwrite data archive\n",
    "path_out4 = './data/sd_zip_vaccines_7d.csv' #feature overwrite for 7-day layer\n",
    "path_db = 'C:/Users/jesse/Dropbox/Mapping-Vulearable-Pop-Tasks/SD-County-Data/COVID-Data-Share-at-HDMA-Center/Vaccination/SD_Zip_COVID_Vaccine_{}.csv'.format(most_recent_date.replace('/', ''))\n",
    "\n",
    "vacc_count_map_id = '3a5a90a0b43b42bb823ab4136b8d58e9'\n",
    "conf_cases_map_id = '9b08e97e950f4cd79743e3a8217d4508'\n",
    "vacc_dash = 'https://arcg.is/15ePOz'\n",
    "\n",
    "vacc_7d_layer_id = 'dc90f581b4914e52b382b086423fb6b7'\n",
    "vacc_7d_map_id = '19e5ea7a388c4eb18c70392b7d8f6a03'\n",
    "vacc_7d_dash = 'https://arcg.is/b4iHr'\n",
    "\n",
    "vacc_hpi_id = '694f95f80e6849608470e5ecfc1448d2'\n",
    "vacc_hpi_dash = 'https://experience.arcgis.com/experience/16370187fbb64720b468483638c02e78/'\n",
    "\n",
    "vacc_hpi_7d_id = '7ed91cc1f7454df6b750c784b7ce70d3'\n",
    "vacc_hpi_7d_dash = ''"
   ]
  },
  {
   "cell_type": "markdown",
   "metadata": {},
   "source": [
    "### CONVERT VACCINE PDF TO CSV FILES"
   ]
  },
  {
   "cell_type": "code",
   "execution_count": null,
   "metadata": {},
   "outputs": [],
   "source": [
    "#read pdf\n",
    "tables = tabula.read_pdf(pdf_path, pages = \"all\", multiple_tables = True)"
   ]
  },
  {
   "cell_type": "code",
   "execution_count": null,
   "metadata": {
    "scrolled": true
   },
   "outputs": [],
   "source": [
    "tables[0].head()"
   ]
  },
  {
   "cell_type": "code",
   "execution_count": null,
   "metadata": {
    "scrolled": false
   },
   "outputs": [],
   "source": [
    "#format 1st column zips\n",
    "t1 = tables[0][[1, 2, 3]]\n",
    "#rename columns\n",
    "t1 = t1.rename(columns = {1: 'Zip Code', 2: 'Vacc Count', 3: 'Rate Per 1000'})\n",
    "# drop bad rows\n",
    "t1 = t1.drop(t1.index[0])\n",
    "t1.head()"
   ]
  },
  {
   "cell_type": "code",
   "execution_count": null,
   "metadata": {
    "scrolled": true
   },
   "outputs": [],
   "source": [
    "#format 2nd column zips\n",
    "t2 = tables[0][[4, 6, 8]]\n",
    "#rename columns\n",
    "t2 = t2.rename(columns = {4: 'Zip Code', 6: 'Vacc Count', 8: 'Rate Per 1000'})\n",
    "# drop bad rows\n",
    "t2 = t2.drop(t2.index[[0, 57]])\n",
    "#t2.head()\n",
    "t2.tail()"
   ]
  },
  {
   "cell_type": "code",
   "execution_count": null,
   "metadata": {
    "scrolled": true
   },
   "outputs": [],
   "source": [
    "# merge t1 and t2\n",
    "t1 = t1.append(t2, ignore_index=True)\n",
    "print(len(t1))\n",
    "\n",
    "t1"
   ]
  },
  {
   "cell_type": "code",
   "execution_count": null,
   "metadata": {
    "scrolled": false
   },
   "outputs": [],
   "source": [
    "#format numbers in counts column\n",
    "t1 = t1.fillna(0)\n",
    "\n",
    "for i, row in t1.iterrows():\n",
    "    try:\n",
    "        t1['Vacc Count'][i] = str(t1['Vacc Count'][i].replace(',', '')).replace('*','')\n",
    "        t1['Vacc Count'][i] = int(t1['Vacc Count'][i])\n",
    "    except:\n",
    "        print(t1['Zip Code'][i], t1['Vacc Count'][i])\n",
    "    \n",
    "    try:\n",
    "        t1['Rate Per 1000'][i] = str(t1['Rate Per 1000'][i].replace('***', '0').replace('**', '0'))\n",
    "        t1['Rate Per 1000'][i] = float(t1['Rate Per 1000'][i])\n",
    "    except:\n",
    "        print(t1['Zip Code'][i], t1['Rate Per 1000'][i])\n",
    "\n",
    "t1['Vacc Count'] = t1['Vacc Count'].astype(int)\n",
    "print(type(t1['Vacc Count'][0]))\n",
    "\n",
    "t1['Rate Per 1000'] = t1['Rate Per 1000'].astype(float)\n",
    "print(type(t1['Rate Per 1000'][0]))\n",
    "\n",
    "t1.head()"
   ]
  },
  {
   "cell_type": "code",
   "execution_count": null,
   "metadata": {},
   "outputs": [],
   "source": [
    "# supplemental zip code data\n",
    "zips = pd.read_csv(zips_info_path)\n",
    "zips.head()"
   ]
  },
  {
   "cell_type": "code",
   "execution_count": null,
   "metadata": {
    "scrolled": true
   },
   "outputs": [],
   "source": [
    "# merge vaccine info with zip code info\n",
    "t1['Zip Code'] = t1['Zip Code'].astype(str)\n",
    "zips['Zip'] = zips['Zip'].astype(str)\n",
    "\n",
    "df = pd.merge(zips, t1, how = 'right', left_on = 'Zip', right_on = 'Zip Code')\n",
    "del df['Zip Code']\n",
    "\n",
    "# add data date\n",
    "df['Date'] = most_recent_date\n",
    "df"
   ]
  },
  {
   "cell_type": "code",
   "execution_count": null,
   "metadata": {
    "scrolled": false
   },
   "outputs": [],
   "source": [
    "# prep data for dated column csv\n",
    "df2 = pd.read_csv(path_out2)\n",
    "print(len(df2))\n",
    "df2['Zip'] = df2['Zip'].astype(str)\n",
    "df2 = df2.merge(df[['Zip', 'Vacc Count']], how = \"right\", on = \"Zip\")\n",
    "print(len(df2))\n",
    "df2 = df2.rename(columns = {'Vacc Count': most_recent_date})\n",
    "df2.head()"
   ]
  },
  {
   "cell_type": "code",
   "execution_count": null,
   "metadata": {},
   "outputs": [],
   "source": [
    "# calculate 7-day changes\n",
    "df3 = df2[['Zip', df2.columns[-8], df2.columns[-1]]]\n",
    "df3 = df3.fillna(0)\n",
    "df3['7-Day Vacc Count'] = df3[df3.columns[2]].astype(int) - df3[df3.columns[1]].astype(int)\n",
    "\n",
    "# add 7-day date range column\n",
    "df3['7-Day Date Range'] = '{} - {}'.format(df2.columns[-7].replace('2021', '21'), df2.columns[-1].replace('2021', '21'))\n",
    "\n",
    "del df3[df3.columns[1]]\n",
    "del df3[df3.columns[1]]\n",
    "\n",
    "df3.head()"
   ]
  },
  {
   "cell_type": "code",
   "execution_count": null,
   "metadata": {
    "scrolled": true
   },
   "outputs": [],
   "source": [
    "# merge 7-day vaccines to main df\n",
    "df = df.merge(df3, how = 'left', on = 'Zip')\n",
    "df.head()"
   ]
  },
  {
   "cell_type": "code",
   "execution_count": null,
   "metadata": {},
   "outputs": [],
   "source": [
    "df['7-Day Rate Per 1000'] = 0.0\n",
    "\n",
    "#7d rate per 1000\n",
    "for i, row in df.iterrows():\n",
    "    if df['2018_population'][i] >= 10000:\n",
    "        df['7-Day Rate Per 1000'][i] = round(df['7-Day Vacc Count'][i]/df['2018_population'][i]*1000, 1)\n"
   ]
  },
  {
   "cell_type": "code",
   "execution_count": null,
   "metadata": {},
   "outputs": [],
   "source": [
    "print(len(df))\n",
    "df.tail()"
   ]
  },
  {
   "cell_type": "code",
   "execution_count": null,
   "metadata": {
    "scrolled": true
   },
   "outputs": [],
   "source": [
    "# save feature overwrite info\n",
    "df.to_csv(path_out, index=False)\n",
    "df.to_csv(path_out3, index=False)\n",
    "df.to_csv(path_out4, index=False)"
   ]
  },
  {
   "cell_type": "code",
   "execution_count": null,
   "metadata": {},
   "outputs": [],
   "source": [
    "# save dated columns to csv\n",
    "df2.to_csv(path_out2, index=False)\n",
    "df2.to_csv(path_db, index=False)"
   ]
  },
  {
   "cell_type": "code",
   "execution_count": null,
   "metadata": {},
   "outputs": [],
   "source": [
    "# get max count and rate for map updates\n",
    "max_count = df['Vacc Count'].max()\n",
    "max_rate = df['Rate Per 1000'].max()\n",
    "max_7d = df['7-Day Vacc Count'].max()\n",
    "max_7d_rate = df['7-Day Rate Per 1000'].max()\n",
    "print(max_count, max_rate, max_7d, max_7d_rate)"
   ]
  },
  {
   "cell_type": "markdown",
   "metadata": {},
   "source": [
    "### CONNECT TO AGOL ACCOUNT"
   ]
  },
  {
   "cell_type": "code",
   "execution_count": 71,
   "metadata": {},
   "outputs": [],
   "source": [
    "gis = GIS(\"pro\")"
   ]
  },
  {
   "cell_type": "markdown",
   "metadata": {},
   "source": [
    "### FUNCTIONS"
   ]
  },
  {
   "cell_type": "code",
   "execution_count": 95,
   "metadata": {},
   "outputs": [],
   "source": [
    "def get_map (map_id):\n",
    "    '''\n",
    "    GET MAP DATA FOR SYMBOLOGY CHANGES\n",
    "    '''\n",
    "    m = gis.content.get(map_id)\n",
    "    data = m.get_data()\n",
    "    #Include the below line for prettified JSON\n",
    "    #print(json.dumps(data, indent=4, sort_keys=True))\n",
    "    print(m)\n",
    "    \n",
    "    return data\n",
    "    \n",
    "def update_map (map_id, data):\n",
    "    '''\n",
    "    UPDATE MAP TO SAVE CHANGES\n",
    "    '''\n",
    "    m = gis.content.get(map_id)\n",
    "    # Set the item_properties to include the desired update\n",
    "    properties = {\"text\": json.dumps(data)}\n",
    "    # 'Commit' the updates to the Item\n",
    "    update = m.update(item_properties=properties)\n",
    "    \n",
    "    return update"
   ]
  },
  {
   "cell_type": "markdown",
   "metadata": {},
   "source": [
    "### FEATURE LAYER OVERWRITE"
   ]
  },
  {
   "cell_type": "code",
   "execution_count": null,
   "metadata": {},
   "outputs": [],
   "source": [
    "#get feature layer containing updated data for maps associated with the 7-day COVID-19 vaccines\n",
    "layer = gis.content.get(vacc_7d_layer_id)\n",
    "layer\n",
    "\n",
    "layer_collection = FeatureLayerCollection.fromitem(layer)\n",
    "\n",
    "#call the overwrite() method which can be accessed using the manager property\n",
    "layer_collection.manager.overwrite(path_out4)"
   ]
  },
  {
   "cell_type": "markdown",
   "metadata": {},
   "source": [
    "### UPDATE MAP SYMBOLOGY"
   ]
  },
  {
   "cell_type": "code",
   "execution_count": null,
   "metadata": {},
   "outputs": [],
   "source": [
    "# TOTAL VACC MAP\n",
    "#get map data\n",
    "vacc1_data = get_map(vacc_count_map_id)\n",
    "\n",
    "#adjust symbology for graduated points to reflect new max/min\n",
    "#MAX VACC COUNT\n",
    "vacc1_data['operationalLayers'][2]['layerDefinition']['drawingInfo']['renderer']['authoringInfo']['visualVariables'][0]['maxSliderValue'] = max_count.item()\n",
    "vacc1_data['operationalLayers'][2]['layerDefinition']['drawingInfo']['renderer']['visualVariables'][0]['maxDataValue'] = max_count.item()\n",
    "\n",
    "vacc1_data['operationalLayers'][3]['layerDefinition']['drawingInfo']['renderer']['authoringInfo']['visualVariables'][0]['maxSliderValue'] = max_count.item()\n",
    "vacc1_data['operationalLayers'][3]['layerDefinition']['drawingInfo']['renderer']['visualVariables'][0]['maxDataValue'] = max_count.item()\n",
    "\n",
    "#update map to save changes\n",
    "vacc1_update = update_map(vacc_count_map_id, vacc1_data)\n",
    "vacc1_update"
   ]
  },
  {
   "cell_type": "code",
   "execution_count": null,
   "metadata": {},
   "outputs": [],
   "source": [
    "# TOTAL COVID MAP\n",
    "#get map data\n",
    "vacc2_data = get_map(conf_cases_map_id)\n",
    "\n",
    "#adjust symbology for graduated points to reflect new max/min\n",
    "#MAX VACC COUNT\n",
    "vacc2_data['operationalLayers'][2]['layerDefinition']['drawingInfo']['renderer']['authoringInfo']['visualVariables'][0]['maxSliderValue'] = max_cases\n",
    "vacc2_data['operationalLayers'][2]['layerDefinition']['drawingInfo']['renderer']['visualVariables'][0]['maxDataValue'] = max_cases\n",
    "\n",
    "vacc2_data['operationalLayers'][3]['layerDefinition']['drawingInfo']['renderer']['authoringInfo']['visualVariables'][0]['maxSliderValue'] = max_cases\n",
    "vacc2_data['operationalLayers'][3]['layerDefinition']['drawingInfo']['renderer']['visualVariables'][0]['maxDataValue'] = max_cases\n",
    "\n",
    "#update map to save changes\n",
    "vacc2_update = update_map(conf_cases_map_id, vacc2_data)\n",
    "vacc2_update"
   ]
  },
  {
   "cell_type": "code",
   "execution_count": null,
   "metadata": {},
   "outputs": [],
   "source": [
    "# 7 DAY VACC MAP\n",
    "#get map data\n",
    "vacc3_data = get_map(vacc_7d_map_id)\n",
    "\n",
    "#adjust symbology for graduated points to reflect new max/min\n",
    "#MAX VACC COUNT\n",
    "vacc3_data['operationalLayers'][2]['layerDefinition']['drawingInfo']['renderer']['authoringInfo']['visualVariables'][0]['maxSliderValue'] = max_7d.item()\n",
    "vacc3_data['operationalLayers'][2]['layerDefinition']['drawingInfo']['renderer']['visualVariables'][0]['maxDataValue'] = max_7d.item()\n",
    "\n",
    "vacc3_data['operationalLayers'][3]['layerDefinition']['drawingInfo']['renderer']['authoringInfo']['visualVariables'][0]['maxSliderValue'] = max_7d.item()\n",
    "vacc3_data['operationalLayers'][3]['layerDefinition']['drawingInfo']['renderer']['visualVariables'][0]['maxDataValue'] = max_7d.item()\n",
    "\n",
    "#update map to save changes\n",
    "vacc3_update = update_map(vacc_7d_map_id, vacc3_data)\n",
    "vacc3_update"
   ]
  },
  {
   "cell_type": "code",
   "execution_count": 130,
   "metadata": {},
   "outputs": [
    {
     "name": "stdout",
     "output_type": "stream",
     "text": [
      "<Item title:\"COVID-19 Vaccines and Healthy Places Index (HPI)\" type:Web Map owner:jembury8568_SDSUGeo>\n"
     ]
    },
    {
     "data": {
      "text/plain": [
       "True"
      ]
     },
     "execution_count": 130,
     "metadata": {},
     "output_type": "execute_result"
    }
   ],
   "source": [
    "# TOTAL VACCINE & HPI Dashboard\n",
    "#get map data\n",
    "vacc4_data = get_map(vacc_hpi_id)\n",
    "\n",
    "#adjust symbology for graduated points to reflect new max/min\n",
    "#MAX VACC COUNT\n",
    "# [7], [8], [9] --> size only, no color ramp\n",
    "vacc4_data['operationalLayers'][7]['layerDefinition']['drawingInfo']['renderer']['authoringInfo']['visualVariables'][0]['maxSliderValue'] = max_count.item()\n",
    "vacc4_data['operationalLayers'][7]['layerDefinition']['drawingInfo']['renderer']['visualVariables'][0]['maxDataValue'] = max_count.item()\n",
    "\n",
    "vacc4_data['operationalLayers'][8]['layerDefinition']['drawingInfo']['renderer']['authoringInfo']['visualVariables'][0]['maxSliderValue'] = max_count.item()\n",
    "vacc4_data['operationalLayers'][8]['layerDefinition']['drawingInfo']['renderer']['visualVariables'][0]['maxDataValue'] = max_count.item()\n",
    "\n",
    "vacc4_data['operationalLayers'][9]['layerDefinition']['drawingInfo']['renderer']['authoringInfo']['visualVariables'][0]['maxSliderValue'] = max_count.item()\n",
    "vacc4_data['operationalLayers'][9]['layerDefinition']['drawingInfo']['renderer']['visualVariables'][0]['maxDataValue'] = max_count.item()\n",
    "\n",
    "#size info\n",
    "vacc4_data['operationalLayers'][10]['layerDefinition']['drawingInfo']['renderer']['authoringInfo']['visualVariables'][0]['maxSliderValue'] = max_count.item()\n",
    "vacc4_data['operationalLayers'][10]['layerDefinition']['drawingInfo']['renderer']['visualVariables'][1]['maxDataValue'] = max_count.item()\n",
    "# color info\n",
    "vacc4_data['operationalLayers'][10]['layerDefinition']['drawingInfo']['renderer']['authoringInfo']['visualVariables'][1]['maxSliderValue'] = max_rate.item()\n",
    "vacc4_data['operationalLayers'][10]['layerDefinition']['drawingInfo']['renderer']['visualVariables'][0]['maxDataValue'] = max_rate.item()\n",
    "\n",
    "#size info\n",
    "vacc4_data['operationalLayers'][11]['layerDefinition']['drawingInfo']['renderer']['authoringInfo']['visualVariables'][0]['maxSliderValue'] = max_count.item()\n",
    "vacc4_data['operationalLayers'][11]['layerDefinition']['drawingInfo']['renderer']['visualVariables'][1]['maxDataValue'] = max_count.item()\n",
    "# color info\n",
    "vacc4_data['operationalLayers'][11]['layerDefinition']['drawingInfo']['renderer']['authoringInfo']['visualVariables'][1]['maxSliderValue'] = max_rate.item()\n",
    "vacc4_data['operationalLayers'][11]['layerDefinition']['drawingInfo']['renderer']['visualVariables'][0]['maxDataValue'] = max_rate.item()\n",
    "\n",
    "#size info\n",
    "vacc4_data['operationalLayers'][12]['layerDefinition']['drawingInfo']['renderer']['authoringInfo']['visualVariables'][0]['maxSliderValue'] = max_count.item()\n",
    "vacc4_data['operationalLayers'][12]['layerDefinition']['drawingInfo']['renderer']['visualVariables'][0]['maxDataValue'] = max_count.item()\n",
    "# color info\n",
    "vacc4_data['operationalLayers'][12]['layerDefinition']['drawingInfo']['renderer']['authoringInfo']['visualVariables'][1]['maxSliderValue'] = max_rate.item()\n",
    "vacc4_data['operationalLayers'][12]['layerDefinition']['drawingInfo']['renderer']['visualVariables'][1]['maxDataValue'] = max_rate.item()\n",
    "\n",
    "#update map to save changes\n",
    "vacc4_update = update_map(vacc_hpi_id, vacc4_data)\n",
    "vacc4_update"
   ]
  },
  {
   "cell_type": "code",
   "execution_count": null,
   "metadata": {},
   "outputs": [],
   "source": [
    "# 7-DAY VACCINE & HPI Dashboard\n",
    "#get map data\n",
    "vacc5_data = get_map(vacc_hpi_7d_id)\n",
    "\n",
    "#adjust symbology for graduated points to reflect new max/min\n",
    "#MAX VACC COUNT\n",
    "# [7], [8], [9] --> size only, no color ramp\n",
    "vacc5_data['operationalLayers'][7]['layerDefinition']['drawingInfo']['renderer']['authoringInfo']['visualVariables'][0]['maxSliderValue'] = max_7d.item()\n",
    "vacc5_data['operationalLayers'][7]['layerDefinition']['drawingInfo']['renderer']['visualVariables'][0]['maxDataValue'] = max_7d.item()\n",
    "\n",
    "vacc5_data['operationalLayers'][8]['layerDefinition']['drawingInfo']['renderer']['authoringInfo']['visualVariables'][0]['maxSliderValue'] = max_7d.item()\n",
    "vacc5_data['operationalLayers'][8]['layerDefinition']['drawingInfo']['renderer']['visualVariables'][0]['maxDataValue'] = max_7d.item()\n",
    "\n",
    "vacc5_data['operationalLayers'][9]['layerDefinition']['drawingInfo']['renderer']['authoringInfo']['visualVariables'][0]['maxSliderValue'] = max_7d.item()\n",
    "vacc5_data['operationalLayers'][9]['layerDefinition']['drawingInfo']['renderer']['visualVariables'][0]['maxDataValue'] = max_7d.item()\n",
    "\n",
    "#size info\n",
    "vacc5_data['operationalLayers'][10]['layerDefinition']['drawingInfo']['renderer']['authoringInfo']['visualVariables'][0]['maxSliderValue'] = max_7d.item()\n",
    "vacc5_data['operationalLayers'][10]['layerDefinition']['drawingInfo']['renderer']['visualVariables'][1]['maxDataValue'] = max_7d.item()\n",
    "# color info\n",
    "vacc5_data['operationalLayers'][10]['layerDefinition']['drawingInfo']['renderer']['authoringInfo']['visualVariables'][1]['maxSliderValue'] = max_7d_rate.item()\n",
    "vacc5_data['operationalLayers'][10]['layerDefinition']['drawingInfo']['renderer']['visualVariables'][0]['maxDataValue'] = max_7d_rate.item()\n",
    "\n",
    "#size info\n",
    "vacc5_data['operationalLayers'][11]['layerDefinition']['drawingInfo']['renderer']['authoringInfo']['visualVariables'][0]['maxSliderValue'] = max_7d.item()\n",
    "vacc5_data['operationalLayers'][11]['layerDefinition']['drawingInfo']['renderer']['visualVariables'][1]['maxDataValue'] = max_7d.item()\n",
    "# color info\n",
    "vacc5_data['operationalLayers'][11]['layerDefinition']['drawingInfo']['renderer']['authoringInfo']['visualVariables'][1]['maxSliderValue'] = max_7d_rate.item()\n",
    "vacc5_data['operationalLayers'][11]['layerDefinition']['drawingInfo']['renderer']['visualVariables'][0]['maxDataValue'] = max_7d_rate.item()\n",
    "\n",
    "#size info\n",
    "vacc5_data['operationalLayers'][12]['layerDefinition']['drawingInfo']['renderer']['authoringInfo']['visualVariables'][0]['maxSliderValue'] = max_7d.item()\n",
    "vacc5_data['operationalLayers'][12]['layerDefinition']['drawingInfo']['renderer']['visualVariables'][0]['maxDataValue'] = max_7d.item()\n",
    "# color info\n",
    "vacc5_data['operationalLayers'][12]['layerDefinition']['drawingInfo']['renderer']['authoringInfo']['visualVariables'][1]['maxSliderValue'] = max_7d_rate.item()\n",
    "vacc5_data['operationalLayers'][12]['layerDefinition']['drawingInfo']['renderer']['visualVariables'][1]['maxDataValue'] = max_7d_rate.item()\n",
    "\n",
    "#update map to save changes\n",
    "vacc5_update = update_map(vacc_hpi_7d_id, vacc5_data)\n",
    "vacc5_update"
   ]
  },
  {
   "cell_type": "markdown",
   "metadata": {},
   "source": [
    "### VIEW UPDATED DASHBOARD"
   ]
  },
  {
   "cell_type": "code",
   "execution_count": null,
   "metadata": {
    "scrolled": true
   },
   "outputs": [],
   "source": [
    "webbrowser.open(vacc_dash, new=2)\n",
    "webbrowser.open(vacc_7d_dash, new=2)\n",
    "webbrowser.open(vacc_hpi_dash, new=2)\n",
    "# webbrowser.open(vacc_hpi_7d_dash, new=2)"
   ]
  },
  {
   "cell_type": "code",
   "execution_count": null,
   "metadata": {},
   "outputs": [],
   "source": []
  }
 ],
 "metadata": {
  "kernelspec": {
   "display_name": "ArcGISPro",
   "language": "Python",
   "name": "python3"
  },
  "language_info": {
   "file_extension": ".py",
   "name": "python",
   "version": "3"
  }
 },
 "nbformat": 4,
 "nbformat_minor": 2
}
