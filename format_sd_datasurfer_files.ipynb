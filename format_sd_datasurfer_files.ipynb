{
 "cells": [
  {
   "cell_type": "markdown",
   "metadata": {},
   "source": [
    "# Format Ethnicity Data from [SANDAG Data Surfer](https://datasurfer.sandag.org/)\n",
    "Center for Human Dynamics in the Mobile Age (HDMA) at San Diego State University\n",
    "\n",
    "Jessica Embury"
   ]
  },
  {
   "cell_type": "markdown",
   "metadata": {},
   "source": [
    "### MODULES"
   ]
  },
  {
   "cell_type": "code",
   "execution_count": null,
   "metadata": {},
   "outputs": [],
   "source": [
    "import pandas as pd"
   ]
  },
  {
   "cell_type": "markdown",
   "metadata": {},
   "source": [
    "### FUNCTION TO CLEAN & EXPORT DATA SURFER FILES\n",
    "Supports all demographic categories (Ethnicity, Housing, Income, etc.)"
   ]
  },
  {
   "cell_type": "code",
   "execution_count": null,
   "metadata": {},
   "outputs": [],
   "source": [
    "def fix_data_surfer_file (path_in, year, category, option, numbers_column, path_out):\n",
    "    '''\n",
    "    Format San Diego Data Surfer files for use in ArcGIS Pro, export formatted CSV file.\n",
    "    '''\n",
    "    \n",
    "    #create dataframe from unformatted data\n",
    "    raw_df = pd.read_csv(path_in)\n",
    "    \n",
    "    #subset data for desired year only\n",
    "    year_df = raw_df.query('YEAR == {}'.format(year))\n",
    "    print(year_df.head())\n",
    "    \n",
    "    #get data frame with list of all SRAs, eliminate duplicates\n",
    "    sra_df = year_df[['SRA']]\n",
    "    print(sra_df.head())\n",
    "    \n",
    "    #sra_df.drop_duplicates(keep = False) - didn't work in testing\n",
    "    sra_df['duplicate'] = sra_df['SRA'].duplicated()\n",
    "    \n",
    "    df = sra_df.query('duplicate == False')\n",
    "    del df['duplicate']\n",
    "    df = df.reset_index(drop = True)\n",
    "    print(df.head())\n",
    "    \n",
    "    #add each category option as a column in the dataframe\n",
    "    for i in range(len(option)):\n",
    "        \n",
    "        temp_df = year_df.query('{} == \"{}\"'.format(category, option[i]))\n",
    "        print(temp_df.head())\n",
    "        temp_df = temp_df.rename(columns = ({numbers_column : option[i]}))\n",
    "        print(temp_df.head())\n",
    "        del temp_df['YEAR']\n",
    "        print(temp_df.head())\n",
    "        del temp_df[category]\n",
    "        print(temp_df.head())\n",
    "        \n",
    "        if (i == 0):\n",
    "            print(temp_df.head())\n",
    "            df = pd.merge(df, temp_df, on = df.SRA, how = 'outer')\n",
    "            print('i==0')\n",
    "        else: \n",
    "            df = df.rename(columns = {'key_0':'SRA'})\n",
    "            df = pd.merge(df, temp_df, on = df.SRA, how = 'inner')\n",
    "        \n",
    "            \n",
    "        del df['SRA_x']\n",
    "        del df['SRA_y']\n",
    "        \n",
    "        df[option[i]] = pd.to_numeric(df[option[i]])\n",
    "        \n",
    "    df = df.rename(columns = {'key_0':'SRA'}) \n",
    "        \n",
    "    #get sum of all categories\n",
    "    df['total'] = df.sum(axis=1)\n",
    "        \n",
    "    df.to_csv(path_out)            \n",
    "        "
   ]
  },
  {
   "cell_type": "markdown",
   "metadata": {},
   "source": [
    "### PARAMETERS"
   ]
  },
  {
   "cell_type": "code",
   "execution_count": null,
   "metadata": {},
   "outputs": [],
   "source": [
    "#Ethnicity data parameter\n",
    "path_in = './data/ethnicity_populations_sra.csv'\n",
    "year = '2019'\n",
    "category = 'ETHNICITY'\n",
    "option = ['American Indian', 'Asian', 'Black', 'Hispanic', 'Other', 'Pacific Islander', 'Two or More', 'White']\n",
    "numbers_column = 'POPULATION'\n",
    "path_out = './data/ethnicity_sra_2019.csv'"
   ]
  },
  {
   "cell_type": "markdown",
   "metadata": {},
   "source": [
    "### FUNCTION CALL"
   ]
  },
  {
   "cell_type": "code",
   "execution_count": null,
   "metadata": {
    "scrolled": true
   },
   "outputs": [],
   "source": [
    "#fix ethnicity data\n",
    "fix_data_surfer_file (path_in, year, category, option, numbers_column, path_out)"
   ]
  },
  {
   "cell_type": "code",
   "execution_count": null,
   "metadata": {},
   "outputs": [],
   "source": []
  }
 ],
 "metadata": {
  "kernelspec": {
   "display_name": "ArcGISPro",
   "language": "Python",
   "name": "python3"
  },
  "language_info": {
   "file_extension": ".py",
   "name": "python",
   "version": "3"
  }
 },
 "nbformat": 4,
 "nbformat_minor": 2
}
