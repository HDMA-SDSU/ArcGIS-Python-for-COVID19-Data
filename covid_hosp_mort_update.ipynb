{
 "cells": [
  {
   "cell_type": "markdown",
   "metadata": {},
   "source": [
    "# COVID-19 Hospitalization, ICU & Mortality Dashboard Update\n",
    "Center for Human Dynamics in the Mobile Age (HDMA) at San Diego State University\n",
    "\n",
    "Jessica Embury"
   ]
  },
  {
   "cell_type": "markdown",
   "metadata": {},
   "source": [
    "### Modules"
   ]
  },
  {
   "cell_type": "code",
   "execution_count": null,
   "metadata": {},
   "outputs": [],
   "source": [
    "import arcgis\n",
    "from arcgis.gis import GIS\n",
    "from arcgis import geometry\n",
    "from arcgis.features import GeoAccessor, GeoSeriesAccessor\n",
    "from arcgis.features import FeatureLayerCollection\n",
    "from arcgis.features import FeatureLayer\n",
    "from arcgis.mapping import WebMap\n",
    "import pandas as pd\n",
    "pd.options.mode.chained_assignment = None  # default='warn'\n",
    "import json\n",
    "import sys\n",
    "import webbrowser"
   ]
  },
  {
   "cell_type": "markdown",
   "metadata": {},
   "source": [
    "### User Entered Variables"
   ]
  },
  {
   "cell_type": "code",
   "execution_count": null,
   "metadata": {},
   "outputs": [],
   "source": [
    "###############\n",
    "###SET DATES###\n",
    "###############\n",
    "file_date = '5SEP2020'\n",
    "formatted_date = '09052020'\n",
    "\n",
    "##########################\n",
    "###SET PATHS IN AND OUT###\n",
    "##########################\n",
    "#PATHS IN\n",
    "sra_in = './data/sra_info.csv'\n",
    "hosp_in = '../covid_data/hosp_icu_mort/COVID19_HospRate_{}.csv'.format(file_date)\n",
    "icu_in = '../covid_data/hosp_icu_mort/COVID19_ICURate_{}.csv'.format(file_date)\n",
    "mort_in = '../covid_data/hosp_icu_mort/COVID19_MortalityRate_{}.csv'.format(file_date)\n",
    "\n",
    "#PATHS OUT\n",
    "hosp_out = './data/covid19_hosp_upload.csv'\n",
    "icu_out = './data/covid_icu_upload.csv'\n",
    "mort_out = './data/covid_mort_upload.csv'\n",
    "\n",
    "#Cumulative Dates Files\n",
    "hosp_dates = './data/covid19_hospitalization.csv'\n",
    "icu_dates = './data/covid_icu.csv'\n",
    "mort_dates = './data/covid_mortality.csv'\n",
    "\n",
    "hosp_db = 'C:/Users/jesse/Dropbox/Mapping-Vulearable-Pop-Tasks/SD-County-Data/COVID-Data-Share-at-HDMA-Center/Hosp-ICU-Mortalities/covid19_hospitalization_{}.csv'.format(formatted_date)\n",
    "icu_db = 'C:/Users/jesse/Dropbox/Mapping-Vulearable-Pop-Tasks/SD-County-Data/COVID-Data-Share-at-HDMA-Center/Hosp-ICU-Mortalities/covid19_icu_{}.csv'.format(formatted_date)\n",
    "mort_db = 'C:/Users/jesse/Dropbox/Mapping-Vulearable-Pop-Tasks/SD-County-Data/COVID-Data-Share-at-HDMA-Center/Hosp-ICU-Mortalities/covid19_mortalities_{}.csv'.format(formatted_date)\n",
    "\n",
    "######################################\n",
    "###ARCGIS ACCOUNT LOGIN INFORMATION###\n",
    "######################################\n",
    "#reference for authentication schemes: https://developers.arcgis.com/python/guide/working-with-different-authentication-schemes/\n",
    "pro = \"pro\"\n",
    "#portal =''\n",
    "#username=''\n",
    "#password=''\n",
    "\n",
    "################################\n",
    "###ARCGIS DETAILS FOR UPDATES###\n",
    "################################\n",
    "hosp_layer_id = '2f3443de1a9345d79316484d6c273342'\n",
    "hosp_map_id = '3b5af1a898ae49e3825bac21badea77c'\n",
    "hosp_csv_id = '0413f1006e94418b8ecd3af609ec5dff'\n",
    "\n",
    "icu_layer_id ='164de458148f4c9db3708cc8e99ddbc8'\n",
    "icu_map_id = '128d6eb1547c4958818a47464da1a079'\n",
    "icu_csv_id = '7dc2c321393e402b9931d5595fae8678'\n",
    "\n",
    "mort_layer_id = '1bf213866fad441db609577cad03c7d9'\n",
    "mort_map_id = '64f43b6d62ef46c18bf6db55fce5afce'\n",
    "mort_csv_id = '11047e66ca6f483d8873078ef392e18c'\n",
    "\n",
    "dash = 'https://arcg.is/0amqvz'"
   ]
  },
  {
   "cell_type": "markdown",
   "metadata": {},
   "source": [
    "### Connect to ArcGIS Account"
   ]
  },
  {
   "cell_type": "code",
   "execution_count": null,
   "metadata": {},
   "outputs": [],
   "source": [
    "gis = GIS(pro)\n",
    "#gis = GIS(portal, username, password)"
   ]
  },
  {
   "cell_type": "markdown",
   "metadata": {},
   "source": [
    "### Functions for Map Modifications"
   ]
  },
  {
   "cell_type": "code",
   "execution_count": null,
   "metadata": {},
   "outputs": [],
   "source": [
    "def get_map (map_id):\n",
    "    '''\n",
    "    GET MAP DATA FOR SYMBOLOGY CHANGES\n",
    "    '''    \n",
    "    m = gis.content.get(map_id)\n",
    "    data = m.get_data()\n",
    "    print(m)    \n",
    "    return data\n",
    "\n",
    "def update_map (map_id, data):\n",
    "    '''\n",
    "    UPDATE MAP TO SAVE CHANGES\n",
    "    '''\n",
    "    m = gis.content.get(map_id)  \n",
    "    # Set the item_properties to include the desired update\n",
    "    properties = {\"text\": json.dumps(data)}\n",
    "    # 'Commit' the updates to the Item\n",
    "    update = m.update(item_properties=properties)    \n",
    "    return update"
   ]
  },
  {
   "cell_type": "markdown",
   "metadata": {},
   "source": [
    "# HOSPITALIZATION"
   ]
  },
  {
   "cell_type": "markdown",
   "metadata": {},
   "source": [
    "### Format Data"
   ]
  },
  {
   "cell_type": "code",
   "execution_count": null,
   "metadata": {
    "scrolled": true
   },
   "outputs": [],
   "source": [
    "#BASE SRA DATA\n",
    "sra = pd.read_csv(sra_in)\n",
    "print(len(sra))\n",
    "sra.head()"
   ]
  },
  {
   "cell_type": "code",
   "execution_count": null,
   "metadata": {
    "scrolled": true
   },
   "outputs": [],
   "source": [
    "hosp = pd.read_csv(hosp_in)\n",
    "date = hosp['Date'][0]\n",
    "print(date)\n",
    "hosp.head()"
   ]
  },
  {
   "cell_type": "code",
   "execution_count": null,
   "metadata": {},
   "outputs": [],
   "source": [
    "del hosp['COVID-19\\nTotal\\nHospitalization\\nRate\\n(Suppressed)']\n",
    "hosp = hosp.rename(columns = {'Allocated\\nHospitalization\\nCount (Raw)':'hosp_count', 'Geography':'sra_name'})\n",
    "hosp = hosp.fillna(0)\n",
    "hosp.head()"
   ]
  },
  {
   "cell_type": "code",
   "execution_count": null,
   "metadata": {
    "scrolled": false
   },
   "outputs": [],
   "source": [
    "#merge to sra df with coordinates\n",
    "hosp_merge = sra.merge(hosp, how='left', on='sra_name')\n",
    "hosp_merge['label'] = hosp_merge['hosp_count'].astype(str)\n",
    "print(len(hosp_merge))\n",
    "hosp_merge.head()"
   ]
  },
  {
   "cell_type": "code",
   "execution_count": null,
   "metadata": {},
   "outputs": [],
   "source": [
    "#export csv for feature layer overwrite\n",
    "hosp_merge.to_csv(hosp_out, index=False)"
   ]
  },
  {
   "cell_type": "code",
   "execution_count": null,
   "metadata": {},
   "outputs": [],
   "source": [
    "#save csv with a column for every date\n",
    "#prepare new data for addition to existing csv\n",
    "hosp_temp = hosp_merge[['sra_name','hosp_count']]\n",
    "hosp_temp = hosp_temp.rename(columns = {'hosp_count':'{}'.format(date)})\n",
    "hosp_temp.head()"
   ]
  },
  {
   "cell_type": "code",
   "execution_count": null,
   "metadata": {
    "scrolled": true
   },
   "outputs": [],
   "source": [
    "#add new date column to existing csv\n",
    "hosp_cum = pd.read_csv(hosp_dates)\n",
    "hosp_cum = hosp_cum.merge(hosp_temp, on='sra_name')\n",
    "hosp_cum.to_csv(hosp_dates, index=False)\n",
    "hosp_cum.to_csv(hosp_db, index=False)\n",
    "hosp_cum.head()"
   ]
  },
  {
   "cell_type": "markdown",
   "metadata": {},
   "source": [
    "### Overwrite Hospitalization Feature Layer and CSV File"
   ]
  },
  {
   "cell_type": "code",
   "execution_count": null,
   "metadata": {},
   "outputs": [],
   "source": [
    "#overwrite master csv with all dates data\n",
    "csv_item = gis.content.get(hosp_csv_id)\n",
    "csv_item.update({}, hosp_dates)"
   ]
  },
  {
   "cell_type": "code",
   "execution_count": null,
   "metadata": {},
   "outputs": [],
   "source": [
    "#get feature layer containing updated data \n",
    "hosp_layer = gis.content.get(hosp_layer_id)\n",
    "hosp_layer\n",
    "\n",
    "hosp_layer_collection = FeatureLayerCollection.fromitem(hosp_layer)\n",
    "\n",
    "#call the overwrite() method which can be accessed using the manager property\n",
    "hosp_layer_collection.manager.overwrite(hosp_out)"
   ]
  },
  {
   "cell_type": "markdown",
   "metadata": {},
   "source": [
    "### Modify Hospitalization Map Symbology"
   ]
  },
  {
   "cell_type": "code",
   "execution_count": null,
   "metadata": {
    "scrolled": true
   },
   "outputs": [],
   "source": [
    "#get hospitalization max for graduated point symbology\n",
    "hosp_max = hosp_merge['hosp_count'].max()\n",
    "\n",
    "#get map data\n",
    "hosp_map = get_map(hosp_map_id)\n",
    "\n",
    "#set max value for graduated points symbols\n",
    "hosp_map['operationalLayers'][1]['layerDefinition']['drawingInfo']['renderer']['visualVariables'][0]['maxDataValue'] = hosp_max.item()\n",
    "hosp_map['operationalLayers'][1]['layerDefinition']['drawingInfo']['renderer']['authoringInfo']['visualVariables'][0]['maxSliderValue'] = hosp_max.item()\n",
    "hosp_map['operationalLayers'][2]['layerDefinition']['drawingInfo']['renderer']['visualVariables'][0]['maxDataValue'] = hosp_max.item()\n",
    "hosp_map['operationalLayers'][2]['layerDefinition']['drawingInfo']['renderer']['authoringInfo']['visualVariables'][0]['maxSliderValue'] = hosp_max.item()\n",
    "\n",
    "#update map to save changes\n",
    "hosp_map_update = update_map(hosp_map_id, hosp_map)\n",
    "hosp_map_update"
   ]
  },
  {
   "cell_type": "markdown",
   "metadata": {},
   "source": [
    "# ICU BEDS"
   ]
  },
  {
   "cell_type": "markdown",
   "metadata": {},
   "source": [
    "### Format Data"
   ]
  },
  {
   "cell_type": "code",
   "execution_count": null,
   "metadata": {},
   "outputs": [],
   "source": [
    "icu = pd.read_csv(icu_in)\n",
    "date = icu['Date'][0]\n",
    "icu.head()"
   ]
  },
  {
   "cell_type": "code",
   "execution_count": null,
   "metadata": {},
   "outputs": [],
   "source": [
    "del icu['COVID-19\\nTotal ICU\\nRate\\n(Suppressed)']\n",
    "icu = icu.rename(columns = {'Allocated\\nICU\\nCount\\n(Raw)':'icu_count', 'Geography':'sra_name'})\n",
    "icu = icu.fillna(0)\n",
    "icu.head()"
   ]
  },
  {
   "cell_type": "code",
   "execution_count": null,
   "metadata": {},
   "outputs": [],
   "source": [
    "#merge to sra df with coordinates\n",
    "icu_merge = sra.merge(icu, how='left', on='sra_name')\n",
    "icu_merge['label'] = icu_merge['icu_count'].astype(str)\n",
    "print(len(icu_merge))\n",
    "icu_merge.head()"
   ]
  },
  {
   "cell_type": "code",
   "execution_count": null,
   "metadata": {},
   "outputs": [],
   "source": [
    "#export csv for feature layer overwrite\n",
    "icu_merge.to_csv(icu_out, index=False)"
   ]
  },
  {
   "cell_type": "code",
   "execution_count": null,
   "metadata": {},
   "outputs": [],
   "source": [
    "#save csv with a column for every date\n",
    "#prepare new data for addition to existing csv\n",
    "icu_temp = icu_merge[['sra_name','icu_count']]\n",
    "icu_temp = icu_temp.rename(columns = {'icu_count':'{}'.format(date)})\n",
    "icu_temp.head()"
   ]
  },
  {
   "cell_type": "code",
   "execution_count": null,
   "metadata": {},
   "outputs": [],
   "source": [
    "#add new date column to existing csv\n",
    "icu_cum = pd.read_csv(icu_dates)\n",
    "icu_cum = icu_cum.merge(icu_temp, on='sra_name')\n",
    "icu_cum.to_csv(icu_dates, index=False)\n",
    "icu_cum.to_csv(icu_db, index=False)\n",
    "icu_cum.head()"
   ]
  },
  {
   "cell_type": "markdown",
   "metadata": {},
   "source": [
    "### Overwrite ICU Feature Layer and CSV File"
   ]
  },
  {
   "cell_type": "code",
   "execution_count": null,
   "metadata": {},
   "outputs": [],
   "source": [
    "#overwrite master csv with all dates data\n",
    "csv_item = gis.content.get(icu_csv_id)\n",
    "csv_item.update({}, icu_dates)"
   ]
  },
  {
   "cell_type": "code",
   "execution_count": null,
   "metadata": {},
   "outputs": [],
   "source": [
    "#get feature layer containing updated data \n",
    "icu_layer = gis.content.get(icu_layer_id)\n",
    "icu_layer\n",
    "\n",
    "icu_layer_collection = FeatureLayerCollection.fromitem(icu_layer)\n",
    "\n",
    "#call the overwrite() method which can be accessed using the manager property\n",
    "icu_layer_collection.manager.overwrite(icu_out)"
   ]
  },
  {
   "cell_type": "markdown",
   "metadata": {},
   "source": [
    "### Modify ICU Map Symbology"
   ]
  },
  {
   "cell_type": "code",
   "execution_count": null,
   "metadata": {},
   "outputs": [],
   "source": [
    "#get icu max for graduated point symbology\n",
    "icu_max = icu_merge['icu_count'].max()\n",
    "\n",
    "#get map data\n",
    "icu_map = get_map(icu_map_id)\n",
    "\n",
    "#set max value for graduated points symbols\n",
    "icu_map['operationalLayers'][1]['layerDefinition']['drawingInfo']['renderer']['visualVariables'][0]['maxDataValue'] = icu_max.item()\n",
    "icu_map['operationalLayers'][1]['layerDefinition']['drawingInfo']['renderer']['authoringInfo']['visualVariables'][0]['maxSliderValue'] = icu_max.item()\n",
    "icu_map['operationalLayers'][2]['layerDefinition']['drawingInfo']['renderer']['visualVariables'][0]['maxDataValue'] = icu_max.item()\n",
    "icu_map['operationalLayers'][2]['layerDefinition']['drawingInfo']['renderer']['authoringInfo']['visualVariables'][0]['maxSliderValue'] = icu_max.item()\n",
    "\n",
    "#update map to save changes\n",
    "icu_map_update = update_map(icu_map_id, icu_map)\n",
    "icu_map_update"
   ]
  },
  {
   "cell_type": "markdown",
   "metadata": {},
   "source": [
    "# MORTALITY"
   ]
  },
  {
   "cell_type": "markdown",
   "metadata": {},
   "source": [
    "### Format Data"
   ]
  },
  {
   "cell_type": "code",
   "execution_count": null,
   "metadata": {},
   "outputs": [],
   "source": [
    "mort = pd.read_csv(mort_in)\n",
    "date = mort['Date'][0]\n",
    "print(date)\n",
    "\n",
    "mort.head()"
   ]
  },
  {
   "cell_type": "code",
   "execution_count": null,
   "metadata": {},
   "outputs": [],
   "source": [
    "del mort['COVID-19\\nTotal\\nMortality\\nRate\\n(Suppressed)']\n",
    "mort = mort.rename(columns = {'Allocated\\nDeath\\nCount\\n(Raw)':'mort_count', 'Geography':'sra_name'})\n",
    "mort = mort.fillna(0)\n",
    "mort.head()"
   ]
  },
  {
   "cell_type": "code",
   "execution_count": null,
   "metadata": {},
   "outputs": [],
   "source": [
    "#merge to sra df with coordinates\n",
    "mort_merge = sra.merge(mort, how='left', on='sra_name')\n",
    "mort_merge['label'] = mort_merge['mort_count'].astype(str)\n",
    "print(len(mort_merge))\n",
    "mort_merge.head()"
   ]
  },
  {
   "cell_type": "code",
   "execution_count": null,
   "metadata": {},
   "outputs": [],
   "source": [
    "#export csv for feature layer overwrite\n",
    "mort_merge.to_csv(mort_out, index=False)"
   ]
  },
  {
   "cell_type": "code",
   "execution_count": null,
   "metadata": {},
   "outputs": [],
   "source": [
    "#save csv with a column for every date\n",
    "#prepare new data for addition to existing csv\n",
    "mort_temp = mort_merge[['sra_name','mort_count']]\n",
    "mort_temp = mort_temp.rename(columns = {'mort_count':'{}'.format(date)})\n",
    "mort_temp.head()"
   ]
  },
  {
   "cell_type": "code",
   "execution_count": null,
   "metadata": {},
   "outputs": [],
   "source": [
    "#add new date column to existing csv\n",
    "mort_cum = pd.read_csv(mort_dates)\n",
    "mort_cum = mort_cum.merge(mort_temp, on='sra_name')\n",
    "mort_cum.to_csv(mort_dates, index=False)\n",
    "mort_cum.to_csv(mort_db, index=False)\n",
    "mort_cum.head()"
   ]
  },
  {
   "cell_type": "markdown",
   "metadata": {},
   "source": [
    "### Overwrite Mortality Feature Layer and CSV File"
   ]
  },
  {
   "cell_type": "code",
   "execution_count": null,
   "metadata": {},
   "outputs": [],
   "source": [
    "#overwrite master csv with all dates data\n",
    "csv_item = gis.content.get(mort_csv_id)\n",
    "csv_item.update({}, mort_dates)"
   ]
  },
  {
   "cell_type": "code",
   "execution_count": null,
   "metadata": {},
   "outputs": [],
   "source": [
    "#get feature layer containing updated data \n",
    "mort_layer = gis.content.get(mort_layer_id)\n",
    "mort_layer\n",
    "\n",
    "mort_layer_collection = FeatureLayerCollection.fromitem(mort_layer)\n",
    "\n",
    "#call the overwrite() method which can be accessed using the manager property\n",
    "mort_layer_collection.manager.overwrite(mort_out)"
   ]
  },
  {
   "cell_type": "markdown",
   "metadata": {},
   "source": [
    "### Modify Mortality Map Symbology"
   ]
  },
  {
   "cell_type": "code",
   "execution_count": null,
   "metadata": {},
   "outputs": [],
   "source": [
    "#get mortality max for graduated point symbology\n",
    "mort_max = mort_merge['mort_count'].max()\n",
    "\n",
    "#get map data\n",
    "mort_map = get_map(mort_map_id)\n",
    "\n",
    "#set max value for graduated points symbols\n",
    "mort_map['operationalLayers'][1]['layerDefinition']['drawingInfo']['renderer']['visualVariables'][0]['maxDataValue'] = mort_max.item()\n",
    "mort_map['operationalLayers'][1]['layerDefinition']['drawingInfo']['renderer']['authoringInfo']['visualVariables'][0]['maxSliderValue'] = mort_max.item()\n",
    "mort_map['operationalLayers'][2]['layerDefinition']['drawingInfo']['renderer']['visualVariables'][0]['maxDataValue'] = mort_max.item()\n",
    "mort_map['operationalLayers'][2]['layerDefinition']['drawingInfo']['renderer']['authoringInfo']['visualVariables'][0]['maxSliderValue'] = mort_max.item()\n",
    "\n",
    "#update map to save changes\n",
    "mort_map_update = update_map(mort_map_id, mort_map)\n",
    "mort_map_update"
   ]
  },
  {
   "cell_type": "code",
   "execution_count": null,
   "metadata": {},
   "outputs": [],
   "source": [
    "webbrowser.open(dash, new=2)"
   ]
  }
 ],
 "metadata": {
  "kernelspec": {
   "display_name": "ArcGISPro",
   "language": "Python",
   "name": "python3"
  },
  "language_info": {
   "file_extension": ".py",
   "name": "python",
   "version": "3"
  }
 },
 "nbformat": 4,
 "nbformat_minor": 2
}
