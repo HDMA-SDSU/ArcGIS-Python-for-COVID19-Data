{
 "cells": [
  {
   "cell_type": "markdown",
   "metadata": {},
   "source": [
    "# COVID-19 Hospitalization, ICU & Mortality Dashboard Update\n",
    "Center for Human Dynamics in the Mobile Age (HDMA) at San Diego State University\n",
    "\n",
    "Jessica Embury"
   ]
  },
  {
   "cell_type": "markdown",
   "metadata": {},
   "source": [
    "### Modules"
   ]
  },
  {
   "cell_type": "code",
   "execution_count": 23,
   "metadata": {},
   "outputs": [],
   "source": [
    "import arcgis\n",
    "from arcgis.gis import GIS\n",
    "from arcgis import geometry\n",
    "from arcgis.features import GeoAccessor, GeoSeriesAccessor\n",
    "from arcgis.features import FeatureLayerCollection\n",
    "from arcgis.features import FeatureLayer\n",
    "from arcgis.mapping import WebMap\n",
    "import pandas as pd\n",
    "pd.options.mode.chained_assignment = None  # default='warn'\n",
    "import json\n",
    "import sys\n",
    "import webbrowser"
   ]
  },
  {
   "cell_type": "markdown",
   "metadata": {},
   "source": [
    "### User Entered Variables"
   ]
  },
  {
   "cell_type": "code",
   "execution_count": 24,
   "metadata": {},
   "outputs": [],
   "source": [
    "###############\n",
    "###SET DATES###\n",
    "###############\n",
    "file_date = '5SEP2020'\n",
    "\n",
    "##########################\n",
    "###SET PATHS IN AND OUT###\n",
    "##########################\n",
    "#PATHS IN\n",
    "sra_in = 'data/sra_info.csv'\n",
    "hosp_in = 'COVID19_HospRate_{}.csv'.format(file_date)\n",
    "icu_in = 'COVID19_ICURate_{}.csv'.format(file_date)\n",
    "mort_in = 'COVID19_MortalityRate_{}.csv'.format(file_date)\n",
    "\n",
    "#PATHS OUT\n",
    "hosp_out = 'covid19_hosp_upload.csv'\n",
    "icu_out = 'covid_icu_upload.csv'\n",
    "mort_out = 'covid_mort_upload.csv'\n",
    "\n",
    "#Cumulative Dates Files\n",
    "hosp_dates = 'covid19_hospitalization.csv'\n",
    "icu_dates = 'covid_icu.csv'\n",
    "mort_dates = 'covid_mortality.csv'\n",
    "\n",
    "######################################\n",
    "###ARCGIS ACCOUNT LOGIN INFORMATION###\n",
    "######################################\n",
    "#reference for authentication schemes: https://developers.arcgis.com/python/guide/working-with-different-authentication-schemes/\n",
    "pro = \"pro\"\n",
    "#portal =''\n",
    "#username=''\n",
    "#password=''\n",
    "\n",
    "################################\n",
    "###ARCGIS DETAILS FOR UPDATES###\n",
    "################################\n",
    "hosp_layer_id = '2f3443de1a9345d79316484d6c273342'\n",
    "hosp_map_id = '3b5af1a898ae49e3825bac21badea77c'\n",
    "hosp_csv_id = '0413f1006e94418b8ecd3af609ec5dff'\n",
    "\n",
    "icu_layer_id ='164de458148f4c9db3708cc8e99ddbc8'\n",
    "icu_map_id = '128d6eb1547c4958818a47464da1a079'\n",
    "icu_csv_id = '7dc2c321393e402b9931d5595fae8678'\n",
    "\n",
    "mort_layer_id = '1bf213866fad441db609577cad03c7d9'\n",
    "mort_map_id = '64f43b6d62ef46c18bf6db55fce5afce'\n",
    "mort_csv_id = '11047e66ca6f483d8873078ef392e18c'\n",
    "\n",
    "dash = 'https://arcg.is/0amqvz'"
   ]
  },
  {
   "cell_type": "markdown",
   "metadata": {},
   "source": [
    "### Connect to ArcGIS Account"
   ]
  },
  {
   "cell_type": "code",
   "execution_count": 25,
   "metadata": {},
   "outputs": [],
   "source": [
    "gis = GIS(pro)\n",
    "#gis = GIS(portal, username, password)"
   ]
  },
  {
   "cell_type": "markdown",
   "metadata": {},
   "source": [
    "### Functions for Map Modifications"
   ]
  },
  {
   "cell_type": "code",
   "execution_count": 26,
   "metadata": {},
   "outputs": [],
   "source": [
    "def get_map (map_id):\n",
    "    '''\n",
    "    GET MAP DATA FOR SYMBOLOGY CHANGES\n",
    "    '''    \n",
    "    m = gis.content.get(map_id)\n",
    "    data = m.get_data()\n",
    "    print(m)    \n",
    "    return data\n",
    "\n",
    "def update_map (map_id, data):\n",
    "    '''\n",
    "    UPDATE MAP TO SAVE CHANGES\n",
    "    '''\n",
    "    m = gis.content.get(map_id)  \n",
    "    # Set the item_properties to include the desired update\n",
    "    properties = {\"text\": json.dumps(data)}\n",
    "    # 'Commit' the updates to the Item\n",
    "    update = m.update(item_properties=properties)    \n",
    "    return update"
   ]
  },
  {
   "cell_type": "markdown",
   "metadata": {},
   "source": [
    "# HOSPITALIZATION"
   ]
  },
  {
   "cell_type": "markdown",
   "metadata": {},
   "source": [
    "### Format Data"
   ]
  },
  {
   "cell_type": "code",
   "execution_count": 27,
   "metadata": {
    "scrolled": true
   },
   "outputs": [
    {
     "name": "stdout",
     "output_type": "stream",
     "text": [
      "41\n"
     ]
    },
    {
     "data": {
      "text/html": [
       "<div>\n",
       "<style scoped>\n",
       "    .dataframe tbody tr th:only-of-type {\n",
       "        vertical-align: middle;\n",
       "    }\n",
       "\n",
       "    .dataframe tbody tr th {\n",
       "        vertical-align: top;\n",
       "    }\n",
       "\n",
       "    .dataframe thead th {\n",
       "        text-align: right;\n",
       "    }\n",
       "</style>\n",
       "<table border=\"1\" class=\"dataframe\">\n",
       "  <thead>\n",
       "    <tr style=\"text-align: right;\">\n",
       "      <th></th>\n",
       "      <th>sra_num</th>\n",
       "      <th>sra_name</th>\n",
       "      <th>latitude</th>\n",
       "      <th>longitude</th>\n",
       "    </tr>\n",
       "  </thead>\n",
       "  <tbody>\n",
       "    <tr>\n",
       "      <th>0</th>\n",
       "      <td>1</td>\n",
       "      <td>Central San Diego</td>\n",
       "      <td>32.722644</td>\n",
       "      <td>-117.141073</td>\n",
       "    </tr>\n",
       "    <tr>\n",
       "      <th>1</th>\n",
       "      <td>2</td>\n",
       "      <td>Peninsula</td>\n",
       "      <td>32.742274</td>\n",
       "      <td>-117.216035</td>\n",
       "    </tr>\n",
       "    <tr>\n",
       "      <th>2</th>\n",
       "      <td>3</td>\n",
       "      <td>Coronado</td>\n",
       "      <td>32.657317</td>\n",
       "      <td>-117.143062</td>\n",
       "    </tr>\n",
       "    <tr>\n",
       "      <th>3</th>\n",
       "      <td>4</td>\n",
       "      <td>National City</td>\n",
       "      <td>32.665847</td>\n",
       "      <td>-117.099737</td>\n",
       "    </tr>\n",
       "    <tr>\n",
       "      <th>4</th>\n",
       "      <td>5</td>\n",
       "      <td>Southeastern San Diego</td>\n",
       "      <td>32.685705</td>\n",
       "      <td>-117.038621</td>\n",
       "    </tr>\n",
       "  </tbody>\n",
       "</table>\n",
       "</div>"
      ],
      "text/plain": [
       "   sra_num                sra_name   latitude   longitude\n",
       "0        1       Central San Diego  32.722644 -117.141073\n",
       "1        2               Peninsula  32.742274 -117.216035\n",
       "2        3                Coronado  32.657317 -117.143062\n",
       "3        4           National City  32.665847 -117.099737\n",
       "4        5  Southeastern San Diego  32.685705 -117.038621"
      ]
     },
     "execution_count": 27,
     "metadata": {},
     "output_type": "execute_result"
    }
   ],
   "source": [
    "#BASE SRA DATA\n",
    "sra = pd.read_csv(sra_in)\n",
    "print(len(sra))\n",
    "sra.head()"
   ]
  },
  {
   "cell_type": "code",
   "execution_count": 28,
   "metadata": {
    "scrolled": true
   },
   "outputs": [
    {
     "name": "stdout",
     "output_type": "stream",
     "text": [
      "9/5/2020\n"
     ]
    },
    {
     "data": {
      "text/html": [
       "<div>\n",
       "<style scoped>\n",
       "    .dataframe tbody tr th:only-of-type {\n",
       "        vertical-align: middle;\n",
       "    }\n",
       "\n",
       "    .dataframe tbody tr th {\n",
       "        vertical-align: top;\n",
       "    }\n",
       "\n",
       "    .dataframe thead th {\n",
       "        text-align: right;\n",
       "    }\n",
       "</style>\n",
       "<table border=\"1\" class=\"dataframe\">\n",
       "  <thead>\n",
       "    <tr style=\"text-align: right;\">\n",
       "      <th></th>\n",
       "      <th>Geography</th>\n",
       "      <th>Allocated\\nHospitalization\\nCount (Raw)</th>\n",
       "      <th>COVID-19\\nTotal\\nHospitalization\\nRate\\n(Suppressed)</th>\n",
       "      <th>Date</th>\n",
       "    </tr>\n",
       "  </thead>\n",
       "  <tbody>\n",
       "    <tr>\n",
       "      <th>0</th>\n",
       "      <td>Alpine</td>\n",
       "      <td>5.5</td>\n",
       "      <td>34.3</td>\n",
       "      <td>9/5/2020</td>\n",
       "    </tr>\n",
       "    <tr>\n",
       "      <th>1</th>\n",
       "      <td>Anza-Borrego Springs</td>\n",
       "      <td>NaN</td>\n",
       "      <td>NaN</td>\n",
       "      <td>9/5/2020</td>\n",
       "    </tr>\n",
       "    <tr>\n",
       "      <th>2</th>\n",
       "      <td>Carlsbad</td>\n",
       "      <td>38.2</td>\n",
       "      <td>30.2</td>\n",
       "      <td>9/5/2020</td>\n",
       "    </tr>\n",
       "    <tr>\n",
       "      <th>3</th>\n",
       "      <td>Central Region</td>\n",
       "      <td>694.0</td>\n",
       "      <td>134.7</td>\n",
       "      <td>9/5/2020</td>\n",
       "    </tr>\n",
       "    <tr>\n",
       "      <th>4</th>\n",
       "      <td>Central San Diego</td>\n",
       "      <td>207.7</td>\n",
       "      <td>98.5</td>\n",
       "      <td>9/5/2020</td>\n",
       "    </tr>\n",
       "  </tbody>\n",
       "</table>\n",
       "</div>"
      ],
      "text/plain": [
       "              Geography  ...      Date\n",
       "0                Alpine  ...  9/5/2020\n",
       "1  Anza-Borrego Springs  ...  9/5/2020\n",
       "2              Carlsbad  ...  9/5/2020\n",
       "3        Central Region  ...  9/5/2020\n",
       "4     Central San Diego  ...  9/5/2020\n",
       "\n",
       "[5 rows x 4 columns]"
      ]
     },
     "execution_count": 28,
     "metadata": {},
     "output_type": "execute_result"
    }
   ],
   "source": [
    "hosp = pd.read_csv(hosp_in)\n",
    "date = hosp['Date'][0]\n",
    "print(date)\n",
    "hosp.head()"
   ]
  },
  {
   "cell_type": "code",
   "execution_count": 29,
   "metadata": {},
   "outputs": [
    {
     "data": {
      "text/html": [
       "<div>\n",
       "<style scoped>\n",
       "    .dataframe tbody tr th:only-of-type {\n",
       "        vertical-align: middle;\n",
       "    }\n",
       "\n",
       "    .dataframe tbody tr th {\n",
       "        vertical-align: top;\n",
       "    }\n",
       "\n",
       "    .dataframe thead th {\n",
       "        text-align: right;\n",
       "    }\n",
       "</style>\n",
       "<table border=\"1\" class=\"dataframe\">\n",
       "  <thead>\n",
       "    <tr style=\"text-align: right;\">\n",
       "      <th></th>\n",
       "      <th>sra_name</th>\n",
       "      <th>hosp_count</th>\n",
       "      <th>Date</th>\n",
       "    </tr>\n",
       "  </thead>\n",
       "  <tbody>\n",
       "    <tr>\n",
       "      <th>0</th>\n",
       "      <td>Alpine</td>\n",
       "      <td>5.5</td>\n",
       "      <td>9/5/2020</td>\n",
       "    </tr>\n",
       "    <tr>\n",
       "      <th>1</th>\n",
       "      <td>Anza-Borrego Springs</td>\n",
       "      <td>0.0</td>\n",
       "      <td>9/5/2020</td>\n",
       "    </tr>\n",
       "    <tr>\n",
       "      <th>2</th>\n",
       "      <td>Carlsbad</td>\n",
       "      <td>38.2</td>\n",
       "      <td>9/5/2020</td>\n",
       "    </tr>\n",
       "    <tr>\n",
       "      <th>3</th>\n",
       "      <td>Central Region</td>\n",
       "      <td>694.0</td>\n",
       "      <td>9/5/2020</td>\n",
       "    </tr>\n",
       "    <tr>\n",
       "      <th>4</th>\n",
       "      <td>Central San Diego</td>\n",
       "      <td>207.7</td>\n",
       "      <td>9/5/2020</td>\n",
       "    </tr>\n",
       "  </tbody>\n",
       "</table>\n",
       "</div>"
      ],
      "text/plain": [
       "               sra_name  hosp_count      Date\n",
       "0                Alpine         5.5  9/5/2020\n",
       "1  Anza-Borrego Springs         0.0  9/5/2020\n",
       "2              Carlsbad        38.2  9/5/2020\n",
       "3        Central Region       694.0  9/5/2020\n",
       "4     Central San Diego       207.7  9/5/2020"
      ]
     },
     "execution_count": 29,
     "metadata": {},
     "output_type": "execute_result"
    }
   ],
   "source": [
    "del hosp['COVID-19\\nTotal\\nHospitalization\\nRate\\n(Suppressed)']\n",
    "hosp = hosp.rename(columns = {'Allocated\\nHospitalization\\nCount (Raw)':'hosp_count', 'Geography':'sra_name'})\n",
    "hosp = hosp.fillna(0)\n",
    "hosp.head()"
   ]
  },
  {
   "cell_type": "code",
   "execution_count": 30,
   "metadata": {
    "scrolled": false
   },
   "outputs": [
    {
     "name": "stdout",
     "output_type": "stream",
     "text": [
      "41\n"
     ]
    },
    {
     "data": {
      "text/html": [
       "<div>\n",
       "<style scoped>\n",
       "    .dataframe tbody tr th:only-of-type {\n",
       "        vertical-align: middle;\n",
       "    }\n",
       "\n",
       "    .dataframe tbody tr th {\n",
       "        vertical-align: top;\n",
       "    }\n",
       "\n",
       "    .dataframe thead th {\n",
       "        text-align: right;\n",
       "    }\n",
       "</style>\n",
       "<table border=\"1\" class=\"dataframe\">\n",
       "  <thead>\n",
       "    <tr style=\"text-align: right;\">\n",
       "      <th></th>\n",
       "      <th>sra_num</th>\n",
       "      <th>sra_name</th>\n",
       "      <th>latitude</th>\n",
       "      <th>longitude</th>\n",
       "      <th>hosp_count</th>\n",
       "      <th>Date</th>\n",
       "      <th>label</th>\n",
       "    </tr>\n",
       "  </thead>\n",
       "  <tbody>\n",
       "    <tr>\n",
       "      <th>0</th>\n",
       "      <td>1</td>\n",
       "      <td>Central San Diego</td>\n",
       "      <td>32.722644</td>\n",
       "      <td>-117.141073</td>\n",
       "      <td>207.7</td>\n",
       "      <td>9/5/2020</td>\n",
       "      <td>207.7</td>\n",
       "    </tr>\n",
       "    <tr>\n",
       "      <th>1</th>\n",
       "      <td>2</td>\n",
       "      <td>Peninsula</td>\n",
       "      <td>32.742274</td>\n",
       "      <td>-117.216035</td>\n",
       "      <td>18.7</td>\n",
       "      <td>9/5/2020</td>\n",
       "      <td>18.7</td>\n",
       "    </tr>\n",
       "    <tr>\n",
       "      <th>2</th>\n",
       "      <td>3</td>\n",
       "      <td>Coronado</td>\n",
       "      <td>32.657317</td>\n",
       "      <td>-117.143062</td>\n",
       "      <td>8.0</td>\n",
       "      <td>9/5/2020</td>\n",
       "      <td>8.0</td>\n",
       "    </tr>\n",
       "    <tr>\n",
       "      <th>3</th>\n",
       "      <td>4</td>\n",
       "      <td>National City</td>\n",
       "      <td>32.665847</td>\n",
       "      <td>-117.099737</td>\n",
       "      <td>150.6</td>\n",
       "      <td>9/5/2020</td>\n",
       "      <td>150.6</td>\n",
       "    </tr>\n",
       "    <tr>\n",
       "      <th>4</th>\n",
       "      <td>5</td>\n",
       "      <td>Southeastern San Diego</td>\n",
       "      <td>32.685705</td>\n",
       "      <td>-117.038621</td>\n",
       "      <td>304.7</td>\n",
       "      <td>9/5/2020</td>\n",
       "      <td>304.7</td>\n",
       "    </tr>\n",
       "  </tbody>\n",
       "</table>\n",
       "</div>"
      ],
      "text/plain": [
       "   sra_num                sra_name   latitude  ...  hosp_count      Date  label\n",
       "0        1       Central San Diego  32.722644  ...       207.7  9/5/2020  207.7\n",
       "1        2               Peninsula  32.742274  ...        18.7  9/5/2020   18.7\n",
       "2        3                Coronado  32.657317  ...         8.0  9/5/2020    8.0\n",
       "3        4           National City  32.665847  ...       150.6  9/5/2020  150.6\n",
       "4        5  Southeastern San Diego  32.685705  ...       304.7  9/5/2020  304.7\n",
       "\n",
       "[5 rows x 7 columns]"
      ]
     },
     "execution_count": 30,
     "metadata": {},
     "output_type": "execute_result"
    }
   ],
   "source": [
    "#merge to sra df with coordinates\n",
    "hosp_merge = sra.merge(hosp, how='left', on='sra_name')\n",
    "hosp_merge['label'] = hosp_merge['hosp_count'].astype(str)\n",
    "print(len(hosp_merge))\n",
    "hosp_merge.head()"
   ]
  },
  {
   "cell_type": "code",
   "execution_count": 31,
   "metadata": {},
   "outputs": [],
   "source": [
    "#export csv for feature layer overwrite\n",
    "hosp_merge.to_csv(hosp_out, index=False)"
   ]
  },
  {
   "cell_type": "code",
   "execution_count": 32,
   "metadata": {},
   "outputs": [
    {
     "data": {
      "text/html": [
       "<div>\n",
       "<style scoped>\n",
       "    .dataframe tbody tr th:only-of-type {\n",
       "        vertical-align: middle;\n",
       "    }\n",
       "\n",
       "    .dataframe tbody tr th {\n",
       "        vertical-align: top;\n",
       "    }\n",
       "\n",
       "    .dataframe thead th {\n",
       "        text-align: right;\n",
       "    }\n",
       "</style>\n",
       "<table border=\"1\" class=\"dataframe\">\n",
       "  <thead>\n",
       "    <tr style=\"text-align: right;\">\n",
       "      <th></th>\n",
       "      <th>sra_name</th>\n",
       "      <th>9/5/2020</th>\n",
       "    </tr>\n",
       "  </thead>\n",
       "  <tbody>\n",
       "    <tr>\n",
       "      <th>0</th>\n",
       "      <td>Central San Diego</td>\n",
       "      <td>207.7</td>\n",
       "    </tr>\n",
       "    <tr>\n",
       "      <th>1</th>\n",
       "      <td>Peninsula</td>\n",
       "      <td>18.7</td>\n",
       "    </tr>\n",
       "    <tr>\n",
       "      <th>2</th>\n",
       "      <td>Coronado</td>\n",
       "      <td>8.0</td>\n",
       "    </tr>\n",
       "    <tr>\n",
       "      <th>3</th>\n",
       "      <td>National City</td>\n",
       "      <td>150.6</td>\n",
       "    </tr>\n",
       "    <tr>\n",
       "      <th>4</th>\n",
       "      <td>Southeastern San Diego</td>\n",
       "      <td>304.7</td>\n",
       "    </tr>\n",
       "  </tbody>\n",
       "</table>\n",
       "</div>"
      ],
      "text/plain": [
       "                 sra_name  9/5/2020\n",
       "0       Central San Diego     207.7\n",
       "1               Peninsula      18.7\n",
       "2                Coronado       8.0\n",
       "3           National City     150.6\n",
       "4  Southeastern San Diego     304.7"
      ]
     },
     "execution_count": 32,
     "metadata": {},
     "output_type": "execute_result"
    }
   ],
   "source": [
    "#save csv with a column for every date\n",
    "#prepare new data for addition to existing csv\n",
    "hosp_temp = hosp_merge[['sra_name','hosp_count']]\n",
    "hosp_temp = hosp_temp.rename(columns = {'hosp_count':'{}'.format(date)})\n",
    "hosp_temp.head()"
   ]
  },
  {
   "cell_type": "code",
   "execution_count": 33,
   "metadata": {
    "scrolled": true
   },
   "outputs": [
    {
     "data": {
      "text/html": [
       "<div>\n",
       "<style scoped>\n",
       "    .dataframe tbody tr th:only-of-type {\n",
       "        vertical-align: middle;\n",
       "    }\n",
       "\n",
       "    .dataframe tbody tr th {\n",
       "        vertical-align: top;\n",
       "    }\n",
       "\n",
       "    .dataframe thead th {\n",
       "        text-align: right;\n",
       "    }\n",
       "</style>\n",
       "<table border=\"1\" class=\"dataframe\">\n",
       "  <thead>\n",
       "    <tr style=\"text-align: right;\">\n",
       "      <th></th>\n",
       "      <th>sra_num</th>\n",
       "      <th>sra_name</th>\n",
       "      <th>latitude</th>\n",
       "      <th>longitude</th>\n",
       "      <th>6/3/2020</th>\n",
       "      <th>6/10/2020</th>\n",
       "      <th>6/17/2020</th>\n",
       "      <th>6/24/2020</th>\n",
       "      <th>7/1/2020</th>\n",
       "      <th>7/8/2020</th>\n",
       "      <th>7/14/2020</th>\n",
       "      <th>7/28/2020</th>\n",
       "      <th>8/4/2020</th>\n",
       "      <th>8/11/2020</th>\n",
       "      <th>8/18/2020</th>\n",
       "      <th>8/24/2020</th>\n",
       "      <th>8/29/2020</th>\n",
       "      <th>9/5/2020</th>\n",
       "    </tr>\n",
       "  </thead>\n",
       "  <tbody>\n",
       "    <tr>\n",
       "      <th>0</th>\n",
       "      <td>1</td>\n",
       "      <td>Central San Diego</td>\n",
       "      <td>32.722644</td>\n",
       "      <td>-117.141073</td>\n",
       "      <td>94.39</td>\n",
       "      <td>102.22</td>\n",
       "      <td>109.7</td>\n",
       "      <td>114.9</td>\n",
       "      <td>127.6</td>\n",
       "      <td>138.8</td>\n",
       "      <td>150.6</td>\n",
       "      <td>176.5</td>\n",
       "      <td>189.0</td>\n",
       "      <td>195.0</td>\n",
       "      <td>198.1</td>\n",
       "      <td>199.9</td>\n",
       "      <td>205.7</td>\n",
       "      <td>207.7</td>\n",
       "    </tr>\n",
       "    <tr>\n",
       "      <th>1</th>\n",
       "      <td>2</td>\n",
       "      <td>Peninsula</td>\n",
       "      <td>32.742274</td>\n",
       "      <td>-117.216035</td>\n",
       "      <td>7.67</td>\n",
       "      <td>7.67</td>\n",
       "      <td>9.7</td>\n",
       "      <td>9.7</td>\n",
       "      <td>10.6</td>\n",
       "      <td>10.6</td>\n",
       "      <td>12.3</td>\n",
       "      <td>14.8</td>\n",
       "      <td>14.8</td>\n",
       "      <td>16.2</td>\n",
       "      <td>16.7</td>\n",
       "      <td>17.7</td>\n",
       "      <td>17.7</td>\n",
       "      <td>18.7</td>\n",
       "    </tr>\n",
       "    <tr>\n",
       "      <th>2</th>\n",
       "      <td>3</td>\n",
       "      <td>Coronado</td>\n",
       "      <td>32.657317</td>\n",
       "      <td>-117.143062</td>\n",
       "      <td>0.00</td>\n",
       "      <td>0.00</td>\n",
       "      <td>0.0</td>\n",
       "      <td>5.0</td>\n",
       "      <td>5.0</td>\n",
       "      <td>5.0</td>\n",
       "      <td>5.0</td>\n",
       "      <td>6.0</td>\n",
       "      <td>7.0</td>\n",
       "      <td>8.0</td>\n",
       "      <td>8.0</td>\n",
       "      <td>8.0</td>\n",
       "      <td>8.0</td>\n",
       "      <td>8.0</td>\n",
       "    </tr>\n",
       "    <tr>\n",
       "      <th>3</th>\n",
       "      <td>4</td>\n",
       "      <td>National City</td>\n",
       "      <td>32.665847</td>\n",
       "      <td>-117.099737</td>\n",
       "      <td>81.06</td>\n",
       "      <td>82.99</td>\n",
       "      <td>88.8</td>\n",
       "      <td>97.5</td>\n",
       "      <td>103.3</td>\n",
       "      <td>110.0</td>\n",
       "      <td>117.7</td>\n",
       "      <td>124.6</td>\n",
       "      <td>131.3</td>\n",
       "      <td>137.1</td>\n",
       "      <td>139.0</td>\n",
       "      <td>141.9</td>\n",
       "      <td>145.8</td>\n",
       "      <td>150.6</td>\n",
       "    </tr>\n",
       "    <tr>\n",
       "      <th>4</th>\n",
       "      <td>5</td>\n",
       "      <td>Southeastern San Diego</td>\n",
       "      <td>32.685705</td>\n",
       "      <td>-117.038621</td>\n",
       "      <td>118.17</td>\n",
       "      <td>125.60</td>\n",
       "      <td>141.4</td>\n",
       "      <td>150.3</td>\n",
       "      <td>168.2</td>\n",
       "      <td>184.6</td>\n",
       "      <td>200.2</td>\n",
       "      <td>245.2</td>\n",
       "      <td>263.0</td>\n",
       "      <td>274.8</td>\n",
       "      <td>284.4</td>\n",
       "      <td>289.9</td>\n",
       "      <td>294.9</td>\n",
       "      <td>304.7</td>\n",
       "    </tr>\n",
       "  </tbody>\n",
       "</table>\n",
       "</div>"
      ],
      "text/plain": [
       "   sra_num                sra_name   latitude  ...  8/24/2020  8/29/2020  9/5/2020\n",
       "0        1       Central San Diego  32.722644  ...      199.9      205.7     207.7\n",
       "1        2               Peninsula  32.742274  ...       17.7       17.7      18.7\n",
       "2        3                Coronado  32.657317  ...        8.0        8.0       8.0\n",
       "3        4           National City  32.665847  ...      141.9      145.8     150.6\n",
       "4        5  Southeastern San Diego  32.685705  ...      289.9      294.9     304.7\n",
       "\n",
       "[5 rows x 18 columns]"
      ]
     },
     "execution_count": 33,
     "metadata": {},
     "output_type": "execute_result"
    }
   ],
   "source": [
    "#add new date column to existing csv\n",
    "hosp_cum = pd.read_csv(hosp_dates)\n",
    "hosp_cum = hosp_cum.merge(hosp_temp, on='sra_name')\n",
    "hosp_cum.to_csv(hosp_dates, index=False)\n",
    "hosp_cum.head()"
   ]
  },
  {
   "cell_type": "markdown",
   "metadata": {},
   "source": [
    "### Overwrite Hospitalization Feature Layer and CSV File"
   ]
  },
  {
   "cell_type": "code",
   "execution_count": 34,
   "metadata": {},
   "outputs": [
    {
     "data": {
      "text/plain": [
       "True"
      ]
     },
     "execution_count": 34,
     "metadata": {},
     "output_type": "execute_result"
    }
   ],
   "source": [
    "#overwrite master csv with all dates data\n",
    "csv_item = gis.content.get(hosp_csv_id)\n",
    "csv_item.update({}, hosp_dates)"
   ]
  },
  {
   "cell_type": "code",
   "execution_count": 35,
   "metadata": {},
   "outputs": [
    {
     "data": {
      "text/plain": [
       "{'success': True}"
      ]
     },
     "execution_count": 35,
     "metadata": {},
     "output_type": "execute_result"
    }
   ],
   "source": [
    "#get feature layer containing updated data \n",
    "hosp_layer = gis.content.get(hosp_layer_id)\n",
    "hosp_layer\n",
    "\n",
    "hosp_layer_collection = FeatureLayerCollection.fromitem(hosp_layer)\n",
    "\n",
    "#call the overwrite() method which can be accessed using the manager property\n",
    "hosp_layer_collection.manager.overwrite(hosp_out)"
   ]
  },
  {
   "cell_type": "markdown",
   "metadata": {},
   "source": [
    "### Modify Hospitalization Map Symbology"
   ]
  },
  {
   "cell_type": "code",
   "execution_count": 36,
   "metadata": {
    "scrolled": true
   },
   "outputs": [
    {
     "name": "stdout",
     "output_type": "stream",
     "text": [
      "<Item title:\"COVID-19 Hospitalizations by San Diego SRA\" type:Web Map owner:jembury8568_SDSUGeo>\n"
     ]
    },
    {
     "data": {
      "text/plain": [
       "True"
      ]
     },
     "execution_count": 36,
     "metadata": {},
     "output_type": "execute_result"
    }
   ],
   "source": [
    "#get hospitalization max for graduated point symbology\n",
    "hosp_max = hosp_merge['hosp_count'].max()\n",
    "\n",
    "#get map data\n",
    "hosp_map = get_map(hosp_map_id)\n",
    "\n",
    "#set max value for graduated points symbols\n",
    "hosp_map['operationalLayers'][1]['layerDefinition']['drawingInfo']['renderer']['visualVariables'][0]['maxDataValue'] = hosp_max.item()\n",
    "hosp_map['operationalLayers'][1]['layerDefinition']['drawingInfo']['renderer']['authoringInfo']['visualVariables'][0]['maxSliderValue'] = hosp_max.item()\n",
    "hosp_map['operationalLayers'][2]['layerDefinition']['drawingInfo']['renderer']['visualVariables'][0]['maxDataValue'] = hosp_max.item()\n",
    "hosp_map['operationalLayers'][2]['layerDefinition']['drawingInfo']['renderer']['authoringInfo']['visualVariables'][0]['maxSliderValue'] = hosp_max.item()\n",
    "\n",
    "#update map to save changes\n",
    "hosp_map_update = update_map(hosp_map_id, hosp_map)\n",
    "hosp_map_update"
   ]
  },
  {
   "cell_type": "markdown",
   "metadata": {},
   "source": [
    "# ICU BEDS"
   ]
  },
  {
   "cell_type": "markdown",
   "metadata": {},
   "source": [
    "### Format Data"
   ]
  },
  {
   "cell_type": "code",
   "execution_count": 37,
   "metadata": {},
   "outputs": [
    {
     "data": {
      "text/html": [
       "<div>\n",
       "<style scoped>\n",
       "    .dataframe tbody tr th:only-of-type {\n",
       "        vertical-align: middle;\n",
       "    }\n",
       "\n",
       "    .dataframe tbody tr th {\n",
       "        vertical-align: top;\n",
       "    }\n",
       "\n",
       "    .dataframe thead th {\n",
       "        text-align: right;\n",
       "    }\n",
       "</style>\n",
       "<table border=\"1\" class=\"dataframe\">\n",
       "  <thead>\n",
       "    <tr style=\"text-align: right;\">\n",
       "      <th></th>\n",
       "      <th>Geography</th>\n",
       "      <th>Allocated\\nICU\\nCount\\n(Raw)</th>\n",
       "      <th>COVID-19\\nTotal ICU\\nRate\\n(Suppressed)</th>\n",
       "      <th>Date</th>\n",
       "    </tr>\n",
       "  </thead>\n",
       "  <tbody>\n",
       "    <tr>\n",
       "      <th>0</th>\n",
       "      <td>Alpine</td>\n",
       "      <td>NaN</td>\n",
       "      <td>NaN</td>\n",
       "      <td>9/5/2020</td>\n",
       "    </tr>\n",
       "    <tr>\n",
       "      <th>1</th>\n",
       "      <td>Anza-Borrego Springs</td>\n",
       "      <td>NaN</td>\n",
       "      <td>NaN</td>\n",
       "      <td>9/5/2020</td>\n",
       "    </tr>\n",
       "    <tr>\n",
       "      <th>2</th>\n",
       "      <td>Carlsbad</td>\n",
       "      <td>NaN</td>\n",
       "      <td>NaN</td>\n",
       "      <td>9/5/2020</td>\n",
       "    </tr>\n",
       "    <tr>\n",
       "      <th>3</th>\n",
       "      <td>Central Region</td>\n",
       "      <td>170.0</td>\n",
       "      <td>33.0</td>\n",
       "      <td>9/5/2020</td>\n",
       "    </tr>\n",
       "    <tr>\n",
       "      <th>4</th>\n",
       "      <td>Central San Diego</td>\n",
       "      <td>54.6</td>\n",
       "      <td>25.9</td>\n",
       "      <td>9/5/2020</td>\n",
       "    </tr>\n",
       "  </tbody>\n",
       "</table>\n",
       "</div>"
      ],
      "text/plain": [
       "              Geography  ...      Date\n",
       "0                Alpine  ...  9/5/2020\n",
       "1  Anza-Borrego Springs  ...  9/5/2020\n",
       "2              Carlsbad  ...  9/5/2020\n",
       "3        Central Region  ...  9/5/2020\n",
       "4     Central San Diego  ...  9/5/2020\n",
       "\n",
       "[5 rows x 4 columns]"
      ]
     },
     "execution_count": 37,
     "metadata": {},
     "output_type": "execute_result"
    }
   ],
   "source": [
    "icu = pd.read_csv(icu_in)\n",
    "date = icu['Date'][0]\n",
    "icu.head()"
   ]
  },
  {
   "cell_type": "code",
   "execution_count": 38,
   "metadata": {},
   "outputs": [
    {
     "data": {
      "text/html": [
       "<div>\n",
       "<style scoped>\n",
       "    .dataframe tbody tr th:only-of-type {\n",
       "        vertical-align: middle;\n",
       "    }\n",
       "\n",
       "    .dataframe tbody tr th {\n",
       "        vertical-align: top;\n",
       "    }\n",
       "\n",
       "    .dataframe thead th {\n",
       "        text-align: right;\n",
       "    }\n",
       "</style>\n",
       "<table border=\"1\" class=\"dataframe\">\n",
       "  <thead>\n",
       "    <tr style=\"text-align: right;\">\n",
       "      <th></th>\n",
       "      <th>sra_name</th>\n",
       "      <th>icu_count</th>\n",
       "      <th>Date</th>\n",
       "    </tr>\n",
       "  </thead>\n",
       "  <tbody>\n",
       "    <tr>\n",
       "      <th>0</th>\n",
       "      <td>Alpine</td>\n",
       "      <td>0.0</td>\n",
       "      <td>9/5/2020</td>\n",
       "    </tr>\n",
       "    <tr>\n",
       "      <th>1</th>\n",
       "      <td>Anza-Borrego Springs</td>\n",
       "      <td>0.0</td>\n",
       "      <td>9/5/2020</td>\n",
       "    </tr>\n",
       "    <tr>\n",
       "      <th>2</th>\n",
       "      <td>Carlsbad</td>\n",
       "      <td>0.0</td>\n",
       "      <td>9/5/2020</td>\n",
       "    </tr>\n",
       "    <tr>\n",
       "      <th>3</th>\n",
       "      <td>Central Region</td>\n",
       "      <td>170.0</td>\n",
       "      <td>9/5/2020</td>\n",
       "    </tr>\n",
       "    <tr>\n",
       "      <th>4</th>\n",
       "      <td>Central San Diego</td>\n",
       "      <td>54.6</td>\n",
       "      <td>9/5/2020</td>\n",
       "    </tr>\n",
       "  </tbody>\n",
       "</table>\n",
       "</div>"
      ],
      "text/plain": [
       "               sra_name  icu_count      Date\n",
       "0                Alpine        0.0  9/5/2020\n",
       "1  Anza-Borrego Springs        0.0  9/5/2020\n",
       "2              Carlsbad        0.0  9/5/2020\n",
       "3        Central Region      170.0  9/5/2020\n",
       "4     Central San Diego       54.6  9/5/2020"
      ]
     },
     "execution_count": 38,
     "metadata": {},
     "output_type": "execute_result"
    }
   ],
   "source": [
    "del icu['COVID-19\\nTotal ICU\\nRate\\n(Suppressed)']\n",
    "icu = icu.rename(columns = {'Allocated\\nICU\\nCount\\n(Raw)':'icu_count', 'Geography':'sra_name'})\n",
    "icu = icu.fillna(0)\n",
    "icu.head()"
   ]
  },
  {
   "cell_type": "code",
   "execution_count": 39,
   "metadata": {},
   "outputs": [
    {
     "name": "stdout",
     "output_type": "stream",
     "text": [
      "41\n"
     ]
    },
    {
     "data": {
      "text/html": [
       "<div>\n",
       "<style scoped>\n",
       "    .dataframe tbody tr th:only-of-type {\n",
       "        vertical-align: middle;\n",
       "    }\n",
       "\n",
       "    .dataframe tbody tr th {\n",
       "        vertical-align: top;\n",
       "    }\n",
       "\n",
       "    .dataframe thead th {\n",
       "        text-align: right;\n",
       "    }\n",
       "</style>\n",
       "<table border=\"1\" class=\"dataframe\">\n",
       "  <thead>\n",
       "    <tr style=\"text-align: right;\">\n",
       "      <th></th>\n",
       "      <th>sra_num</th>\n",
       "      <th>sra_name</th>\n",
       "      <th>latitude</th>\n",
       "      <th>longitude</th>\n",
       "      <th>icu_count</th>\n",
       "      <th>Date</th>\n",
       "      <th>label</th>\n",
       "    </tr>\n",
       "  </thead>\n",
       "  <tbody>\n",
       "    <tr>\n",
       "      <th>0</th>\n",
       "      <td>1</td>\n",
       "      <td>Central San Diego</td>\n",
       "      <td>32.722644</td>\n",
       "      <td>-117.141073</td>\n",
       "      <td>54.6</td>\n",
       "      <td>9/5/2020</td>\n",
       "      <td>54.6</td>\n",
       "    </tr>\n",
       "    <tr>\n",
       "      <th>1</th>\n",
       "      <td>2</td>\n",
       "      <td>Peninsula</td>\n",
       "      <td>32.742274</td>\n",
       "      <td>-117.216035</td>\n",
       "      <td>0.0</td>\n",
       "      <td>9/5/2020</td>\n",
       "      <td>0.0</td>\n",
       "    </tr>\n",
       "    <tr>\n",
       "      <th>2</th>\n",
       "      <td>3</td>\n",
       "      <td>Coronado</td>\n",
       "      <td>32.657317</td>\n",
       "      <td>-117.143062</td>\n",
       "      <td>0.0</td>\n",
       "      <td>9/5/2020</td>\n",
       "      <td>0.0</td>\n",
       "    </tr>\n",
       "    <tr>\n",
       "      <th>3</th>\n",
       "      <td>4</td>\n",
       "      <td>National City</td>\n",
       "      <td>32.665847</td>\n",
       "      <td>-117.099737</td>\n",
       "      <td>30.9</td>\n",
       "      <td>9/5/2020</td>\n",
       "      <td>30.9</td>\n",
       "    </tr>\n",
       "    <tr>\n",
       "      <th>4</th>\n",
       "      <td>5</td>\n",
       "      <td>Southeastern San Diego</td>\n",
       "      <td>32.685705</td>\n",
       "      <td>-117.038621</td>\n",
       "      <td>78.5</td>\n",
       "      <td>9/5/2020</td>\n",
       "      <td>78.5</td>\n",
       "    </tr>\n",
       "  </tbody>\n",
       "</table>\n",
       "</div>"
      ],
      "text/plain": [
       "   sra_num                sra_name   latitude  ...  icu_count      Date label\n",
       "0        1       Central San Diego  32.722644  ...       54.6  9/5/2020  54.6\n",
       "1        2               Peninsula  32.742274  ...        0.0  9/5/2020   0.0\n",
       "2        3                Coronado  32.657317  ...        0.0  9/5/2020   0.0\n",
       "3        4           National City  32.665847  ...       30.9  9/5/2020  30.9\n",
       "4        5  Southeastern San Diego  32.685705  ...       78.5  9/5/2020  78.5\n",
       "\n",
       "[5 rows x 7 columns]"
      ]
     },
     "execution_count": 39,
     "metadata": {},
     "output_type": "execute_result"
    }
   ],
   "source": [
    "#merge to sra df with coordinates\n",
    "icu_merge = sra.merge(icu, how='left', on='sra_name')\n",
    "icu_merge['label'] = icu_merge['icu_count'].astype(str)\n",
    "print(len(icu_merge))\n",
    "icu_merge.head()"
   ]
  },
  {
   "cell_type": "code",
   "execution_count": 40,
   "metadata": {},
   "outputs": [],
   "source": [
    "#export csv for feature layer overwrite\n",
    "icu_merge.to_csv(icu_out, index=False)"
   ]
  },
  {
   "cell_type": "code",
   "execution_count": 41,
   "metadata": {},
   "outputs": [
    {
     "data": {
      "text/html": [
       "<div>\n",
       "<style scoped>\n",
       "    .dataframe tbody tr th:only-of-type {\n",
       "        vertical-align: middle;\n",
       "    }\n",
       "\n",
       "    .dataframe tbody tr th {\n",
       "        vertical-align: top;\n",
       "    }\n",
       "\n",
       "    .dataframe thead th {\n",
       "        text-align: right;\n",
       "    }\n",
       "</style>\n",
       "<table border=\"1\" class=\"dataframe\">\n",
       "  <thead>\n",
       "    <tr style=\"text-align: right;\">\n",
       "      <th></th>\n",
       "      <th>sra_name</th>\n",
       "      <th>9/5/2020</th>\n",
       "    </tr>\n",
       "  </thead>\n",
       "  <tbody>\n",
       "    <tr>\n",
       "      <th>0</th>\n",
       "      <td>Central San Diego</td>\n",
       "      <td>54.6</td>\n",
       "    </tr>\n",
       "    <tr>\n",
       "      <th>1</th>\n",
       "      <td>Peninsula</td>\n",
       "      <td>0.0</td>\n",
       "    </tr>\n",
       "    <tr>\n",
       "      <th>2</th>\n",
       "      <td>Coronado</td>\n",
       "      <td>0.0</td>\n",
       "    </tr>\n",
       "    <tr>\n",
       "      <th>3</th>\n",
       "      <td>National City</td>\n",
       "      <td>30.9</td>\n",
       "    </tr>\n",
       "    <tr>\n",
       "      <th>4</th>\n",
       "      <td>Southeastern San Diego</td>\n",
       "      <td>78.5</td>\n",
       "    </tr>\n",
       "  </tbody>\n",
       "</table>\n",
       "</div>"
      ],
      "text/plain": [
       "                 sra_name  9/5/2020\n",
       "0       Central San Diego      54.6\n",
       "1               Peninsula       0.0\n",
       "2                Coronado       0.0\n",
       "3           National City      30.9\n",
       "4  Southeastern San Diego      78.5"
      ]
     },
     "execution_count": 41,
     "metadata": {},
     "output_type": "execute_result"
    }
   ],
   "source": [
    "#save csv with a column for every date\n",
    "#prepare new data for addition to existing csv\n",
    "icu_temp = icu_merge[['sra_name','icu_count']]\n",
    "icu_temp = icu_temp.rename(columns = {'icu_count':'{}'.format(date)})\n",
    "icu_temp.head()"
   ]
  },
  {
   "cell_type": "code",
   "execution_count": 42,
   "metadata": {},
   "outputs": [
    {
     "data": {
      "text/html": [
       "<div>\n",
       "<style scoped>\n",
       "    .dataframe tbody tr th:only-of-type {\n",
       "        vertical-align: middle;\n",
       "    }\n",
       "\n",
       "    .dataframe tbody tr th {\n",
       "        vertical-align: top;\n",
       "    }\n",
       "\n",
       "    .dataframe thead th {\n",
       "        text-align: right;\n",
       "    }\n",
       "</style>\n",
       "<table border=\"1\" class=\"dataframe\">\n",
       "  <thead>\n",
       "    <tr style=\"text-align: right;\">\n",
       "      <th></th>\n",
       "      <th>sra_num</th>\n",
       "      <th>sra_name</th>\n",
       "      <th>latitude</th>\n",
       "      <th>longitude</th>\n",
       "      <th>6/4/2020</th>\n",
       "      <th>6/10/2020</th>\n",
       "      <th>6/17/2020</th>\n",
       "      <th>6/24/2020</th>\n",
       "      <th>7/1/2020</th>\n",
       "      <th>7/8/2020</th>\n",
       "      <th>7/14/2020</th>\n",
       "      <th>7/28/2020</th>\n",
       "      <th>8/4/2020</th>\n",
       "      <th>8/11/2020</th>\n",
       "      <th>8/18/2020</th>\n",
       "      <th>8/24/2020</th>\n",
       "      <th>8/29/2020</th>\n",
       "      <th>9/5/2020</th>\n",
       "    </tr>\n",
       "  </thead>\n",
       "  <tbody>\n",
       "    <tr>\n",
       "      <th>0</th>\n",
       "      <td>1</td>\n",
       "      <td>Central San Diego</td>\n",
       "      <td>32.722644</td>\n",
       "      <td>-117.141073</td>\n",
       "      <td>24.467</td>\n",
       "      <td>27.401</td>\n",
       "      <td>29.6</td>\n",
       "      <td>32.7</td>\n",
       "      <td>35.9</td>\n",
       "      <td>37.7</td>\n",
       "      <td>39.3</td>\n",
       "      <td>50.9</td>\n",
       "      <td>50.9</td>\n",
       "      <td>51.8</td>\n",
       "      <td>53.6</td>\n",
       "      <td>53.2</td>\n",
       "      <td>53.2</td>\n",
       "      <td>54.6</td>\n",
       "    </tr>\n",
       "    <tr>\n",
       "      <th>1</th>\n",
       "      <td>2</td>\n",
       "      <td>Peninsula</td>\n",
       "      <td>32.742274</td>\n",
       "      <td>-117.216035</td>\n",
       "      <td>0.000</td>\n",
       "      <td>0.000</td>\n",
       "      <td>0.0</td>\n",
       "      <td>0.0</td>\n",
       "      <td>0.0</td>\n",
       "      <td>0.0</td>\n",
       "      <td>0.0</td>\n",
       "      <td>0.0</td>\n",
       "      <td>0.0</td>\n",
       "      <td>0.0</td>\n",
       "      <td>0.0</td>\n",
       "      <td>0.0</td>\n",
       "      <td>0.0</td>\n",
       "      <td>0.0</td>\n",
       "    </tr>\n",
       "    <tr>\n",
       "      <th>2</th>\n",
       "      <td>3</td>\n",
       "      <td>Coronado</td>\n",
       "      <td>32.657317</td>\n",
       "      <td>-117.143062</td>\n",
       "      <td>0.000</td>\n",
       "      <td>0.000</td>\n",
       "      <td>0.0</td>\n",
       "      <td>0.0</td>\n",
       "      <td>0.0</td>\n",
       "      <td>0.0</td>\n",
       "      <td>0.0</td>\n",
       "      <td>0.0</td>\n",
       "      <td>0.0</td>\n",
       "      <td>0.0</td>\n",
       "      <td>0.0</td>\n",
       "      <td>0.0</td>\n",
       "      <td>0.0</td>\n",
       "      <td>0.0</td>\n",
       "    </tr>\n",
       "    <tr>\n",
       "      <th>3</th>\n",
       "      <td>4</td>\n",
       "      <td>National City</td>\n",
       "      <td>32.665847</td>\n",
       "      <td>-117.099737</td>\n",
       "      <td>17.371</td>\n",
       "      <td>17.372</td>\n",
       "      <td>19.3</td>\n",
       "      <td>21.2</td>\n",
       "      <td>23.2</td>\n",
       "      <td>25.1</td>\n",
       "      <td>25.1</td>\n",
       "      <td>27.0</td>\n",
       "      <td>27.0</td>\n",
       "      <td>29.0</td>\n",
       "      <td>29.0</td>\n",
       "      <td>29.0</td>\n",
       "      <td>29.9</td>\n",
       "      <td>30.9</td>\n",
       "    </tr>\n",
       "    <tr>\n",
       "      <th>4</th>\n",
       "      <td>5</td>\n",
       "      <td>Southeastern San Diego</td>\n",
       "      <td>32.685705</td>\n",
       "      <td>-117.038621</td>\n",
       "      <td>32.928</td>\n",
       "      <td>37.816</td>\n",
       "      <td>42.7</td>\n",
       "      <td>44.6</td>\n",
       "      <td>51.2</td>\n",
       "      <td>55.2</td>\n",
       "      <td>58.3</td>\n",
       "      <td>69.1</td>\n",
       "      <td>69.1</td>\n",
       "      <td>75.1</td>\n",
       "      <td>74.9</td>\n",
       "      <td>75.5</td>\n",
       "      <td>76.7</td>\n",
       "      <td>78.5</td>\n",
       "    </tr>\n",
       "  </tbody>\n",
       "</table>\n",
       "</div>"
      ],
      "text/plain": [
       "   sra_num                sra_name   latitude  ...  8/24/2020  8/29/2020  9/5/2020\n",
       "0        1       Central San Diego  32.722644  ...       53.2       53.2      54.6\n",
       "1        2               Peninsula  32.742274  ...        0.0        0.0       0.0\n",
       "2        3                Coronado  32.657317  ...        0.0        0.0       0.0\n",
       "3        4           National City  32.665847  ...       29.0       29.9      30.9\n",
       "4        5  Southeastern San Diego  32.685705  ...       75.5       76.7      78.5\n",
       "\n",
       "[5 rows x 18 columns]"
      ]
     },
     "execution_count": 42,
     "metadata": {},
     "output_type": "execute_result"
    }
   ],
   "source": [
    "#add new date column to existing csv\n",
    "icu_cum = pd.read_csv(icu_dates)\n",
    "icu_cum = icu_cum.merge(icu_temp, on='sra_name')\n",
    "icu_cum.to_csv(icu_dates, index=False)\n",
    "icu_cum.head()"
   ]
  },
  {
   "cell_type": "markdown",
   "metadata": {},
   "source": [
    "### Overwrite ICU Feature Layer and CSV File"
   ]
  },
  {
   "cell_type": "code",
   "execution_count": 43,
   "metadata": {},
   "outputs": [
    {
     "data": {
      "text/plain": [
       "True"
      ]
     },
     "execution_count": 43,
     "metadata": {},
     "output_type": "execute_result"
    }
   ],
   "source": [
    "#overwrite master csv with all dates data\n",
    "csv_item = gis.content.get(icu_csv_id)\n",
    "csv_item.update({}, icu_dates)"
   ]
  },
  {
   "cell_type": "code",
   "execution_count": 44,
   "metadata": {},
   "outputs": [
    {
     "data": {
      "text/plain": [
       "{'success': True}"
      ]
     },
     "execution_count": 44,
     "metadata": {},
     "output_type": "execute_result"
    }
   ],
   "source": [
    "#get feature layer containing updated data \n",
    "icu_layer = gis.content.get(icu_layer_id)\n",
    "icu_layer\n",
    "\n",
    "icu_layer_collection = FeatureLayerCollection.fromitem(icu_layer)\n",
    "\n",
    "#call the overwrite() method which can be accessed using the manager property\n",
    "icu_layer_collection.manager.overwrite(icu_out)"
   ]
  },
  {
   "cell_type": "markdown",
   "metadata": {},
   "source": [
    "### Modify ICU Map Symbology"
   ]
  },
  {
   "cell_type": "code",
   "execution_count": 45,
   "metadata": {},
   "outputs": [
    {
     "name": "stdout",
     "output_type": "stream",
     "text": [
      "<Item title:\"COVID-19 ICU Beds by San Diego SRA\" type:Web Map owner:jembury8568_SDSUGeo>\n"
     ]
    },
    {
     "data": {
      "text/plain": [
       "True"
      ]
     },
     "execution_count": 45,
     "metadata": {},
     "output_type": "execute_result"
    }
   ],
   "source": [
    "#get icu max for graduated point symbology\n",
    "icu_max = icu_merge['icu_count'].max()\n",
    "\n",
    "#get map data\n",
    "icu_map = get_map(icu_map_id)\n",
    "\n",
    "#set max value for graduated points symbols\n",
    "icu_map['operationalLayers'][1]['layerDefinition']['drawingInfo']['renderer']['visualVariables'][0]['maxDataValue'] = icu_max.item()\n",
    "icu_map['operationalLayers'][1]['layerDefinition']['drawingInfo']['renderer']['authoringInfo']['visualVariables'][0]['maxSliderValue'] = icu_max.item()\n",
    "icu_map['operationalLayers'][2]['layerDefinition']['drawingInfo']['renderer']['visualVariables'][0]['maxDataValue'] = icu_max.item()\n",
    "icu_map['operationalLayers'][2]['layerDefinition']['drawingInfo']['renderer']['authoringInfo']['visualVariables'][0]['maxSliderValue'] = icu_max.item()\n",
    "\n",
    "#update map to save changes\n",
    "icu_map_update = update_map(icu_map_id, icu_map)\n",
    "icu_map_update"
   ]
  },
  {
   "cell_type": "markdown",
   "metadata": {},
   "source": [
    "# MORTALITY"
   ]
  },
  {
   "cell_type": "markdown",
   "metadata": {},
   "source": [
    "### Format Data"
   ]
  },
  {
   "cell_type": "code",
   "execution_count": 46,
   "metadata": {},
   "outputs": [
    {
     "name": "stdout",
     "output_type": "stream",
     "text": [
      "9/5/2020\n"
     ]
    },
    {
     "data": {
      "text/html": [
       "<div>\n",
       "<style scoped>\n",
       "    .dataframe tbody tr th:only-of-type {\n",
       "        vertical-align: middle;\n",
       "    }\n",
       "\n",
       "    .dataframe tbody tr th {\n",
       "        vertical-align: top;\n",
       "    }\n",
       "\n",
       "    .dataframe thead th {\n",
       "        text-align: right;\n",
       "    }\n",
       "</style>\n",
       "<table border=\"1\" class=\"dataframe\">\n",
       "  <thead>\n",
       "    <tr style=\"text-align: right;\">\n",
       "      <th></th>\n",
       "      <th>Geography</th>\n",
       "      <th>Allocated\\nDeath\\nCount\\n(Raw)</th>\n",
       "      <th>COVID-19\\nTotal\\nMortality\\nRate\\n(Suppressed)</th>\n",
       "      <th>Date</th>\n",
       "    </tr>\n",
       "  </thead>\n",
       "  <tbody>\n",
       "    <tr>\n",
       "      <th>0</th>\n",
       "      <td>Alpine</td>\n",
       "      <td>NaN</td>\n",
       "      <td>NaN</td>\n",
       "      <td>9/5/2020</td>\n",
       "    </tr>\n",
       "    <tr>\n",
       "      <th>1</th>\n",
       "      <td>Anza-Borrego Springs</td>\n",
       "      <td>NaN</td>\n",
       "      <td>NaN</td>\n",
       "      <td>9/5/2020</td>\n",
       "    </tr>\n",
       "    <tr>\n",
       "      <th>2</th>\n",
       "      <td>Carlsbad</td>\n",
       "      <td>NaN</td>\n",
       "      <td>NaN</td>\n",
       "      <td>9/5/2020</td>\n",
       "    </tr>\n",
       "    <tr>\n",
       "      <th>3</th>\n",
       "      <td>Central Region</td>\n",
       "      <td>148.0</td>\n",
       "      <td>28.7</td>\n",
       "      <td>9/5/2020</td>\n",
       "    </tr>\n",
       "    <tr>\n",
       "      <th>4</th>\n",
       "      <td>Central San Diego</td>\n",
       "      <td>42.3</td>\n",
       "      <td>20.1</td>\n",
       "      <td>9/5/2020</td>\n",
       "    </tr>\n",
       "  </tbody>\n",
       "</table>\n",
       "</div>"
      ],
      "text/plain": [
       "              Geography  ...      Date\n",
       "0                Alpine  ...  9/5/2020\n",
       "1  Anza-Borrego Springs  ...  9/5/2020\n",
       "2              Carlsbad  ...  9/5/2020\n",
       "3        Central Region  ...  9/5/2020\n",
       "4     Central San Diego  ...  9/5/2020\n",
       "\n",
       "[5 rows x 4 columns]"
      ]
     },
     "execution_count": 46,
     "metadata": {},
     "output_type": "execute_result"
    }
   ],
   "source": [
    "mort = pd.read_csv(mort_in)\n",
    "date = mort['Date'][0]\n",
    "print(date)\n",
    "\n",
    "mort.head()"
   ]
  },
  {
   "cell_type": "code",
   "execution_count": 47,
   "metadata": {},
   "outputs": [
    {
     "data": {
      "text/html": [
       "<div>\n",
       "<style scoped>\n",
       "    .dataframe tbody tr th:only-of-type {\n",
       "        vertical-align: middle;\n",
       "    }\n",
       "\n",
       "    .dataframe tbody tr th {\n",
       "        vertical-align: top;\n",
       "    }\n",
       "\n",
       "    .dataframe thead th {\n",
       "        text-align: right;\n",
       "    }\n",
       "</style>\n",
       "<table border=\"1\" class=\"dataframe\">\n",
       "  <thead>\n",
       "    <tr style=\"text-align: right;\">\n",
       "      <th></th>\n",
       "      <th>sra_name</th>\n",
       "      <th>mort_count</th>\n",
       "      <th>Date</th>\n",
       "    </tr>\n",
       "  </thead>\n",
       "  <tbody>\n",
       "    <tr>\n",
       "      <th>0</th>\n",
       "      <td>Alpine</td>\n",
       "      <td>0.0</td>\n",
       "      <td>9/5/2020</td>\n",
       "    </tr>\n",
       "    <tr>\n",
       "      <th>1</th>\n",
       "      <td>Anza-Borrego Springs</td>\n",
       "      <td>0.0</td>\n",
       "      <td>9/5/2020</td>\n",
       "    </tr>\n",
       "    <tr>\n",
       "      <th>2</th>\n",
       "      <td>Carlsbad</td>\n",
       "      <td>0.0</td>\n",
       "      <td>9/5/2020</td>\n",
       "    </tr>\n",
       "    <tr>\n",
       "      <th>3</th>\n",
       "      <td>Central Region</td>\n",
       "      <td>148.0</td>\n",
       "      <td>9/5/2020</td>\n",
       "    </tr>\n",
       "    <tr>\n",
       "      <th>4</th>\n",
       "      <td>Central San Diego</td>\n",
       "      <td>42.3</td>\n",
       "      <td>9/5/2020</td>\n",
       "    </tr>\n",
       "  </tbody>\n",
       "</table>\n",
       "</div>"
      ],
      "text/plain": [
       "               sra_name  mort_count      Date\n",
       "0                Alpine         0.0  9/5/2020\n",
       "1  Anza-Borrego Springs         0.0  9/5/2020\n",
       "2              Carlsbad         0.0  9/5/2020\n",
       "3        Central Region       148.0  9/5/2020\n",
       "4     Central San Diego        42.3  9/5/2020"
      ]
     },
     "execution_count": 47,
     "metadata": {},
     "output_type": "execute_result"
    }
   ],
   "source": [
    "del mort['COVID-19\\nTotal\\nMortality\\nRate\\n(Suppressed)']\n",
    "mort = mort.rename(columns = {'Allocated\\nDeath\\nCount\\n(Raw)':'mort_count', 'Geography':'sra_name'})\n",
    "mort = mort.fillna(0)\n",
    "mort.head()"
   ]
  },
  {
   "cell_type": "code",
   "execution_count": 48,
   "metadata": {},
   "outputs": [
    {
     "name": "stdout",
     "output_type": "stream",
     "text": [
      "41\n"
     ]
    },
    {
     "data": {
      "text/html": [
       "<div>\n",
       "<style scoped>\n",
       "    .dataframe tbody tr th:only-of-type {\n",
       "        vertical-align: middle;\n",
       "    }\n",
       "\n",
       "    .dataframe tbody tr th {\n",
       "        vertical-align: top;\n",
       "    }\n",
       "\n",
       "    .dataframe thead th {\n",
       "        text-align: right;\n",
       "    }\n",
       "</style>\n",
       "<table border=\"1\" class=\"dataframe\">\n",
       "  <thead>\n",
       "    <tr style=\"text-align: right;\">\n",
       "      <th></th>\n",
       "      <th>sra_num</th>\n",
       "      <th>sra_name</th>\n",
       "      <th>latitude</th>\n",
       "      <th>longitude</th>\n",
       "      <th>mort_count</th>\n",
       "      <th>Date</th>\n",
       "      <th>label</th>\n",
       "    </tr>\n",
       "  </thead>\n",
       "  <tbody>\n",
       "    <tr>\n",
       "      <th>0</th>\n",
       "      <td>1</td>\n",
       "      <td>Central San Diego</td>\n",
       "      <td>32.722644</td>\n",
       "      <td>-117.141073</td>\n",
       "      <td>42.3</td>\n",
       "      <td>9/5/2020</td>\n",
       "      <td>42.3</td>\n",
       "    </tr>\n",
       "    <tr>\n",
       "      <th>1</th>\n",
       "      <td>2</td>\n",
       "      <td>Peninsula</td>\n",
       "      <td>32.742274</td>\n",
       "      <td>-117.216035</td>\n",
       "      <td>5.7</td>\n",
       "      <td>9/5/2020</td>\n",
       "      <td>5.7</td>\n",
       "    </tr>\n",
       "    <tr>\n",
       "      <th>2</th>\n",
       "      <td>3</td>\n",
       "      <td>Coronado</td>\n",
       "      <td>32.657317</td>\n",
       "      <td>-117.143062</td>\n",
       "      <td>0.0</td>\n",
       "      <td>9/5/2020</td>\n",
       "      <td>0.0</td>\n",
       "    </tr>\n",
       "    <tr>\n",
       "      <th>3</th>\n",
       "      <td>4</td>\n",
       "      <td>National City</td>\n",
       "      <td>32.665847</td>\n",
       "      <td>-117.099737</td>\n",
       "      <td>46.3</td>\n",
       "      <td>9/5/2020</td>\n",
       "      <td>46.3</td>\n",
       "    </tr>\n",
       "    <tr>\n",
       "      <th>4</th>\n",
       "      <td>5</td>\n",
       "      <td>Southeastern San Diego</td>\n",
       "      <td>32.685705</td>\n",
       "      <td>-117.038621</td>\n",
       "      <td>77.2</td>\n",
       "      <td>9/5/2020</td>\n",
       "      <td>77.2</td>\n",
       "    </tr>\n",
       "  </tbody>\n",
       "</table>\n",
       "</div>"
      ],
      "text/plain": [
       "   sra_num                sra_name   latitude  ...  mort_count      Date label\n",
       "0        1       Central San Diego  32.722644  ...        42.3  9/5/2020  42.3\n",
       "1        2               Peninsula  32.742274  ...         5.7  9/5/2020   5.7\n",
       "2        3                Coronado  32.657317  ...         0.0  9/5/2020   0.0\n",
       "3        4           National City  32.665847  ...        46.3  9/5/2020  46.3\n",
       "4        5  Southeastern San Diego  32.685705  ...        77.2  9/5/2020  77.2\n",
       "\n",
       "[5 rows x 7 columns]"
      ]
     },
     "execution_count": 48,
     "metadata": {},
     "output_type": "execute_result"
    }
   ],
   "source": [
    "#merge to sra df with coordinates\n",
    "mort_merge = sra.merge(mort, how='left', on='sra_name')\n",
    "mort_merge['label'] = mort_merge['mort_count'].astype(str)\n",
    "print(len(mort_merge))\n",
    "mort_merge.head()"
   ]
  },
  {
   "cell_type": "code",
   "execution_count": 49,
   "metadata": {},
   "outputs": [],
   "source": [
    "#export csv for feature layer overwrite\n",
    "mort_merge.to_csv(mort_out, index=False)"
   ]
  },
  {
   "cell_type": "code",
   "execution_count": 50,
   "metadata": {},
   "outputs": [
    {
     "data": {
      "text/html": [
       "<div>\n",
       "<style scoped>\n",
       "    .dataframe tbody tr th:only-of-type {\n",
       "        vertical-align: middle;\n",
       "    }\n",
       "\n",
       "    .dataframe tbody tr th {\n",
       "        vertical-align: top;\n",
       "    }\n",
       "\n",
       "    .dataframe thead th {\n",
       "        text-align: right;\n",
       "    }\n",
       "</style>\n",
       "<table border=\"1\" class=\"dataframe\">\n",
       "  <thead>\n",
       "    <tr style=\"text-align: right;\">\n",
       "      <th></th>\n",
       "      <th>sra_name</th>\n",
       "      <th>9/5/2020</th>\n",
       "    </tr>\n",
       "  </thead>\n",
       "  <tbody>\n",
       "    <tr>\n",
       "      <th>0</th>\n",
       "      <td>Central San Diego</td>\n",
       "      <td>42.3</td>\n",
       "    </tr>\n",
       "    <tr>\n",
       "      <th>1</th>\n",
       "      <td>Peninsula</td>\n",
       "      <td>5.7</td>\n",
       "    </tr>\n",
       "    <tr>\n",
       "      <th>2</th>\n",
       "      <td>Coronado</td>\n",
       "      <td>0.0</td>\n",
       "    </tr>\n",
       "    <tr>\n",
       "      <th>3</th>\n",
       "      <td>National City</td>\n",
       "      <td>46.3</td>\n",
       "    </tr>\n",
       "    <tr>\n",
       "      <th>4</th>\n",
       "      <td>Southeastern San Diego</td>\n",
       "      <td>77.2</td>\n",
       "    </tr>\n",
       "  </tbody>\n",
       "</table>\n",
       "</div>"
      ],
      "text/plain": [
       "                 sra_name  9/5/2020\n",
       "0       Central San Diego      42.3\n",
       "1               Peninsula       5.7\n",
       "2                Coronado       0.0\n",
       "3           National City      46.3\n",
       "4  Southeastern San Diego      77.2"
      ]
     },
     "execution_count": 50,
     "metadata": {},
     "output_type": "execute_result"
    }
   ],
   "source": [
    "#save csv with a column for every date\n",
    "#prepare new data for addition to existing csv\n",
    "mort_temp = mort_merge[['sra_name','mort_count']]\n",
    "mort_temp = mort_temp.rename(columns = {'mort_count':'{}'.format(date)})\n",
    "mort_temp.head()"
   ]
  },
  {
   "cell_type": "code",
   "execution_count": 51,
   "metadata": {},
   "outputs": [
    {
     "data": {
      "text/html": [
       "<div>\n",
       "<style scoped>\n",
       "    .dataframe tbody tr th:only-of-type {\n",
       "        vertical-align: middle;\n",
       "    }\n",
       "\n",
       "    .dataframe tbody tr th {\n",
       "        vertical-align: top;\n",
       "    }\n",
       "\n",
       "    .dataframe thead th {\n",
       "        text-align: right;\n",
       "    }\n",
       "</style>\n",
       "<table border=\"1\" class=\"dataframe\">\n",
       "  <thead>\n",
       "    <tr style=\"text-align: right;\">\n",
       "      <th></th>\n",
       "      <th>sra_num</th>\n",
       "      <th>sra_name</th>\n",
       "      <th>latitude</th>\n",
       "      <th>longitude</th>\n",
       "      <th>6/3/20</th>\n",
       "      <th>6/10/2020</th>\n",
       "      <th>6/17/2020</th>\n",
       "      <th>6/24/2020</th>\n",
       "      <th>7/1/2020</th>\n",
       "      <th>7/8/2020</th>\n",
       "      <th>7/14/2020</th>\n",
       "      <th>7/28/2020</th>\n",
       "      <th>8/4/2020</th>\n",
       "      <th>8/11/2020</th>\n",
       "      <th>8/18/2020</th>\n",
       "      <th>8/24/2020</th>\n",
       "      <th>8/29/2020</th>\n",
       "      <th>9/5/2020</th>\n",
       "    </tr>\n",
       "  </thead>\n",
       "  <tbody>\n",
       "    <tr>\n",
       "      <th>0</th>\n",
       "      <td>1</td>\n",
       "      <td>Central San Diego</td>\n",
       "      <td>32.722644</td>\n",
       "      <td>-117.141073</td>\n",
       "      <td>15.584</td>\n",
       "      <td>16.985</td>\n",
       "      <td>19.1</td>\n",
       "      <td>21.8</td>\n",
       "      <td>23.5</td>\n",
       "      <td>25.6</td>\n",
       "      <td>28.8</td>\n",
       "      <td>35.8</td>\n",
       "      <td>38.5</td>\n",
       "      <td>40.5</td>\n",
       "      <td>40.9</td>\n",
       "      <td>41.3</td>\n",
       "      <td>41.3</td>\n",
       "      <td>42.3</td>\n",
       "    </tr>\n",
       "    <tr>\n",
       "      <th>1</th>\n",
       "      <td>2</td>\n",
       "      <td>Peninsula</td>\n",
       "      <td>32.742274</td>\n",
       "      <td>-117.216035</td>\n",
       "      <td>0.000</td>\n",
       "      <td>0.000</td>\n",
       "      <td>0.0</td>\n",
       "      <td>0.0</td>\n",
       "      <td>0.0</td>\n",
       "      <td>0.0</td>\n",
       "      <td>0.0</td>\n",
       "      <td>0.0</td>\n",
       "      <td>5.2</td>\n",
       "      <td>5.2</td>\n",
       "      <td>5.2</td>\n",
       "      <td>5.2</td>\n",
       "      <td>5.7</td>\n",
       "      <td>5.7</td>\n",
       "    </tr>\n",
       "    <tr>\n",
       "      <th>2</th>\n",
       "      <td>3</td>\n",
       "      <td>Coronado</td>\n",
       "      <td>32.657317</td>\n",
       "      <td>-117.143062</td>\n",
       "      <td>0.000</td>\n",
       "      <td>0.000</td>\n",
       "      <td>0.0</td>\n",
       "      <td>0.0</td>\n",
       "      <td>0.0</td>\n",
       "      <td>0.0</td>\n",
       "      <td>0.0</td>\n",
       "      <td>0.0</td>\n",
       "      <td>0.0</td>\n",
       "      <td>0.0</td>\n",
       "      <td>0.0</td>\n",
       "      <td>0.0</td>\n",
       "      <td>0.0</td>\n",
       "      <td>0.0</td>\n",
       "    </tr>\n",
       "    <tr>\n",
       "      <th>3</th>\n",
       "      <td>4</td>\n",
       "      <td>National City</td>\n",
       "      <td>32.665847</td>\n",
       "      <td>-117.099737</td>\n",
       "      <td>21.224</td>\n",
       "      <td>23.154</td>\n",
       "      <td>24.1</td>\n",
       "      <td>25.1</td>\n",
       "      <td>26.0</td>\n",
       "      <td>32.8</td>\n",
       "      <td>34.7</td>\n",
       "      <td>38.6</td>\n",
       "      <td>41.5</td>\n",
       "      <td>41.5</td>\n",
       "      <td>43.4</td>\n",
       "      <td>43.4</td>\n",
       "      <td>43.4</td>\n",
       "      <td>46.3</td>\n",
       "    </tr>\n",
       "    <tr>\n",
       "      <th>4</th>\n",
       "      <td>5</td>\n",
       "      <td>Southeastern San Diego</td>\n",
       "      <td>32.685705</td>\n",
       "      <td>-117.038621</td>\n",
       "      <td>16.742</td>\n",
       "      <td>17.457</td>\n",
       "      <td>19.4</td>\n",
       "      <td>20.3</td>\n",
       "      <td>24.4</td>\n",
       "      <td>32.1</td>\n",
       "      <td>41.5</td>\n",
       "      <td>63.4</td>\n",
       "      <td>64.7</td>\n",
       "      <td>66.8</td>\n",
       "      <td>70.3</td>\n",
       "      <td>73.0</td>\n",
       "      <td>73.3</td>\n",
       "      <td>77.2</td>\n",
       "    </tr>\n",
       "  </tbody>\n",
       "</table>\n",
       "</div>"
      ],
      "text/plain": [
       "   sra_num                sra_name   latitude  ...  8/24/2020  8/29/2020  9/5/2020\n",
       "0        1       Central San Diego  32.722644  ...       41.3       41.3      42.3\n",
       "1        2               Peninsula  32.742274  ...        5.2        5.7       5.7\n",
       "2        3                Coronado  32.657317  ...        0.0        0.0       0.0\n",
       "3        4           National City  32.665847  ...       43.4       43.4      46.3\n",
       "4        5  Southeastern San Diego  32.685705  ...       73.0       73.3      77.2\n",
       "\n",
       "[5 rows x 18 columns]"
      ]
     },
     "execution_count": 51,
     "metadata": {},
     "output_type": "execute_result"
    }
   ],
   "source": [
    "#add new date column to existing csv\n",
    "mort_cum = pd.read_csv(mort_dates)\n",
    "mort_cum = mort_cum.merge(mort_temp, on='sra_name')\n",
    "mort_cum.to_csv(mort_dates, index=False)\n",
    "mort_cum.head()"
   ]
  },
  {
   "cell_type": "markdown",
   "metadata": {},
   "source": [
    "### Overwrite Mortality Feature Layer and CSV File"
   ]
  },
  {
   "cell_type": "code",
   "execution_count": 52,
   "metadata": {},
   "outputs": [
    {
     "data": {
      "text/plain": [
       "True"
      ]
     },
     "execution_count": 52,
     "metadata": {},
     "output_type": "execute_result"
    }
   ],
   "source": [
    "#overwrite master csv with all dates data\n",
    "csv_item = gis.content.get(mort_csv_id)\n",
    "csv_item.update({}, mort_dates)"
   ]
  },
  {
   "cell_type": "code",
   "execution_count": 53,
   "metadata": {},
   "outputs": [
    {
     "data": {
      "text/plain": [
       "{'success': True}"
      ]
     },
     "execution_count": 53,
     "metadata": {},
     "output_type": "execute_result"
    }
   ],
   "source": [
    "#get feature layer containing updated data \n",
    "mort_layer = gis.content.get(mort_layer_id)\n",
    "mort_layer\n",
    "\n",
    "mort_layer_collection = FeatureLayerCollection.fromitem(mort_layer)\n",
    "\n",
    "#call the overwrite() method which can be accessed using the manager property\n",
    "mort_layer_collection.manager.overwrite(mort_out)"
   ]
  },
  {
   "cell_type": "markdown",
   "metadata": {},
   "source": [
    "### Modify Mortality Map Symbology"
   ]
  },
  {
   "cell_type": "code",
   "execution_count": 54,
   "metadata": {},
   "outputs": [
    {
     "name": "stdout",
     "output_type": "stream",
     "text": [
      "<Item title:\"COVID-19 Mortality by San Diego SRA\" type:Web Map owner:jembury8568_SDSUGeo>\n"
     ]
    },
    {
     "data": {
      "text/plain": [
       "True"
      ]
     },
     "execution_count": 54,
     "metadata": {},
     "output_type": "execute_result"
    }
   ],
   "source": [
    "#get mortality max for graduated point symbology\n",
    "mort_max = mort_merge['mort_count'].max()\n",
    "\n",
    "#get map data\n",
    "mort_map = get_map(mort_map_id)\n",
    "\n",
    "#set max value for graduated points symbols\n",
    "mort_map['operationalLayers'][1]['layerDefinition']['drawingInfo']['renderer']['visualVariables'][0]['maxDataValue'] = mort_max.item()\n",
    "mort_map['operationalLayers'][1]['layerDefinition']['drawingInfo']['renderer']['authoringInfo']['visualVariables'][0]['maxSliderValue'] = mort_max.item()\n",
    "mort_map['operationalLayers'][2]['layerDefinition']['drawingInfo']['renderer']['visualVariables'][0]['maxDataValue'] = mort_max.item()\n",
    "mort_map['operationalLayers'][2]['layerDefinition']['drawingInfo']['renderer']['authoringInfo']['visualVariables'][0]['maxSliderValue'] = mort_max.item()\n",
    "\n",
    "#update map to save changes\n",
    "mort_map_update = update_map(mort_map_id, mort_map)\n",
    "mort_map_update"
   ]
  },
  {
   "cell_type": "code",
   "execution_count": 55,
   "metadata": {},
   "outputs": [
    {
     "data": {
      "text/plain": [
       "True"
      ]
     },
     "execution_count": 55,
     "metadata": {},
     "output_type": "execute_result"
    }
   ],
   "source": [
    "webbrowser.open(dash, new=2)"
   ]
  }
 ],
 "metadata": {
  "kernelspec": {
   "display_name": "ArcGISPro",
   "language": "Python",
   "name": "python3"
  },
  "language_info": {
   "file_extension": ".py",
   "name": "python",
   "version": "3"
  }
 },
 "nbformat": 4,
 "nbformat_minor": 2
}
