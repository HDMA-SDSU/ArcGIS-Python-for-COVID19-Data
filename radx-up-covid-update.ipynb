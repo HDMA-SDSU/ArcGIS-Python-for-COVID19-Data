{
 "cells": [
  {
   "cell_type": "markdown",
   "metadata": {},
   "source": [
    "# Weekly Update of the COVID-19 Cases in Top Ten Zip Code Areas\n",
    "### Prepared for NIH RADx-Up Project: Communities Fighting COVID\n",
    "Center for Human Dynamics in the Mobile Age (HDMA) at San Diego State University <br>\n",
    "Jessica Embury"
   ]
  },
  {
   "cell_type": "markdown",
   "metadata": {},
   "source": [
    "## Import Statements"
   ]
  },
  {
   "cell_type": "code",
   "execution_count": 29,
   "metadata": {},
   "outputs": [],
   "source": [
    "import pandas as pd\n",
    "import arcpy\n",
    "import webbrowser\n",
    "import json\n",
    "from arcgis.gis import GIS\n",
    "from arcgis import geometry\n",
    "from arcgis.features import GeoAccessor, GeoSeriesAccessor\n",
    "from arcgis.features import FeatureLayerCollection\n",
    "from arcgis.features import FeatureLayer"
   ]
  },
  {
   "cell_type": "markdown",
   "metadata": {},
   "source": [
    "## User Variables"
   ]
  },
  {
   "cell_type": "code",
   "execution_count": 2,
   "metadata": {},
   "outputs": [],
   "source": [
    "###########################\n",
    "###SET DATA THROUGH DATE###\n",
    "###########################\n",
    "most_recent_date = '02/06/2021'  # Change date daily using 'MM/DD/YYYY' format\n",
    "date_range = '1/31/21 - 2/6/21'\n",
    "\n",
    "##########################\n",
    "###SET PATHS IN AND OUT###\n",
    "##########################\n",
    "#PATHS IN\n",
    "#additional needed zip info - community name and population\n",
    "path_in = '../covid_data/percents/covid_percents_{}.csv'.format(most_recent_date.replace('/',''))\n",
    "\n",
    "#PATHS OUT\n",
    "path_out = './data/radx_covid_upload.csv'\n",
    "path_out2 = '../covid_data/radx_updates/radx_covid_update_{}.csv'.format(most_recent_date.replace('/',''))\n",
    "#path out for dash updates, feature layer overwrite\n",
    "path_out3 = '../covid_data/radx_updates/radx_covid_sites_update_{}.csv'.format(most_recent_date.replace('/',''))\n",
    "path_out4 = '../covid_data/radx_updates/radx_covid_sites_upload.csv'\n",
    "\n",
    "################################\n",
    "###ARCGIS DETAILS FOR UPDATES###\n",
    "################################\n",
    "layer_id = '94f1c49aeb324fff91d35f8ab86c553f'\n",
    "map_id = '6978702efc634f508003453e434417da'\n",
    "mobilemap_id = '06bec9354a214a7ea0e781368eca5cd9'\n",
    "dash = 'https://experience.arcgis.com/experience/906d9ccaa0894762ae7bfa8aa46d1809'"
   ]
  },
  {
   "cell_type": "markdown",
   "metadata": {},
   "source": [
    "## Data Processing - Pandas"
   ]
  },
  {
   "cell_type": "code",
   "execution_count": 3,
   "metadata": {},
   "outputs": [
    {
     "data": {
      "text/html": [
       "<div>\n",
       "<style scoped>\n",
       "    .dataframe tbody tr th:only-of-type {\n",
       "        vertical-align: middle;\n",
       "    }\n",
       "\n",
       "    .dataframe tbody tr th {\n",
       "        vertical-align: top;\n",
       "    }\n",
       "\n",
       "    .dataframe thead th {\n",
       "        text-align: right;\n",
       "    }\n",
       "</style>\n",
       "<table border=\"1\" class=\"dataframe\">\n",
       "  <thead>\n",
       "    <tr style=\"text-align: right;\">\n",
       "      <th></th>\n",
       "      <th>Zipcode</th>\n",
       "      <th>Community</th>\n",
       "      <th>Latitude</th>\n",
       "      <th>Longitude</th>\n",
       "      <th>2018_population</th>\n",
       "      <th>Date</th>\n",
       "      <th>Confirmed Cases</th>\n",
       "      <th>Rate Per 100K</th>\n",
       "      <th>Daily Increased</th>\n",
       "      <th>Daily Change Rate*1000</th>\n",
       "      <th>7 Days Rolling Change*1000</th>\n",
       "      <th>7 Day Case Increase</th>\n",
       "      <th>percent_total</th>\n",
       "      <th>percent_daily</th>\n",
       "    </tr>\n",
       "  </thead>\n",
       "  <tbody>\n",
       "    <tr>\n",
       "      <th>0</th>\n",
       "      <td>91901</td>\n",
       "      <td>Alpine</td>\n",
       "      <td>32.805710</td>\n",
       "      <td>-116.695537</td>\n",
       "      <td>17885</td>\n",
       "      <td>02/06/2021</td>\n",
       "      <td>1131</td>\n",
       "      <td>6323.73</td>\n",
       "      <td>8</td>\n",
       "      <td>7.12</td>\n",
       "      <td>3.98</td>\n",
       "      <td>31</td>\n",
       "      <td>0.50</td>\n",
       "      <td>0.70</td>\n",
       "    </tr>\n",
       "    <tr>\n",
       "      <th>1</th>\n",
       "      <td>91902</td>\n",
       "      <td>Bonita</td>\n",
       "      <td>32.671583</td>\n",
       "      <td>-117.015068</td>\n",
       "      <td>17375</td>\n",
       "      <td>02/06/2021</td>\n",
       "      <td>1204</td>\n",
       "      <td>6929.50</td>\n",
       "      <td>12</td>\n",
       "      <td>10.07</td>\n",
       "      <td>5.21</td>\n",
       "      <td>43</td>\n",
       "      <td>0.53</td>\n",
       "      <td>1.05</td>\n",
       "    </tr>\n",
       "    <tr>\n",
       "      <th>2</th>\n",
       "      <td>91910</td>\n",
       "      <td>Chula Vista</td>\n",
       "      <td>32.636413</td>\n",
       "      <td>-117.065653</td>\n",
       "      <td>82682</td>\n",
       "      <td>02/06/2021</td>\n",
       "      <td>8200</td>\n",
       "      <td>9917.52</td>\n",
       "      <td>42</td>\n",
       "      <td>5.15</td>\n",
       "      <td>4.78</td>\n",
       "      <td>269</td>\n",
       "      <td>3.64</td>\n",
       "      <td>3.67</td>\n",
       "    </tr>\n",
       "    <tr>\n",
       "      <th>3</th>\n",
       "      <td>91911</td>\n",
       "      <td>Chula Vista</td>\n",
       "      <td>32.607309</td>\n",
       "      <td>-117.050214</td>\n",
       "      <td>84626</td>\n",
       "      <td>02/06/2021</td>\n",
       "      <td>10016</td>\n",
       "      <td>11835.61</td>\n",
       "      <td>38</td>\n",
       "      <td>3.81</td>\n",
       "      <td>4.32</td>\n",
       "      <td>298</td>\n",
       "      <td>4.44</td>\n",
       "      <td>3.32</td>\n",
       "    </tr>\n",
       "    <tr>\n",
       "      <th>4</th>\n",
       "      <td>91913</td>\n",
       "      <td>Chula Vista</td>\n",
       "      <td>32.616267</td>\n",
       "      <td>-116.987495</td>\n",
       "      <td>49519</td>\n",
       "      <td>02/06/2021</td>\n",
       "      <td>4128</td>\n",
       "      <td>8336.19</td>\n",
       "      <td>21</td>\n",
       "      <td>5.11</td>\n",
       "      <td>4.33</td>\n",
       "      <td>123</td>\n",
       "      <td>1.83</td>\n",
       "      <td>1.84</td>\n",
       "    </tr>\n",
       "  </tbody>\n",
       "</table>\n",
       "</div>"
      ],
      "text/plain": [
       "   Zipcode    Community  ...  percent_total  percent_daily\n",
       "0    91901       Alpine  ...           0.50           0.70\n",
       "1    91902       Bonita  ...           0.53           1.05\n",
       "2    91910  Chula Vista  ...           3.64           3.67\n",
       "3    91911  Chula Vista  ...           4.44           3.32\n",
       "4    91913  Chula Vista  ...           1.83           1.84\n",
       "\n",
       "[5 rows x 14 columns]"
      ]
     },
     "execution_count": 3,
     "metadata": {},
     "output_type": "execute_result"
    }
   ],
   "source": [
    "# create df using covid spreadsheet from most_recent_date\n",
    "df = pd.read_csv(path_in)\n",
    "\n",
    "df.head()"
   ]
  },
  {
   "cell_type": "code",
   "execution_count": 4,
   "metadata": {},
   "outputs": [
    {
     "data": {
      "text/html": [
       "<div>\n",
       "<style scoped>\n",
       "    .dataframe tbody tr th:only-of-type {\n",
       "        vertical-align: middle;\n",
       "    }\n",
       "\n",
       "    .dataframe tbody tr th {\n",
       "        vertical-align: top;\n",
       "    }\n",
       "\n",
       "    .dataframe thead th {\n",
       "        text-align: right;\n",
       "    }\n",
       "</style>\n",
       "<table border=\"1\" class=\"dataframe\">\n",
       "  <thead>\n",
       "    <tr style=\"text-align: right;\">\n",
       "      <th></th>\n",
       "      <th>Zipcode</th>\n",
       "      <th>Community</th>\n",
       "      <th>Latitude</th>\n",
       "      <th>Longitude</th>\n",
       "      <th>2018_population</th>\n",
       "      <th>Date</th>\n",
       "      <th>Confirmed Cases</th>\n",
       "      <th>Rate Per 100K</th>\n",
       "      <th>7 Days Rolling Change*1000</th>\n",
       "      <th>7 Day Case Increase</th>\n",
       "    </tr>\n",
       "  </thead>\n",
       "  <tbody>\n",
       "    <tr>\n",
       "      <th>0</th>\n",
       "      <td>91901</td>\n",
       "      <td>Alpine</td>\n",
       "      <td>32.805710</td>\n",
       "      <td>-116.695537</td>\n",
       "      <td>17885</td>\n",
       "      <td>02/06/2021</td>\n",
       "      <td>1131</td>\n",
       "      <td>6323.73</td>\n",
       "      <td>3.98</td>\n",
       "      <td>31</td>\n",
       "    </tr>\n",
       "    <tr>\n",
       "      <th>1</th>\n",
       "      <td>91902</td>\n",
       "      <td>Bonita</td>\n",
       "      <td>32.671583</td>\n",
       "      <td>-117.015068</td>\n",
       "      <td>17375</td>\n",
       "      <td>02/06/2021</td>\n",
       "      <td>1204</td>\n",
       "      <td>6929.50</td>\n",
       "      <td>5.21</td>\n",
       "      <td>43</td>\n",
       "    </tr>\n",
       "    <tr>\n",
       "      <th>2</th>\n",
       "      <td>91910</td>\n",
       "      <td>Chula Vista</td>\n",
       "      <td>32.636413</td>\n",
       "      <td>-117.065653</td>\n",
       "      <td>82682</td>\n",
       "      <td>02/06/2021</td>\n",
       "      <td>8200</td>\n",
       "      <td>9917.52</td>\n",
       "      <td>4.78</td>\n",
       "      <td>269</td>\n",
       "    </tr>\n",
       "    <tr>\n",
       "      <th>3</th>\n",
       "      <td>91911</td>\n",
       "      <td>Chula Vista</td>\n",
       "      <td>32.607309</td>\n",
       "      <td>-117.050214</td>\n",
       "      <td>84626</td>\n",
       "      <td>02/06/2021</td>\n",
       "      <td>10016</td>\n",
       "      <td>11835.61</td>\n",
       "      <td>4.32</td>\n",
       "      <td>298</td>\n",
       "    </tr>\n",
       "    <tr>\n",
       "      <th>4</th>\n",
       "      <td>91913</td>\n",
       "      <td>Chula Vista</td>\n",
       "      <td>32.616267</td>\n",
       "      <td>-116.987495</td>\n",
       "      <td>49519</td>\n",
       "      <td>02/06/2021</td>\n",
       "      <td>4128</td>\n",
       "      <td>8336.19</td>\n",
       "      <td>4.33</td>\n",
       "      <td>123</td>\n",
       "    </tr>\n",
       "  </tbody>\n",
       "</table>\n",
       "</div>"
      ],
      "text/plain": [
       "   Zipcode    Community  ...  7 Days Rolling Change*1000  7 Day Case Increase\n",
       "0    91901       Alpine  ...                        3.98                   31\n",
       "1    91902       Bonita  ...                        5.21                   43\n",
       "2    91910  Chula Vista  ...                        4.78                  269\n",
       "3    91911  Chula Vista  ...                        4.32                  298\n",
       "4    91913  Chula Vista  ...                        4.33                  123\n",
       "\n",
       "[5 rows x 10 columns]"
      ]
     },
     "execution_count": 4,
     "metadata": {},
     "output_type": "execute_result"
    }
   ],
   "source": [
    "# delete unwanted columns\n",
    "del df['Daily Increased']\n",
    "del df['Daily Change Rate*1000']\n",
    "del df['percent_total']\n",
    "del df['percent_daily']\n",
    "\n",
    "df.head()"
   ]
  },
  {
   "cell_type": "code",
   "execution_count": 5,
   "metadata": {},
   "outputs": [
    {
     "data": {
      "text/html": [
       "<div>\n",
       "<style scoped>\n",
       "    .dataframe tbody tr th:only-of-type {\n",
       "        vertical-align: middle;\n",
       "    }\n",
       "\n",
       "    .dataframe tbody tr th {\n",
       "        vertical-align: top;\n",
       "    }\n",
       "\n",
       "    .dataframe thead th {\n",
       "        text-align: right;\n",
       "    }\n",
       "</style>\n",
       "<table border=\"1\" class=\"dataframe\">\n",
       "  <thead>\n",
       "    <tr style=\"text-align: right;\">\n",
       "      <th></th>\n",
       "      <th>Zipcode</th>\n",
       "      <th>Community</th>\n",
       "      <th>Latitude</th>\n",
       "      <th>Longitude</th>\n",
       "      <th>Population 2018</th>\n",
       "      <th>Date Range</th>\n",
       "      <th>Accumulated Confirmed Cases</th>\n",
       "      <th>Accumulated Rate Per 100K</th>\n",
       "      <th>7-Day Change Rate*1000</th>\n",
       "      <th>7-Day Confirmed Cases</th>\n",
       "    </tr>\n",
       "  </thead>\n",
       "  <tbody>\n",
       "    <tr>\n",
       "      <th>0</th>\n",
       "      <td>91901</td>\n",
       "      <td>Alpine</td>\n",
       "      <td>32.805710</td>\n",
       "      <td>-116.695537</td>\n",
       "      <td>17885</td>\n",
       "      <td>1/31/21 - 2/6/21</td>\n",
       "      <td>1131</td>\n",
       "      <td>6323.73</td>\n",
       "      <td>3.98</td>\n",
       "      <td>31</td>\n",
       "    </tr>\n",
       "    <tr>\n",
       "      <th>1</th>\n",
       "      <td>91902</td>\n",
       "      <td>Bonita</td>\n",
       "      <td>32.671583</td>\n",
       "      <td>-117.015068</td>\n",
       "      <td>17375</td>\n",
       "      <td>1/31/21 - 2/6/21</td>\n",
       "      <td>1204</td>\n",
       "      <td>6929.50</td>\n",
       "      <td>5.21</td>\n",
       "      <td>43</td>\n",
       "    </tr>\n",
       "    <tr>\n",
       "      <th>2</th>\n",
       "      <td>91910</td>\n",
       "      <td>Chula Vista</td>\n",
       "      <td>32.636413</td>\n",
       "      <td>-117.065653</td>\n",
       "      <td>82682</td>\n",
       "      <td>1/31/21 - 2/6/21</td>\n",
       "      <td>8200</td>\n",
       "      <td>9917.52</td>\n",
       "      <td>4.78</td>\n",
       "      <td>269</td>\n",
       "    </tr>\n",
       "    <tr>\n",
       "      <th>3</th>\n",
       "      <td>91911</td>\n",
       "      <td>Chula Vista</td>\n",
       "      <td>32.607309</td>\n",
       "      <td>-117.050214</td>\n",
       "      <td>84626</td>\n",
       "      <td>1/31/21 - 2/6/21</td>\n",
       "      <td>10016</td>\n",
       "      <td>11835.61</td>\n",
       "      <td>4.32</td>\n",
       "      <td>298</td>\n",
       "    </tr>\n",
       "    <tr>\n",
       "      <th>4</th>\n",
       "      <td>91913</td>\n",
       "      <td>Chula Vista</td>\n",
       "      <td>32.616267</td>\n",
       "      <td>-116.987495</td>\n",
       "      <td>49519</td>\n",
       "      <td>1/31/21 - 2/6/21</td>\n",
       "      <td>4128</td>\n",
       "      <td>8336.19</td>\n",
       "      <td>4.33</td>\n",
       "      <td>123</td>\n",
       "    </tr>\n",
       "  </tbody>\n",
       "</table>\n",
       "</div>"
      ],
      "text/plain": [
       "   Zipcode    Community  ...  7-Day Change Rate*1000  7-Day Confirmed Cases\n",
       "0    91901       Alpine  ...                    3.98                     31\n",
       "1    91902       Bonita  ...                    5.21                     43\n",
       "2    91910  Chula Vista  ...                    4.78                    269\n",
       "3    91911  Chula Vista  ...                    4.32                    298\n",
       "4    91913  Chula Vista  ...                    4.33                    123\n",
       "\n",
       "[5 rows x 10 columns]"
      ]
     },
     "execution_count": 5,
     "metadata": {},
     "output_type": "execute_result"
    }
   ],
   "source": [
    "# rename columns to match new schema\n",
    "df = df.rename(columns = {'2018_population': 'Population 2018', 'Date': 'Date Range', 'Confirmed Cases': 'Accumulated Confirmed Cases', \n",
    "                         'Rate Per 100K': 'Accumulated Rate Per 100K', '7 Day Case Increase': '7-Day Confirmed Cases', \n",
    "                          '7 Days Rolling Change*1000': '7-Day Change Rate*1000'})\n",
    "\n",
    "df['Date Range'] = date_range\n",
    "\n",
    "df.head()"
   ]
  },
  {
   "cell_type": "code",
   "execution_count": 6,
   "metadata": {
    "scrolled": true
   },
   "outputs": [
    {
     "data": {
      "text/html": [
       "<div>\n",
       "<style scoped>\n",
       "    .dataframe tbody tr th:only-of-type {\n",
       "        vertical-align: middle;\n",
       "    }\n",
       "\n",
       "    .dataframe tbody tr th {\n",
       "        vertical-align: top;\n",
       "    }\n",
       "\n",
       "    .dataframe thead th {\n",
       "        text-align: right;\n",
       "    }\n",
       "</style>\n",
       "<table border=\"1\" class=\"dataframe\">\n",
       "  <thead>\n",
       "    <tr style=\"text-align: right;\">\n",
       "      <th></th>\n",
       "      <th>Zipcode</th>\n",
       "      <th>Community</th>\n",
       "      <th>Latitude</th>\n",
       "      <th>Longitude</th>\n",
       "      <th>Population 2018</th>\n",
       "      <th>Date Range</th>\n",
       "      <th>Accumulated Confirmed Cases</th>\n",
       "      <th>Accumulated Rate Per 100K</th>\n",
       "      <th>7-Day Change Rate*1000</th>\n",
       "      <th>7-Day Confirmed Cases</th>\n",
       "      <th>7-Day Case Average</th>\n",
       "      <th>7-Day Case Rate Per 100K</th>\n",
       "    </tr>\n",
       "  </thead>\n",
       "  <tbody>\n",
       "    <tr>\n",
       "      <th>0</th>\n",
       "      <td>91901</td>\n",
       "      <td>Alpine</td>\n",
       "      <td>32.805710</td>\n",
       "      <td>-116.695537</td>\n",
       "      <td>17885</td>\n",
       "      <td>1/31/21 - 2/6/21</td>\n",
       "      <td>1131</td>\n",
       "      <td>6323.73</td>\n",
       "      <td>3.98</td>\n",
       "      <td>31</td>\n",
       "      <td>4.43</td>\n",
       "      <td>173.33</td>\n",
       "    </tr>\n",
       "    <tr>\n",
       "      <th>1</th>\n",
       "      <td>91902</td>\n",
       "      <td>Bonita</td>\n",
       "      <td>32.671583</td>\n",
       "      <td>-117.015068</td>\n",
       "      <td>17375</td>\n",
       "      <td>1/31/21 - 2/6/21</td>\n",
       "      <td>1204</td>\n",
       "      <td>6929.50</td>\n",
       "      <td>5.21</td>\n",
       "      <td>43</td>\n",
       "      <td>6.14</td>\n",
       "      <td>247.48</td>\n",
       "    </tr>\n",
       "    <tr>\n",
       "      <th>2</th>\n",
       "      <td>91910</td>\n",
       "      <td>Chula Vista</td>\n",
       "      <td>32.636413</td>\n",
       "      <td>-117.065653</td>\n",
       "      <td>82682</td>\n",
       "      <td>1/31/21 - 2/6/21</td>\n",
       "      <td>8200</td>\n",
       "      <td>9917.52</td>\n",
       "      <td>4.78</td>\n",
       "      <td>269</td>\n",
       "      <td>38.43</td>\n",
       "      <td>325.34</td>\n",
       "    </tr>\n",
       "    <tr>\n",
       "      <th>3</th>\n",
       "      <td>91911</td>\n",
       "      <td>Chula Vista</td>\n",
       "      <td>32.607309</td>\n",
       "      <td>-117.050214</td>\n",
       "      <td>84626</td>\n",
       "      <td>1/31/21 - 2/6/21</td>\n",
       "      <td>10016</td>\n",
       "      <td>11835.61</td>\n",
       "      <td>4.32</td>\n",
       "      <td>298</td>\n",
       "      <td>42.57</td>\n",
       "      <td>352.14</td>\n",
       "    </tr>\n",
       "    <tr>\n",
       "      <th>4</th>\n",
       "      <td>91913</td>\n",
       "      <td>Chula Vista</td>\n",
       "      <td>32.616267</td>\n",
       "      <td>-116.987495</td>\n",
       "      <td>49519</td>\n",
       "      <td>1/31/21 - 2/6/21</td>\n",
       "      <td>4128</td>\n",
       "      <td>8336.19</td>\n",
       "      <td>4.33</td>\n",
       "      <td>123</td>\n",
       "      <td>17.57</td>\n",
       "      <td>248.39</td>\n",
       "    </tr>\n",
       "  </tbody>\n",
       "</table>\n",
       "</div>"
      ],
      "text/plain": [
       "   Zipcode    Community  ...  7-Day Case Average  7-Day Case Rate Per 100K\n",
       "0    91901       Alpine  ...                4.43                    173.33\n",
       "1    91902       Bonita  ...                6.14                    247.48\n",
       "2    91910  Chula Vista  ...               38.43                    325.34\n",
       "3    91911  Chula Vista  ...               42.57                    352.14\n",
       "4    91913  Chula Vista  ...               17.57                    248.39\n",
       "\n",
       "[5 rows x 12 columns]"
      ]
     },
     "execution_count": 6,
     "metadata": {},
     "output_type": "execute_result"
    }
   ],
   "source": [
    "# create columns, calculate values for daily average and weekly case rate per 100k residents\n",
    "df['7-Day Case Average'] = round(df['7-Day Confirmed Cases']/7, 2)\n",
    "\n",
    "df['7-Day Case Rate Per 100K'] = round(df['7-Day Confirmed Cases']/df['Population 2018']*100000, 2)\n",
    "\n",
    "df.head()"
   ]
  },
  {
   "cell_type": "code",
   "execution_count": 7,
   "metadata": {},
   "outputs": [],
   "source": [
    "# save df to csv files\n",
    "df.to_csv(path_out, index=False)\n",
    "df.to_csv(path_out2, index=False)"
   ]
  },
  {
   "cell_type": "markdown",
   "metadata": {},
   "source": [
    "## Data Processing - arcpy\n",
    "Calculate number of County test sites in each zip code and in adjacent zip codes, add as columns to df"
   ]
  },
  {
   "cell_type": "code",
   "execution_count": 8,
   "metadata": {},
   "outputs": [
    {
     "data": {
      "text/html": [
       "<h2>Output</h2>C:\\Users\\jesse\\iCloudDrive\\HDMA\\covid_dashboards\\Default.gdb\\tbl_radx_covid_update_02062021<h2>Messages</h2>Start Time: Tuesday, February 9, 2021 8:52:27 AM<br/>Succeeded at Tuesday, February 9, 2021 8:52:27 AM (Elapsed Time: 0.39 seconds)<br/><style>.rendered_html td, .rendered_html th {text-align: left;}.rendered_html tbody {border: 1px solid black;}</style>"
      ],
      "text/plain": [
       "<Result 'C:\\\\Users\\\\jesse\\\\iCloudDrive\\\\HDMA\\\\covid_dashboards\\\\Default.gdb\\\\tbl_radx_covid_update_02062021'>"
      ]
     },
     "execution_count": 8,
     "metadata": {},
     "output_type": "execute_result"
    }
   ],
   "source": [
    "# csv path for gdb table\n",
    "csv_in = path_out\n",
    "\n",
    "# Get and set current project and geodatabase info\n",
    "arcpy.env.overwriteOutput = True\n",
    "aprx = arcpy.mp.ArcGISProject('CURRENT')\n",
    "defaultGeoDb = arcpy.env.workspace\n",
    "aprx.defaultGeodatabase = defaultGeoDb\n",
    "currentMap = aprx.activeMap\n",
    "\n",
    "# set names for table and layer\n",
    "tempStr = 'radx_covid_update_{}.csv'.format(most_recent_date.replace('/',''))\n",
    "newMapName= 'lyr_' + tempStr\n",
    "newTableName = 'tbl_' + tempStr\n",
    "\n",
    "# convert CSV data into table and add to default database - look in database to see it was added\n",
    "arcpy.TableToTable_conversion(csv_in,defaultGeoDb,newTableName)"
   ]
  },
  {
   "cell_type": "code",
   "execution_count": 9,
   "metadata": {
    "scrolled": true
   },
   "outputs": [
    {
     "data": {
      "text/html": [
       "<h2>Output</h2>C:\\Users\\jesse\\iCloudDrive\\HDMA\\covid_dashboards\\Default.gdb\\lyr_radx_covid_update_02062021<h2>Messages</h2>Start Time: Tuesday, February 9, 2021 8:53:56 AM<br/>Succeeded at Tuesday, February 9, 2021 8:53:56 AM (Elapsed Time: 0.49 seconds)<br/><style>.rendered_html td, .rendered_html th {text-align: left;}.rendered_html tbody {border: 1px solid black;}</style>"
      ],
      "text/plain": [
       "<Result 'C:\\\\Users\\\\jesse\\\\iCloudDrive\\\\HDMA\\\\covid_dashboards\\\\Default.gdb\\\\lyr_radx_covid_update_02062021'>"
      ]
     },
     "execution_count": 9,
     "metadata": {},
     "output_type": "execute_result"
    }
   ],
   "source": [
    "# join radx case data to zipcode polygon\n",
    "covid_data_join = arcpy.management.AddJoin('zips_test_sites', 'ZIP', newTableName, 'Zipcode')\n",
    "\n",
    "# output joined layer to gdb\n",
    "arcpy.CopyFeatures_management(covid_data_join, 'C:/Users/jesse/iCloudDrive/HDMA/covid_dashboards/Default.gdb/{}'.format(newMapName).replace('.csv',''))"
   ]
  },
  {
   "cell_type": "code",
   "execution_count": 10,
   "metadata": {},
   "outputs": [
    {
     "data": {
      "text/html": [
       "<h2>Output</h2>a Layer object<h2>Messages</h2>Start Time: Tuesday, February 9, 2021 8:54:01 AM<br/>Succeeded at Tuesday, February 9, 2021 8:54:01 AM (Elapsed Time: 0.05 seconds)<br/><style>.rendered_html td, .rendered_html th {text-align: left;}.rendered_html tbody {border: 1px solid black;}</style>"
      ],
      "text/plain": [
       "<Result 'zips_test_sites'>"
      ]
     },
     "execution_count": 10,
     "metadata": {},
     "output_type": "execute_result"
    }
   ],
   "source": [
    "# remove join\n",
    "arcpy.RemoveJoin_management('zips_test_sites')"
   ]
  },
  {
   "cell_type": "code",
   "execution_count": 11,
   "metadata": {},
   "outputs": [],
   "source": [
    "# spatial join to get number of test sites in each zip code\n",
    "# Join_Count = number of tests sites in each zip code\n",
    "zip_sites = arcpy.analysis.SpatialJoin('zips_test_sites', 'COVID19_Testing_Locations', \n",
    "                                       'C:/Users/jesse/iCloudDrive/HDMA/covid_dashboards/Default.gdb/sites_in_zips_{}'.format(most_recent_date.replace('/', '')))"
   ]
  },
  {
   "cell_type": "code",
   "execution_count": null,
   "metadata": {},
   "outputs": [],
   "source": [
    "# get zip code neighbors - do not need to re-run each time\n",
    "# zip_nbrs = arcpy.analysis.PolygonNeighbors('zips_test_sites', 'C:/Users/jesse/iCloudDrive/HDMA/covid_dashboards/Default.gdb/zip_neighbors', 'ZIP')"
   ]
  },
  {
   "cell_type": "code",
   "execution_count": 12,
   "metadata": {
    "scrolled": true
   },
   "outputs": [
    {
     "data": {
      "text/html": [
       "<h2>Output</h2>C:\\Users\\jesse\\iCloudDrive\\HDMA\\covid_dashboards\\Default.gdb\\zip_nbr_join_02062021<h2>Messages</h2>Start Time: Tuesday, February 9, 2021 8:54:14 AM<br/>Succeeded at Tuesday, February 9, 2021 8:54:14 AM (Elapsed Time: 0.67 seconds)<br/><style>.rendered_html td, .rendered_html th {text-align: left;}.rendered_html tbody {border: 1px solid black;}</style>"
      ],
      "text/plain": [
       "<Result 'C:\\\\Users\\\\jesse\\\\iCloudDrive\\\\HDMA\\\\covid_dashboards\\\\Default.gdb\\\\zip_nbr_join_02062021'>"
      ]
     },
     "execution_count": 12,
     "metadata": {},
     "output_type": "execute_result"
    }
   ],
   "source": [
    "#join zip_nbrs to zip_sites to eventually get number of sites in neighboring zip codes for each zip code\n",
    "nbrs_join = arcpy.management.AddJoin('sites_in_zips_{}'.format(most_recent_date.replace('/', '')), 'ZIP', \n",
    "                                     'zip_neighbors', 'nbr_ZIP')\n",
    "# output joined layer to gdb\n",
    "arcpy.CopyFeatures_management(nbrs_join, 'C:/Users/jesse/iCloudDrive/HDMA/covid_dashboards/Default.gdb/zip_nbr_join_{}'.format(most_recent_date.replace('/','')))"
   ]
  },
  {
   "cell_type": "code",
   "execution_count": 13,
   "metadata": {},
   "outputs": [
    {
     "data": {
      "text/html": [
       "<h2>Output</h2>a Layer object<h2>Messages</h2>Start Time: Tuesday, February 9, 2021 8:54:20 AM<br/>Succeeded at Tuesday, February 9, 2021 8:54:20 AM (Elapsed Time: 0.07 seconds)<br/><style>.rendered_html td, .rendered_html th {text-align: left;}.rendered_html tbody {border: 1px solid black;}</style>"
      ],
      "text/plain": [
       "<Result 'sites_in_zips_02062021'>"
      ]
     },
     "execution_count": 13,
     "metadata": {},
     "output_type": "execute_result"
    }
   ],
   "source": [
    "# remove join\n",
    "arcpy.RemoveJoin_management('sites_in_zips_{}'.format(most_recent_date.replace('/', '')))"
   ]
  },
  {
   "cell_type": "code",
   "execution_count": 14,
   "metadata": {},
   "outputs": [
    {
     "data": {
      "text/html": [
       "<h2>Output</h2>C:\\Users\\jesse\\iCloudDrive\\HDMA\\covid_dashboards\\Default.gdb\\zip_nbr_diss_02062021<h2>Messages</h2>Start Time: Tuesday, February 9, 2021 8:54:23 AM<br/>Sorting Attributes...<br/>Dissolving...<br/>Succeeded at Tuesday, February 9, 2021 8:54:28 AM (Elapsed Time: 5.15 seconds)<br/><style>.rendered_html td, .rendered_html th {text-align: left;}.rendered_html tbody {border: 1px solid black;}</style>"
      ],
      "text/plain": [
       "<Result 'C:\\\\Users\\\\jesse\\\\iCloudDrive\\\\HDMA\\\\covid_dashboards\\\\Default.gdb\\\\zip_nbr_diss_02062021'>"
      ]
     },
     "execution_count": 14,
     "metadata": {},
     "output_type": "execute_result"
    }
   ],
   "source": [
    "# dissolve zip_nbr_join to get sum of sites in neighboring zips\n",
    "arcpy.management.Dissolve('C:/Users/jesse/iCloudDrive/HDMA/covid_dashboards/Default.gdb/zip_nbr_join_{}'.format(most_recent_date.replace('/','')), \n",
    "                          'C:/Users/jesse/iCloudDrive/HDMA/covid_dashboards/Default.gdb/zip_nbr_diss_{}'.format(most_recent_date.replace('/','')), \n",
    "                          'zip_neighbors_src_ZIP', 'sites_in_zips_{}_Join_Count SUM'.format(most_recent_date.replace('/', '')))"
   ]
  },
  {
   "cell_type": "code",
   "execution_count": 15,
   "metadata": {},
   "outputs": [
    {
     "data": {
      "text/html": [
       "<h2>Output</h2>C:\\Users\\jesse\\iCloudDrive\\HDMA\\covid_dashboards\\Default.gdb\\zip_sites_in_and_adj_02062021<h2>Messages</h2>Start Time: Tuesday, February 9, 2021 8:54:33 AM<br/>Succeeded at Tuesday, February 9, 2021 8:54:34 AM (Elapsed Time: 0.56 seconds)<br/><style>.rendered_html td, .rendered_html th {text-align: left;}.rendered_html tbody {border: 1px solid black;}</style>"
      ],
      "text/plain": [
       "<Result 'C:\\\\Users\\\\jesse\\\\iCloudDrive\\\\HDMA\\\\covid_dashboards\\\\Default.gdb\\\\zip_sites_in_and_adj_02062021'>"
      ]
     },
     "execution_count": 15,
     "metadata": {},
     "output_type": "execute_result"
    }
   ],
   "source": [
    "# join zip_nbr_diss and sites_in_zips\n",
    "sites_join_in_adj = arcpy.management.AddJoin('sites_in_zips_{}'.format(most_recent_date.replace('/', '')), 'ZIP', \n",
    "                                             'zip_nbr_diss_{}'.format(most_recent_date.replace('/', '')), 'zip_neighbors_src_ZIP')\n",
    "# output joined layer to gdb\n",
    "arcpy.CopyFeatures_management(sites_join_in_adj, 'C:/Users/jesse/iCloudDrive/HDMA/covid_dashboards/Default.gdb/zip_sites_in_and_adj_{}'.format(most_recent_date.replace('/','')))"
   ]
  },
  {
   "cell_type": "code",
   "execution_count": 16,
   "metadata": {},
   "outputs": [
    {
     "data": {
      "text/html": [
       "<h2>Output</h2>a Layer object<h2>Messages</h2>Start Time: Tuesday, February 9, 2021 8:54:38 AM<br/>Succeeded at Tuesday, February 9, 2021 8:54:38 AM (Elapsed Time: 0.07 seconds)<br/><style>.rendered_html td, .rendered_html th {text-align: left;}.rendered_html tbody {border: 1px solid black;}</style>"
      ],
      "text/plain": [
       "<Result 'sites_in_zips_02062021'>"
      ]
     },
     "execution_count": 16,
     "metadata": {},
     "output_type": "execute_result"
    }
   ],
   "source": [
    "# remove join\n",
    "arcpy.RemoveJoin_management('sites_in_zips_{}'.format(most_recent_date.replace('/', '')))"
   ]
  },
  {
   "cell_type": "code",
   "execution_count": 17,
   "metadata": {},
   "outputs": [
    {
     "data": {
      "text/html": [
       "<h2>Output</h2>C:\\Users\\jesse\\iCloudDrive\\HDMA\\covid_dashboards\\Default.gdb\\radx_7day_update_02062021<h2>Messages</h2>Start Time: Tuesday, February 9, 2021 8:55:08 AM<br/>Succeeded at Tuesday, February 9, 2021 8:55:09 AM (Elapsed Time: 0.57 seconds)<br/><style>.rendered_html td, .rendered_html th {text-align: left;}.rendered_html tbody {border: 1px solid black;}</style>"
      ],
      "text/plain": [
       "<Result 'C:\\\\Users\\\\jesse\\\\iCloudDrive\\\\HDMA\\\\covid_dashboards\\\\Default.gdb\\\\radx_7day_update_02062021'>"
      ]
     },
     "execution_count": 17,
     "metadata": {},
     "output_type": "execute_result"
    }
   ],
   "source": [
    "# join zip_sites_in_and_adj and lyr_radx_covid_update\n",
    "radx_sites_join = arcpy.management.AddJoin(newMapName, 'zips_test_sites_ZIP', \n",
    "                                             'zip_sites_in_and_adj_{}'.format(most_recent_date.replace('/', '')), \n",
    "                                             'sites_in_zips_{}_ZIP'.format(most_recent_date.replace('/','')))\n",
    "\n",
    "# output joined layer to gdb\n",
    "arcpy.CopyFeatures_management(radx_sites_join, 'C:/Users/jesse/iCloudDrive/HDMA/covid_dashboards/Default.gdb/radx_7day_update_{}'.format(most_recent_date.replace('/','')))"
   ]
  },
  {
   "cell_type": "code",
   "execution_count": 18,
   "metadata": {},
   "outputs": [
    {
     "data": {
      "text/html": [
       "<h2>Output</h2>a Layer object<h2>Messages</h2>Start Time: Tuesday, February 9, 2021 8:55:13 AM<br/>Succeeded at Tuesday, February 9, 2021 8:55:13 AM (Elapsed Time: 0.08 seconds)<br/><style>.rendered_html td, .rendered_html th {text-align: left;}.rendered_html tbody {border: 1px solid black;}</style>"
      ],
      "text/plain": [
       "<Result 'lyr_radx_covid_update_02062021'>"
      ]
     },
     "execution_count": 18,
     "metadata": {},
     "output_type": "execute_result"
    }
   ],
   "source": [
    "# remove join\n",
    "arcpy.RemoveJoin_management(newMapName)"
   ]
  },
  {
   "cell_type": "code",
   "execution_count": 19,
   "metadata": {},
   "outputs": [
    {
     "data": {
      "text/html": [
       "<h2>Output</h2>a Layer object<h2>Messages</h2>Start Time: Tuesday, February 9, 2021 8:55:15 AM<br/>Succeeded at Tuesday, February 9, 2021 8:55:18 AM (Elapsed Time: 2.88 seconds)<br/><style>.rendered_html td, .rendered_html th {text-align: left;}.rendered_html tbody {border: 1px solid black;}</style>"
      ],
      "text/plain": [
       "<Result 'radx_7day_update_02062021'>"
      ]
     },
     "execution_count": 19,
     "metadata": {},
     "output_type": "execute_result"
    }
   ],
   "source": [
    "# del unnecessary fields from radx_7day_update\n",
    "arcpy.DeleteField_management('radx_7day_update_{}'.format(most_recent_date.replace('/','')), \n",
    "                             ['lyr_radx_covid_update_{}_zips_test_sites_ZIP'.format(most_recent_date.replace('/','')),\n",
    "                             'lyr_radx_covid_update_{}_zips_test_sites_zip_text'.format(most_recent_date.replace('/','')), \n",
    "                             'lyr_radx_covid_update_{}_tbl_radx_covid_update_{}_OB'.format(most_recent_date.replace('/',''), most_recent_date.replace('/','')),\n",
    "                             'zip_sites_in_and_adj_{}_OBJECTID'.format(most_recent_date.replace('/','')),\n",
    "                             'zip_sites_in_and_adj_{}_sites_in_zips_{}_TARGET_FID'.format(most_recent_date.replace('/',''), most_recent_date.replace('/','')),\n",
    "                             'zip_sites_in_and_adj_{}_sites_in_zips_{}_ZIP'.format(most_recent_date.replace('/',''), most_recent_date.replace('/','')),\n",
    "                             'zip_sites_in_and_adj_{}_sites_in_zips_{}_zip_text'.format(most_recent_date.replace('/',''), most_recent_date.replace('/','')),\n",
    "                             'zip_sites_in_and_adj_{}_sites_in_zips_{}_facilityid'.format(most_recent_date.replace('/',''), most_recent_date.replace('/','')),\n",
    "                             'zip_sites_in_and_adj_{}_sites_in_zips_{}_name'.format(most_recent_date.replace('/',''), most_recent_date.replace('/','')),\n",
    "                             'zip_sites_in_and_adj_{}_sites_in_zips_{}_fulladdr'.format(most_recent_date.replace('/',''), most_recent_date.replace('/','')),\n",
    "                             'zip_sites_in_and_adj_{}_sites_in_zips_{}_municipalit'.format(most_recent_date.replace('/',''), most_recent_date.replace('/','')),\n",
    "                             'zip_sites_in_and_adj_{}_sites_in_zips_{}_agency'.format(most_recent_date.replace('/',''), most_recent_date.replace('/','')),\n",
    "                             'zip_sites_in_and_adj_{}_sites_in_zips_{}_agencytype'.format(most_recent_date.replace('/',''), most_recent_date.replace('/','')),\n",
    "                             'zip_sites_in_and_adj_{}_sites_in_zips_{}_phone'.format(most_recent_date.replace('/',''), most_recent_date.replace('/','')),\n",
    "                             'zip_sites_in_and_adj_{}_sites_in_zips_{}_agencyurl'.format(most_recent_date.replace('/',''), most_recent_date.replace('/','')),\n",
    "                             'zip_sites_in_and_adj_{}_sites_in_zips_{}_operhours'.format(most_recent_date.replace('/',''), most_recent_date.replace('/','')),\n",
    "                             'zip_sites_in_and_adj_{}_sites_in_zips_{}_comments'.format(most_recent_date.replace('/',''), most_recent_date.replace('/','')),\n",
    "                             'zip_sites_in_and_adj_{}_sites_in_zips_{}_Instruction'.format(most_recent_date.replace('/',''), most_recent_date.replace('/','')),\n",
    "                             'zip_sites_in_and_adj_{}_sites_in_zips_{}_status'.format(most_recent_date.replace('/',''), most_recent_date.replace('/','')),\n",
    "                             'zip_sites_in_and_adj_{}_sites_in_zips_{}_CreationDat'.format(most_recent_date.replace('/',''), most_recent_date.replace('/','')),\n",
    "                             'zip_sites_in_and_adj_{}_sites_in_zips_{}_EditDate'.format(most_recent_date.replace('/',''), most_recent_date.replace('/','')),\n",
    "                             'zip_sites_in_and_adj_{}_sites_in_zips_{}_drive_throu'.format(most_recent_date.replace('/',''), most_recent_date.replace('/','')),\n",
    "                             'zip_sites_in_and_adj_{}_sites_in_zips_{}_appt_only'.format(most_recent_date.replace('/',''), most_recent_date.replace('/','')),\n",
    "                             'zip_sites_in_and_adj_{}_sites_in_zips_{}_referral_re'.format(most_recent_date.replace('/',''), most_recent_date.replace('/','')),\n",
    "                             'zip_sites_in_and_adj_{}_sites_in_zips_{}_services_of'.format(most_recent_date.replace('/',''), most_recent_date.replace('/','')),\n",
    "                             'zip_sites_in_and_adj_{}_sites_in_zips_{}_call_first'.format(most_recent_date.replace('/',''), most_recent_date.replace('/','')),\n",
    "                             'zip_sites_in_and_adj_{}_sites_in_zips_{}_virtual_scr'.format(most_recent_date.replace('/',''), most_recent_date.replace('/','')),\n",
    "                             'zip_sites_in_and_adj_{}_sites_in_zips_{}_health_dept'.format(most_recent_date.replace('/',''), most_recent_date.replace('/','')),\n",
    "                             'zip_sites_in_and_adj_{}_sites_in_zips_{}_State'.format(most_recent_date.replace('/',''), most_recent_date.replace('/','')),\n",
    "                             'zip_sites_in_and_adj_{}_sites_in_zips_{}_data_source'.format(most_recent_date.replace('/',''), most_recent_date.replace('/','')),\n",
    "                             'zip_sites_in_and_adj_{}_sites_in_zips_{}_county'.format(most_recent_date.replace('/',''), most_recent_date.replace('/','')),\n",
    "                             'zip_sites_in_and_adj_{}_sites_in_zips_{}_red_flag'.format(most_recent_date.replace('/',''), most_recent_date.replace('/','')),\n",
    "                             'zip_sites_in_and_adj_{}_sites_in_zips_{}_vol_note'.format(most_recent_date.replace('/',''), most_recent_date.replace('/','')),\n",
    "                             'zip_sites_in_and_adj_{}_sites_in_zips_{}_public_form'.format(most_recent_date.replace('/',''), most_recent_date.replace('/','')),\n",
    "                             'zip_sites_in_and_adj_{}_sites_in_zips_{}_start_date'.format(most_recent_date.replace('/',''), most_recent_date.replace('/','')),\n",
    "                             'zip_sites_in_and_adj_{}_sites_in_zips_{}_end_date'.format(most_recent_date.replace('/',''), most_recent_date.replace('/','')),\n",
    "                             'zip_sites_in_and_adj_{}_sites_in_zips_{}_type_of_tes'.format(most_recent_date.replace('/',''), most_recent_date.replace('/','')),\n",
    "                             'zip_sites_in_and_adj_{}_sites_in_zips_{}_test_proces'.format(most_recent_date.replace('/',''), most_recent_date.replace('/','')),\n",
    "                             'zip_sites_in_and_adj_{}_sites_in_zips_{}_fine_print'.format(most_recent_date.replace('/',''), most_recent_date.replace('/','')),\n",
    "                             'zip_sites_in_and_adj_{}_sites_in_zips_{}_bos_distric'.format(most_recent_date.replace('/',''), most_recent_date.replace('/','')),\n",
    "                             'zip_sites_in_and_adj_{}_sites_in_zips_{}_DISPLAY_PUB'.format(most_recent_date.replace('/',''), most_recent_date.replace('/','')),\n",
    "                             'zip_sites_in_and_adj_{}_sites_in_zips_{}_name_spanis'.format(most_recent_date.replace('/',''), most_recent_date.replace('/','')),\n",
    "                             'zip_sites_in_and_adj_{}_sites_in_zips_{}_operhours_s'.format(most_recent_date.replace('/',''), most_recent_date.replace('/','')),\n",
    "                             'zip_sites_in_and_adj_{}_sites_in_zips_{}_instructi_1'.format(most_recent_date.replace('/',''), most_recent_date.replace('/','')),\n",
    "                             'zip_sites_in_and_adj_{}_sites_in_zips_{}_operhours_n'.format(most_recent_date.replace('/',''), most_recent_date.replace('/','')),\n",
    "                             'zip_sites_in_and_adj_{}_zip_nbr_diss_{}_OBJECTID'.format(most_recent_date.replace('/',''), most_recent_date.replace('/','')),\n",
    "                             'zip_sites_in_and_adj_{}_zip_nbr_diss_{}_zip_neighbor'.format(most_recent_date.replace('/',''), most_recent_date.replace('/',''))\n",
    "                             ])\n"
   ]
  },
  {
   "cell_type": "code",
   "execution_count": 21,
   "metadata": {},
   "outputs": [
    {
     "data": {
      "text/html": [
       "<h2>Output</h2>a Layer object<h2>Messages</h2>Start Time: Tuesday, February 9, 2021 9:00:12 AM<br/>Succeeded at Tuesday, February 9, 2021 9:00:13 AM (Elapsed Time: 0.39 seconds)<br/><style>.rendered_html td, .rendered_html th {text-align: left;}.rendered_html tbody {border: 1px solid black;}</style>"
      ],
      "text/plain": [
       "<Result 'radx_7day_update_02062021'>"
      ]
     },
     "execution_count": 21,
     "metadata": {},
     "output_type": "execute_result"
    }
   ],
   "source": [
    "# rename fields\n",
    "arcpy.management.AlterField('radx_7day_update_{}'.format(most_recent_date.replace('/','')), \n",
    "                            'lyr_radx_covid_update_{}_tbl_radx_covid_update_{}_Zi'.format(most_recent_date.replace('/',''), most_recent_date.replace('/','')),\n",
    "                            'zipcode')\n",
    "\n",
    "arcpy.management.AlterField('radx_7day_update_{}'.format(most_recent_date.replace('/','')),\n",
    "                            'lyr_radx_covid_update_{}_tbl_radx_covid_update_{}_Co'.format(most_recent_date.replace('/',''), most_recent_date.replace('/','')),\n",
    "                            'community', 'Community')\n",
    "\n",
    "arcpy.management.AlterField('radx_7day_update_{}'.format(most_recent_date.replace('/','')),\n",
    "                            'lyr_radx_covid_update_{}_tbl_radx_covid_update_{}_La'.format(most_recent_date.replace('/',''), most_recent_date.replace('/','')),\n",
    "                            'lat', 'Latitude'\n",
    "                           )\n",
    "\n",
    "arcpy.management.AlterField('radx_7day_update_{}'.format(most_recent_date.replace('/','')),\n",
    "                            'lyr_radx_covid_update_{}_tbl_radx_covid_update_{}_Lo'.format(most_recent_date.replace('/',''), most_recent_date.replace('/','')),\n",
    "                            'lon', 'Longitude'\n",
    "                           )\n",
    "\n",
    "arcpy.management.AlterField('radx_7day_update_{}'.format(most_recent_date.replace('/','')),\n",
    "                            'lyr_radx_covid_update_{}_tbl_radx_covid_update_{}_Po'.format(most_recent_date.replace('/',''), most_recent_date.replace('/','')),\n",
    "                            'population2018', 'Population 2018'\n",
    "                           )\n",
    "\n",
    "arcpy.management.AlterField('radx_7day_update_{}'.format(most_recent_date.replace('/','')),\n",
    "                            'lyr_radx_covid_update_{}_tbl_radx_covid_update_{}_Da'.format(most_recent_date.replace('/',''), most_recent_date.replace('/','')),\n",
    "                            'date_range', 'Date Range'\n",
    "                           )\n",
    "\n",
    "arcpy.management.AlterField('radx_7day_update_{}'.format(most_recent_date.replace('/','')),\n",
    "                            'lyr_radx_covid_update_{}_tbl_radx_covid_update_{}_Ac'.format(most_recent_date.replace('/',''), most_recent_date.replace('/','')),\n",
    "                            'accum_cases', 'Accumulated Confirmed Cases'\n",
    "                           )\n",
    "\n",
    "arcpy.management.AlterField('radx_7day_update_{}'.format(most_recent_date.replace('/','')),\n",
    "                            'lyr_radx_covid_update_{}_tbl_radx_covid_update_{}__1'.format(most_recent_date.replace('/',''), most_recent_date.replace('/','')),\n",
    "                            'accum_rate_100k_res', 'Accumulated Rate Per 100K'\n",
    "                           )\n",
    "\n",
    "arcpy.management.AlterField('radx_7day_update_{}'.format(most_recent_date.replace('/','')),\n",
    "                            'lyr_radx_covid_update_{}_tbl_radx_covid_update_{}_F7'.format(most_recent_date.replace('/',''), most_recent_date.replace('/','')),\n",
    "                            'change_rate_7day', '7-Day Change Rate*1000'\n",
    "                           )\n",
    "\n",
    "arcpy.management.AlterField('radx_7day_update_{}'.format(most_recent_date.replace('/','')),\n",
    "                            'lyr_radx_covid_update_{}_tbl_radx_covid_update_{}__2'.format(most_recent_date.replace('/',''), most_recent_date.replace('/','')),\n",
    "                            'confirmed_cases_7day', '7-Day Confirmed Cases'\n",
    "                           )\n",
    "\n",
    "arcpy.management.AlterField('radx_7day_update_{}'.format(most_recent_date.replace('/','')),\n",
    "                            'lyr_radx_covid_update_{}_tbl_radx_covid_update_{}__3'.format(most_recent_date.replace('/',''), most_recent_date.replace('/','')),\n",
    "                            'case_avg_7day', '7-Day Case Average'\n",
    "                           )\n",
    "\n",
    "arcpy.management.AlterField('radx_7day_update_{}'.format(most_recent_date.replace('/','')),\n",
    "                            'lyr_radx_covid_update_{}_tbl_radx_covid_update_{}__4'.format(most_recent_date.replace('/',''), most_recent_date.replace('/','')),\n",
    "                            'case_100kres_7day', '7-Day Case Rate Per 100K'\n",
    "                           )\n",
    "\n",
    "arcpy.management.AlterField('radx_7day_update_{}'.format(most_recent_date.replace('/','')),\n",
    "                            'zip_sites_in_and_adj_{}_sites_in_zips_{}_Join_Count'.format(most_recent_date.replace('/',''), most_recent_date.replace('/','')),\n",
    "                            'sites_in_zip', 'County Test Sites in Zip'\n",
    "                           )\n",
    "\n",
    "arcpy.management.AlterField('radx_7day_update_{}'.format(most_recent_date.replace('/','')),\n",
    "                            'zip_sites_in_and_adj_{}_zip_nbr_diss_{}_SUM_sites_in'.format(most_recent_date.replace('/',''), most_recent_date.replace('/','')),\n",
    "                            'sites_adj_zips', 'County Test Sites in Adj. Zips'\n",
    "                           )\n",
    "\n"
   ]
  },
  {
   "cell_type": "code",
   "execution_count": 22,
   "metadata": {
    "scrolled": false
   },
   "outputs": [
    {
     "data": {
      "text/html": [
       "<h2>Output</h2>../covid_data/radx_updates\\radx_covid_sites_update02062021.csv<h2>Messages</h2>Start Time: Tuesday, February 9, 2021 9:01:12 AM<br/>Succeeded at Tuesday, February 9, 2021 9:01:13 AM (Elapsed Time: 0.12 seconds)<br/><style>.rendered_html td, .rendered_html th {text-align: left;}.rendered_html tbody {border: 1px solid black;}</style>"
      ],
      "text/plain": [
       "<Result '../covid_data/radx_updates\\\\radx_covid_sites_update02062021.csv'>"
      ]
     },
     "execution_count": 22,
     "metadata": {},
     "output_type": "execute_result"
    }
   ],
   "source": [
    "# save as csv file\n",
    "arcpy.conversion.TableToTable('radx_7day_update_{}'.format(most_recent_date.replace('/','')),\n",
    "                              '../covid_data/radx_updates',\n",
    "                              'radx_covid_sites_update{}.csv'.format(most_recent_date.replace('/',''))\n",
    "                             )"
   ]
  },
  {
   "cell_type": "code",
   "execution_count": 23,
   "metadata": {
    "scrolled": false
   },
   "outputs": [
    {
     "data": {
      "text/html": [
       "<div>\n",
       "<style scoped>\n",
       "    .dataframe tbody tr th:only-of-type {\n",
       "        vertical-align: middle;\n",
       "    }\n",
       "\n",
       "    .dataframe tbody tr th {\n",
       "        vertical-align: top;\n",
       "    }\n",
       "\n",
       "    .dataframe thead th {\n",
       "        text-align: right;\n",
       "    }\n",
       "</style>\n",
       "<table border=\"1\" class=\"dataframe\">\n",
       "  <thead>\n",
       "    <tr style=\"text-align: right;\">\n",
       "      <th></th>\n",
       "      <th>Zip Code</th>\n",
       "      <th>Community</th>\n",
       "      <th>Latitude</th>\n",
       "      <th>Longitude</th>\n",
       "      <th>Population 2018</th>\n",
       "      <th>Date Range</th>\n",
       "      <th>Accumulated Confirmed Cases</th>\n",
       "      <th>Accumulated Rate Per 100K</th>\n",
       "      <th>7-Day Change Rate*1000</th>\n",
       "      <th>7-Day Confirmed Cases</th>\n",
       "      <th>7-Day Case Average</th>\n",
       "      <th>7-Day Case Rate Per 100K</th>\n",
       "      <th>County Test Sites in Zip</th>\n",
       "      <th>County Test Sites in Adj. Zips</th>\n",
       "    </tr>\n",
       "  </thead>\n",
       "  <tbody>\n",
       "    <tr>\n",
       "      <th>0</th>\n",
       "      <td>91901</td>\n",
       "      <td>Alpine</td>\n",
       "      <td>32.805710</td>\n",
       "      <td>-116.695537</td>\n",
       "      <td>17885</td>\n",
       "      <td>1/31/21 - 2/6/21</td>\n",
       "      <td>1131</td>\n",
       "      <td>6323.73</td>\n",
       "      <td>3.98</td>\n",
       "      <td>31</td>\n",
       "      <td>4.43</td>\n",
       "      <td>173.33</td>\n",
       "      <td>0</td>\n",
       "      <td>2</td>\n",
       "    </tr>\n",
       "    <tr>\n",
       "      <th>1</th>\n",
       "      <td>91902</td>\n",
       "      <td>Bonita</td>\n",
       "      <td>32.671583</td>\n",
       "      <td>-117.015068</td>\n",
       "      <td>17375</td>\n",
       "      <td>1/31/21 - 2/6/21</td>\n",
       "      <td>1204</td>\n",
       "      <td>6929.50</td>\n",
       "      <td>5.21</td>\n",
       "      <td>43</td>\n",
       "      <td>6.14</td>\n",
       "      <td>247.48</td>\n",
       "      <td>1</td>\n",
       "      <td>4</td>\n",
       "    </tr>\n",
       "    <tr>\n",
       "      <th>2</th>\n",
       "      <td>91910</td>\n",
       "      <td>Chula Vista</td>\n",
       "      <td>32.636413</td>\n",
       "      <td>-117.065653</td>\n",
       "      <td>82682</td>\n",
       "      <td>1/31/21 - 2/6/21</td>\n",
       "      <td>8200</td>\n",
       "      <td>9917.52</td>\n",
       "      <td>4.78</td>\n",
       "      <td>269</td>\n",
       "      <td>38.43</td>\n",
       "      <td>325.34</td>\n",
       "      <td>1</td>\n",
       "      <td>5</td>\n",
       "    </tr>\n",
       "    <tr>\n",
       "      <th>3</th>\n",
       "      <td>91911</td>\n",
       "      <td>Chula Vista</td>\n",
       "      <td>32.607309</td>\n",
       "      <td>-117.050214</td>\n",
       "      <td>84626</td>\n",
       "      <td>1/31/21 - 2/6/21</td>\n",
       "      <td>10016</td>\n",
       "      <td>11835.61</td>\n",
       "      <td>4.32</td>\n",
       "      <td>298</td>\n",
       "      <td>42.57</td>\n",
       "      <td>352.14</td>\n",
       "      <td>2</td>\n",
       "      <td>1</td>\n",
       "    </tr>\n",
       "    <tr>\n",
       "      <th>4</th>\n",
       "      <td>91913</td>\n",
       "      <td>Chula Vista</td>\n",
       "      <td>32.616267</td>\n",
       "      <td>-116.987495</td>\n",
       "      <td>49519</td>\n",
       "      <td>1/31/21 - 2/6/21</td>\n",
       "      <td>4128</td>\n",
       "      <td>8336.19</td>\n",
       "      <td>4.33</td>\n",
       "      <td>123</td>\n",
       "      <td>17.57</td>\n",
       "      <td>248.39</td>\n",
       "      <td>0</td>\n",
       "      <td>4</td>\n",
       "    </tr>\n",
       "  </tbody>\n",
       "</table>\n",
       "</div>"
      ],
      "text/plain": [
       "   Zip Code  ... County Test Sites in Adj. Zips\n",
       "0     91901  ...                              2\n",
       "1     91902  ...                              4\n",
       "2     91910  ...                              5\n",
       "3     91911  ...                              1\n",
       "4     91913  ...                              4\n",
       "\n",
       "[5 rows x 14 columns]"
      ]
     },
     "execution_count": 23,
     "metadata": {},
     "output_type": "execute_result"
    }
   ],
   "source": [
    "# format table for layer overwrite\n",
    "df2 = pd.read_csv('../covid_data/radx_updates/radx_covid_sites_update{}.csv'.format(most_recent_date.replace('/','')))\n",
    "\n",
    "del df2['OID_']\n",
    "del df2 ['Shape_Length']\n",
    "del df2['Shape_Area']\n",
    "\n",
    "df2 = df2.rename(columns = {'zipcode': 'Zip Code',\n",
    "                           'community': 'Community',\n",
    "                           'lat': 'Latitude', \n",
    "                            'lon': 'Longitude',\n",
    "                            'population2018': 'Population 2018',\n",
    "                            'date_range': 'Date Range',\n",
    "                            'accum_cases': 'Accumulated Confirmed Cases',\n",
    "                            'accum_rate_100k_res': 'Accumulated Rate Per 100K',\n",
    "                            'change_rate_7day': '7-Day Change Rate*1000',\n",
    "                            'confirmed_cases_7day': '7-Day Confirmed Cases',\n",
    "                            'case_avg_7day': '7-Day Case Average',\n",
    "                            'case_100kres_7day': '7-Day Case Rate Per 100K',\n",
    "                            'sites_in_zip': 'County Test Sites in Zip',\n",
    "                            'sites_adj_zips': 'County Test Sites in Adj. Zips',\n",
    "                           })\n",
    "\n",
    "df2 = df2.dropna(subset = ['Zip Code'])\n",
    "\n",
    "df2['Zip Code'] = df2['Zip Code'].astype(int)\n",
    "df2['Population 2018'] = df2['Population 2018'].astype(int)\n",
    "df2['Accumulated Confirmed Cases'] = df2['Accumulated Confirmed Cases'].astype(int)\n",
    "df2['7-Day Confirmed Cases'] = df2['7-Day Confirmed Cases'].astype(int)\n",
    "df2['County Test Sites in Zip'] = df2['County Test Sites in Zip'].astype(int)\n",
    "df2['County Test Sites in Adj. Zips'] = df2['County Test Sites in Adj. Zips'].astype(int)\n",
    "\n",
    "# save df to csv files\n",
    "df2.to_csv(path_out3, index=False)\n",
    "df2.to_csv(path_out4, index=False)\n",
    "\n",
    "df2.head()"
   ]
  },
  {
   "cell_type": "markdown",
   "metadata": {},
   "source": [
    "## Update ArcGIS Online Feature Layer and Maps"
   ]
  },
  {
   "cell_type": "code",
   "execution_count": 24,
   "metadata": {},
   "outputs": [],
   "source": [
    "# connect to arcgis account\n",
    "gis = GIS('pro')"
   ]
  },
  {
   "cell_type": "code",
   "execution_count": 25,
   "metadata": {},
   "outputs": [],
   "source": [
    "# functions\n",
    "def get_map (map_id):\n",
    "    '''\n",
    "    GET MAP DATA FOR SYMBOLOGY CHANGES\n",
    "    '''  \n",
    "    m = gis.content.get(map_id)\n",
    "    data = m.get_data()    \n",
    "    #Include the below line for prettified JSON\n",
    "    #print(json.dumps(data, indent=4, sort_keys=True))\n",
    "    print(m)    \n",
    "    return data\n",
    "    \n",
    "def update_map (map_id, data):\n",
    "    '''\n",
    "    UPDATE MAP TO SAVE CHANGES\n",
    "    '''\n",
    "    m = gis.content.get(map_id)    \n",
    "    # Set the item_properties to include the desired update\n",
    "    properties = {\"text\": json.dumps(data)}\n",
    "    # 'Commit' the updates to the Item\n",
    "    update = m.update(item_properties=properties)\n",
    "    return update"
   ]
  },
  {
   "cell_type": "code",
   "execution_count": 26,
   "metadata": {},
   "outputs": [
    {
     "data": {
      "text/plain": [
       "{'success': True}"
      ]
     },
     "execution_count": 26,
     "metadata": {},
     "output_type": "execute_result"
    }
   ],
   "source": [
    "# feature layer overwrite\n",
    "#get feature layer containing updated data for maps associated with the COVID-19 dashboards\n",
    "layer = gis.content.get(layer_id)\n",
    "layer\n",
    "\n",
    "layer_collection = FeatureLayerCollection.fromitem(layer)\n",
    "\n",
    "#call the overwrite() method which can be accessed using the manager property\n",
    "layer_collection.manager.overwrite(path_out4)"
   ]
  },
  {
   "cell_type": "code",
   "execution_count": 27,
   "metadata": {},
   "outputs": [
    {
     "name": "stdout",
     "output_type": "stream",
     "text": [
      "494.39 57.14 9.92\n"
     ]
    }
   ],
   "source": [
    "# get max values to update map symbology - rate100k [14], average [13], changerate [12]\n",
    "max_rate100k = df2['7-Day Case Rate Per 100K'].max()\n",
    "max_average = df2['7-Day Case Average'].max()\n",
    "max_changerate = df2['7-Day Change Rate*1000'].max()\n",
    "\n",
    "print(max_rate100k, max_average, max_changerate)"
   ]
  },
  {
   "cell_type": "code",
   "execution_count": 30,
   "metadata": {},
   "outputs": [
    {
     "name": "stdout",
     "output_type": "stream",
     "text": [
      "<Item title:\"NIH RADx-UP Weekly COVID-19 Update\" type:Web Map owner:jembury8568_SDSUGeo>\n"
     ]
    },
    {
     "data": {
      "text/plain": [
       "True"
      ]
     },
     "execution_count": 30,
     "metadata": {},
     "output_type": "execute_result"
    }
   ],
   "source": [
    "# update desktop map\n",
    "#get map data\n",
    "data = get_map(map_id)\n",
    "\n",
    "#adjust symbology for graduated points to reflect new max/min\n",
    "#MAX rate 100k\n",
    "data['operationalLayers'][14]['layerDefinition']['drawingInfo']['renderer']['authoringInfo']['visualVariables'][0]['maxSliderValue'] = max_rate100k.item()\n",
    "data['operationalLayers'][14]['layerDefinition']['drawingInfo']['renderer']['visualVariables'][0]['maxDataValue'] = max_rate100k.item()\n",
    "\n",
    "#max average\n",
    "data['operationalLayers'][13]['layerDefinition']['drawingInfo']['renderer']['authoringInfo']['visualVariables'][0]['maxSliderValue'] = max_average.item()\n",
    "data['operationalLayers'][13]['layerDefinition']['drawingInfo']['renderer']['visualVariables'][0]['maxDataValue'] = max_average.item()\n",
    "\n",
    "#max change rate\n",
    "data['operationalLayers'][12]['layerDefinition']['drawingInfo']['renderer']['authoringInfo']['visualVariables'][0]['maxSliderValue'] = max_changerate.item()\n",
    "data['operationalLayers'][12]['layerDefinition']['drawingInfo']['renderer']['visualVariables'][0]['maxDataValue'] = max_changerate.item()\n",
    "\n",
    "#update map to save changes\n",
    "update = update_map(map_id, data)\n",
    "update"
   ]
  },
  {
   "cell_type": "code",
   "execution_count": 31,
   "metadata": {},
   "outputs": [
    {
     "name": "stdout",
     "output_type": "stream",
     "text": [
      "<Item title:\"NIH RADx-UP Weekly COVID-19 Update - Mobile\" type:Web Map owner:jembury8568_SDSUGeo>\n"
     ]
    },
    {
     "data": {
      "text/plain": [
       "True"
      ]
     },
     "execution_count": 31,
     "metadata": {},
     "output_type": "execute_result"
    }
   ],
   "source": [
    "# update mobile map\n",
    "#get map data\n",
    "data2 = get_map(mobilemap_id)\n",
    "\n",
    "#adjust symbology for graduated points to reflect new max/min\n",
    "#MAX rate 100k\n",
    "data2['operationalLayers'][14]['layerDefinition']['drawingInfo']['renderer']['authoringInfo']['visualVariables'][0]['maxSliderValue'] = max_rate100k.item()\n",
    "data2['operationalLayers'][14]['layerDefinition']['drawingInfo']['renderer']['visualVariables'][0]['maxDataValue'] = max_rate100k.item()\n",
    "\n",
    "#max average\n",
    "data2['operationalLayers'][13]['layerDefinition']['drawingInfo']['renderer']['authoringInfo']['visualVariables'][0]['maxSliderValue'] = max_average.item()\n",
    "data2['operationalLayers'][13]['layerDefinition']['drawingInfo']['renderer']['visualVariables'][0]['maxDataValue'] = max_average.item()\n",
    "\n",
    "#max change rate\n",
    "data2['operationalLayers'][12]['layerDefinition']['drawingInfo']['renderer']['authoringInfo']['visualVariables'][0]['maxSliderValue'] = max_changerate.item()\n",
    "data2['operationalLayers'][12]['layerDefinition']['drawingInfo']['renderer']['visualVariables'][0]['maxDataValue'] = max_changerate.item()\n",
    "\n",
    "#update map to save changes\n",
    "update2 = update_map(mobilemap_id, data2)\n",
    "update2"
   ]
  },
  {
   "cell_type": "code",
   "execution_count": 32,
   "metadata": {},
   "outputs": [
    {
     "data": {
      "text/plain": [
       "True"
      ]
     },
     "execution_count": 32,
     "metadata": {},
     "output_type": "execute_result"
    }
   ],
   "source": [
    "#Open dashboard in browser\n",
    "webbrowser.open(dash, new=2)"
   ]
  },
  {
   "cell_type": "markdown",
   "metadata": {},
   "source": [
    "## Create Tables for Weekly Report"
   ]
  },
  {
   "cell_type": "code",
   "execution_count": 33,
   "metadata": {
    "scrolled": true
   },
   "outputs": [
    {
     "data": {
      "text/html": [
       "<div>\n",
       "<style scoped>\n",
       "    .dataframe tbody tr th:only-of-type {\n",
       "        vertical-align: middle;\n",
       "    }\n",
       "\n",
       "    .dataframe tbody tr th {\n",
       "        vertical-align: top;\n",
       "    }\n",
       "\n",
       "    .dataframe thead th {\n",
       "        text-align: right;\n",
       "    }\n",
       "</style>\n",
       "<table border=\"1\" class=\"dataframe\">\n",
       "  <thead>\n",
       "    <tr style=\"text-align: right;\">\n",
       "      <th></th>\n",
       "      <th>Zip Code</th>\n",
       "      <th>Community</th>\n",
       "      <th>7-Day Case Rate Per 100K</th>\n",
       "      <th>County Test Sites in Zip</th>\n",
       "      <th>County Test Sites in Adj. Zips</th>\n",
       "    </tr>\n",
       "  </thead>\n",
       "  <tbody>\n",
       "    <tr>\n",
       "      <th>46</th>\n",
       "      <td>92083</td>\n",
       "      <td>Vista</td>\n",
       "      <td>494.39</td>\n",
       "      <td>2</td>\n",
       "      <td>2</td>\n",
       "    </tr>\n",
       "    <tr>\n",
       "      <th>78</th>\n",
       "      <td>92154</td>\n",
       "      <td>SD, Otay Mesa</td>\n",
       "      <td>489.93</td>\n",
       "      <td>0</td>\n",
       "      <td>8</td>\n",
       "    </tr>\n",
       "    <tr>\n",
       "      <th>60</th>\n",
       "      <td>92114</td>\n",
       "      <td>SD, Encanto</td>\n",
       "      <td>460.64</td>\n",
       "      <td>1</td>\n",
       "      <td>7</td>\n",
       "    </tr>\n",
       "    <tr>\n",
       "      <th>79</th>\n",
       "      <td>92173</td>\n",
       "      <td>San Ysidro</td>\n",
       "      <td>450.60</td>\n",
       "      <td>2</td>\n",
       "      <td>0</td>\n",
       "    </tr>\n",
       "    <tr>\n",
       "      <th>8</th>\n",
       "      <td>91935</td>\n",
       "      <td>Jamul</td>\n",
       "      <td>428.44</td>\n",
       "      <td>1</td>\n",
       "      <td>0</td>\n",
       "    </tr>\n",
       "    <tr>\n",
       "      <th>47</th>\n",
       "      <td>92084</td>\n",
       "      <td>Vista</td>\n",
       "      <td>427.49</td>\n",
       "      <td>2</td>\n",
       "      <td>3</td>\n",
       "    </tr>\n",
       "    <tr>\n",
       "      <th>12</th>\n",
       "      <td>91950</td>\n",
       "      <td>National City</td>\n",
       "      <td>424.87</td>\n",
       "      <td>2</td>\n",
       "      <td>4</td>\n",
       "    </tr>\n",
       "    <tr>\n",
       "      <th>59</th>\n",
       "      <td>92113</td>\n",
       "      <td>SD, Logan Heights</td>\n",
       "      <td>414.21</td>\n",
       "      <td>0</td>\n",
       "      <td>5</td>\n",
       "    </tr>\n",
       "    <tr>\n",
       "      <th>27</th>\n",
       "      <td>92027</td>\n",
       "      <td>Escondido</td>\n",
       "      <td>406.66</td>\n",
       "      <td>0</td>\n",
       "      <td>3</td>\n",
       "    </tr>\n",
       "    <tr>\n",
       "      <th>25</th>\n",
       "      <td>92025</td>\n",
       "      <td>Escondido</td>\n",
       "      <td>405.75</td>\n",
       "      <td>2</td>\n",
       "      <td>0</td>\n",
       "    </tr>\n",
       "  </tbody>\n",
       "</table>\n",
       "</div>"
      ],
      "text/plain": [
       "    Zip Code  ... County Test Sites in Adj. Zips\n",
       "46     92083  ...                              2\n",
       "78     92154  ...                              8\n",
       "60     92114  ...                              7\n",
       "79     92173  ...                              0\n",
       "8      91935  ...                              0\n",
       "47     92084  ...                              3\n",
       "12     91950  ...                              4\n",
       "59     92113  ...                              5\n",
       "27     92027  ...                              3\n",
       "25     92025  ...                              0\n",
       "\n",
       "[10 rows x 5 columns]"
      ]
     },
     "execution_count": 33,
     "metadata": {},
     "output_type": "execute_result"
    }
   ],
   "source": [
    "# Table 1:  Highest 7-Day Case Rates Per 100,000 Resident\n",
    "df2[['Zip Code', 'Community', '7-Day Case Rate Per 100K', 'County Test Sites in Zip', 'County Test Sites in Adj. Zips']].sort_values(['7-Day Case Rate Per 100K'], ascending=False).head(10)#.to_string(index=False)"
   ]
  },
  {
   "cell_type": "code",
   "execution_count": 34,
   "metadata": {},
   "outputs": [
    {
     "data": {
      "text/html": [
       "<div>\n",
       "<style scoped>\n",
       "    .dataframe tbody tr th:only-of-type {\n",
       "        vertical-align: middle;\n",
       "    }\n",
       "\n",
       "    .dataframe tbody tr th {\n",
       "        vertical-align: top;\n",
       "    }\n",
       "\n",
       "    .dataframe thead th {\n",
       "        text-align: right;\n",
       "    }\n",
       "</style>\n",
       "<table border=\"1\" class=\"dataframe\">\n",
       "  <thead>\n",
       "    <tr style=\"text-align: right;\">\n",
       "      <th></th>\n",
       "      <th>Zip Code</th>\n",
       "      <th>Community</th>\n",
       "      <th>7-Day Case Average</th>\n",
       "      <th>County Test Sites in Zip</th>\n",
       "      <th>County Test Sites in Adj. Zips</th>\n",
       "    </tr>\n",
       "  </thead>\n",
       "  <tbody>\n",
       "    <tr>\n",
       "      <th>78</th>\n",
       "      <td>92154</td>\n",
       "      <td>SD, Otay Mesa</td>\n",
       "      <td>57.14</td>\n",
       "      <td>0</td>\n",
       "      <td>8</td>\n",
       "    </tr>\n",
       "    <tr>\n",
       "      <th>3</th>\n",
       "      <td>91911</td>\n",
       "      <td>Chula Vista</td>\n",
       "      <td>42.57</td>\n",
       "      <td>2</td>\n",
       "      <td>1</td>\n",
       "    </tr>\n",
       "    <tr>\n",
       "      <th>60</th>\n",
       "      <td>92114</td>\n",
       "      <td>SD, Encanto</td>\n",
       "      <td>38.71</td>\n",
       "      <td>1</td>\n",
       "      <td>7</td>\n",
       "    </tr>\n",
       "    <tr>\n",
       "      <th>2</th>\n",
       "      <td>91910</td>\n",
       "      <td>Chula Vista</td>\n",
       "      <td>38.43</td>\n",
       "      <td>1</td>\n",
       "      <td>5</td>\n",
       "    </tr>\n",
       "    <tr>\n",
       "      <th>12</th>\n",
       "      <td>91950</td>\n",
       "      <td>National City</td>\n",
       "      <td>35.57</td>\n",
       "      <td>2</td>\n",
       "      <td>4</td>\n",
       "    </tr>\n",
       "    <tr>\n",
       "      <th>52</th>\n",
       "      <td>92105</td>\n",
       "      <td>SD, City Heights</td>\n",
       "      <td>32.43</td>\n",
       "      <td>1</td>\n",
       "      <td>3</td>\n",
       "    </tr>\n",
       "    <tr>\n",
       "      <th>27</th>\n",
       "      <td>92027</td>\n",
       "      <td>Escondido</td>\n",
       "      <td>31.14</td>\n",
       "      <td>0</td>\n",
       "      <td>3</td>\n",
       "    </tr>\n",
       "    <tr>\n",
       "      <th>22</th>\n",
       "      <td>92020</td>\n",
       "      <td>El Cajon</td>\n",
       "      <td>30.29</td>\n",
       "      <td>1</td>\n",
       "      <td>1</td>\n",
       "    </tr>\n",
       "    <tr>\n",
       "      <th>47</th>\n",
       "      <td>92084</td>\n",
       "      <td>Vista</td>\n",
       "      <td>30.14</td>\n",
       "      <td>2</td>\n",
       "      <td>3</td>\n",
       "    </tr>\n",
       "    <tr>\n",
       "      <th>25</th>\n",
       "      <td>92025</td>\n",
       "      <td>Escondido</td>\n",
       "      <td>29.86</td>\n",
       "      <td>2</td>\n",
       "      <td>0</td>\n",
       "    </tr>\n",
       "  </tbody>\n",
       "</table>\n",
       "</div>"
      ],
      "text/plain": [
       "    Zip Code  ... County Test Sites in Adj. Zips\n",
       "78     92154  ...                              8\n",
       "3      91911  ...                              1\n",
       "60     92114  ...                              7\n",
       "2      91910  ...                              5\n",
       "12     91950  ...                              4\n",
       "52     92105  ...                              3\n",
       "27     92027  ...                              3\n",
       "22     92020  ...                              1\n",
       "47     92084  ...                              3\n",
       "25     92025  ...                              0\n",
       "\n",
       "[10 rows x 5 columns]"
      ]
     },
     "execution_count": 34,
     "metadata": {},
     "output_type": "execute_result"
    }
   ],
   "source": [
    "# Table 2:  Highest 7-Day Average Case Burdens\n",
    "df2[['Zip Code', 'Community', '7-Day Case Average', 'County Test Sites in Zip', 'County Test Sites in Adj. Zips']].sort_values(['7-Day Case Average'], ascending=False).head(10)#.to_string(index=False))"
   ]
  },
  {
   "cell_type": "code",
   "execution_count": 35,
   "metadata": {
    "scrolled": true
   },
   "outputs": [
    {
     "data": {
      "text/html": [
       "<div>\n",
       "<style scoped>\n",
       "    .dataframe tbody tr th:only-of-type {\n",
       "        vertical-align: middle;\n",
       "    }\n",
       "\n",
       "    .dataframe tbody tr th {\n",
       "        vertical-align: top;\n",
       "    }\n",
       "\n",
       "    .dataframe thead th {\n",
       "        text-align: right;\n",
       "    }\n",
       "</style>\n",
       "<table border=\"1\" class=\"dataframe\">\n",
       "  <thead>\n",
       "    <tr style=\"text-align: right;\">\n",
       "      <th></th>\n",
       "      <th>Zip Code</th>\n",
       "      <th>Community</th>\n",
       "      <th>7-Day Change Rate*1000</th>\n",
       "      <th>County Test Sites in Zip</th>\n",
       "      <th>County Test Sites in Adj. Zips</th>\n",
       "    </tr>\n",
       "  </thead>\n",
       "  <tbody>\n",
       "    <tr>\n",
       "      <th>57</th>\n",
       "      <td>92110</td>\n",
       "      <td>SD, Old Town</td>\n",
       "      <td>9.92</td>\n",
       "      <td>1</td>\n",
       "      <td>1</td>\n",
       "    </tr>\n",
       "    <tr>\n",
       "      <th>8</th>\n",
       "      <td>91935</td>\n",
       "      <td>Jamul</td>\n",
       "      <td>9.27</td>\n",
       "      <td>1</td>\n",
       "      <td>0</td>\n",
       "    </tr>\n",
       "    <tr>\n",
       "      <th>19</th>\n",
       "      <td>92011</td>\n",
       "      <td>Carlsbad</td>\n",
       "      <td>9.26</td>\n",
       "      <td>0</td>\n",
       "      <td>0</td>\n",
       "    </tr>\n",
       "    <tr>\n",
       "      <th>32</th>\n",
       "      <td>92054</td>\n",
       "      <td>Oceanside</td>\n",
       "      <td>7.76</td>\n",
       "      <td>1</td>\n",
       "      <td>3</td>\n",
       "    </tr>\n",
       "    <tr>\n",
       "      <th>41</th>\n",
       "      <td>92071</td>\n",
       "      <td>Santee</td>\n",
       "      <td>7.70</td>\n",
       "      <td>1</td>\n",
       "      <td>1</td>\n",
       "    </tr>\n",
       "    <tr>\n",
       "      <th>16</th>\n",
       "      <td>92008</td>\n",
       "      <td>Carlsbad</td>\n",
       "      <td>7.61</td>\n",
       "      <td>0</td>\n",
       "      <td>1</td>\n",
       "    </tr>\n",
       "    <tr>\n",
       "      <th>39</th>\n",
       "      <td>92067</td>\n",
       "      <td>Rancho Santa Fe</td>\n",
       "      <td>7.60</td>\n",
       "      <td>0</td>\n",
       "      <td>1</td>\n",
       "    </tr>\n",
       "    <tr>\n",
       "      <th>46</th>\n",
       "      <td>92083</td>\n",
       "      <td>Vista</td>\n",
       "      <td>7.20</td>\n",
       "      <td>2</td>\n",
       "      <td>2</td>\n",
       "    </tr>\n",
       "    <tr>\n",
       "      <th>47</th>\n",
       "      <td>92084</td>\n",
       "      <td>Vista</td>\n",
       "      <td>7.00</td>\n",
       "      <td>2</td>\n",
       "      <td>3</td>\n",
       "    </tr>\n",
       "    <tr>\n",
       "      <th>31</th>\n",
       "      <td>92040</td>\n",
       "      <td>Lakeside</td>\n",
       "      <td>6.75</td>\n",
       "      <td>0</td>\n",
       "      <td>2</td>\n",
       "    </tr>\n",
       "  </tbody>\n",
       "</table>\n",
       "</div>"
      ],
      "text/plain": [
       "    Zip Code  ... County Test Sites in Adj. Zips\n",
       "57     92110  ...                              1\n",
       "8      91935  ...                              0\n",
       "19     92011  ...                              0\n",
       "32     92054  ...                              3\n",
       "41     92071  ...                              1\n",
       "16     92008  ...                              1\n",
       "39     92067  ...                              1\n",
       "46     92083  ...                              2\n",
       "47     92084  ...                              3\n",
       "31     92040  ...                              2\n",
       "\n",
       "[10 rows x 5 columns]"
      ]
     },
     "execution_count": 35,
     "metadata": {},
     "output_type": "execute_result"
    }
   ],
   "source": [
    "# Table 3:  Highest 7-Day Average Change Rate\n",
    "df2[['Zip Code', 'Community', '7-Day Change Rate*1000', 'County Test Sites in Zip', 'County Test Sites in Adj. Zips']].sort_values(['7-Day Change Rate*1000'], ascending=False).head(10)#.to_string(index=False))"
   ]
  }
 ],
 "metadata": {
  "kernelspec": {
   "display_name": "ArcGISPro",
   "language": "Python",
   "name": "python3"
  },
  "language_info": {
   "file_extension": ".py",
   "name": "python",
   "version": "3"
  }
 },
 "nbformat": 4,
 "nbformat_minor": 2
}
