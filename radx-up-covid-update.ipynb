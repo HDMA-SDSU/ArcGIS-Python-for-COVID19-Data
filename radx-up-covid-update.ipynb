{
 "cells": [
  {
   "cell_type": "markdown",
   "metadata": {},
   "source": [
    "# Weekly Update of the COVID-19 Cases in Top Ten Zip Code Areas\n",
    "### Prepared for NIH RADx-Up Project: Communities Fighting COVID\n",
    "Center for Human Dynamics in the Mobile Age (HDMA) at San Diego State University <br>\n",
    "Jessica Embury"
   ]
  },
  {
   "cell_type": "markdown",
   "metadata": {},
   "source": [
    "## Import Statements"
   ]
  },
  {
   "cell_type": "code",
   "execution_count": null,
   "metadata": {},
   "outputs": [],
   "source": [
    "import pandas as pd\n",
    "import arcpy\n",
    "import webbrowser\n",
    "import json\n",
    "from arcgis.gis import GIS\n",
    "from arcgis import geometry\n",
    "from arcgis.features import GeoAccessor, GeoSeriesAccessor\n",
    "from arcgis.features import FeatureLayerCollection\n",
    "from arcgis.features import FeatureLayer"
   ]
  },
  {
   "cell_type": "markdown",
   "metadata": {},
   "source": [
    "## User Variables"
   ]
  },
  {
   "cell_type": "code",
   "execution_count": null,
   "metadata": {},
   "outputs": [],
   "source": [
    "###########################\n",
    "###SET DATA THROUGH DATE###\n",
    "###########################\n",
    "most_recent_date = '02/20/2021'  # Change date daily using 'MM/DD/YYYY' format\n",
    "date_range = '2/14/21 - 2/20/21'\n",
    "\n",
    "# modified date\n",
    "d = most_recent_date.replace('/','')\n",
    "\n",
    "##########################\n",
    "###SET PATHS IN AND OUT###\n",
    "##########################\n",
    "#PATHS IN\n",
    "path_in = '../covid_data/percents/covid_percents_{}.csv'.format(d)\n",
    "\n",
    "#PATHS OUT\n",
    "path_out = './data/radx_covid_upload.csv'\n",
    "path_out2 = '../covid_data/radx_updates/radx_covid_update_{}.csv'.format(d)\n",
    "#path out for dash updates, feature layer overwrite\n",
    "path_out3 = '../covid_data/radx_updates/radx_covid_sites_update_{}.csv'.format(d)\n",
    "path_out4 = '../covid_data/radx_updates/radx_covid_sites_upload.csv'\n",
    "\n",
    "################################\n",
    "###ARCGIS DETAILS FOR UPDATES###\n",
    "################################\n",
    "layer_id = '94f1c49aeb324fff91d35f8ab86c553f'\n",
    "map_id = '6978702efc634f508003453e434417da'\n",
    "mobilemap_id = '06bec9354a214a7ea0e781368eca5cd9'\n",
    "dash = 'https://experience.arcgis.com/experience/906d9ccaa0894762ae7bfa8aa46d1809'"
   ]
  },
  {
   "cell_type": "markdown",
   "metadata": {},
   "source": [
    "## Data Processing - Pandas"
   ]
  },
  {
   "cell_type": "code",
   "execution_count": null,
   "metadata": {},
   "outputs": [],
   "source": [
    "# create df using covid spreadsheet from most_recent_date\n",
    "df = pd.read_csv(path_in)\n",
    "\n",
    "df.head()"
   ]
  },
  {
   "cell_type": "code",
   "execution_count": null,
   "metadata": {},
   "outputs": [],
   "source": [
    "# delete unwanted columns\n",
    "del df['Daily Increased']\n",
    "del df['Daily Change Rate*1000']\n",
    "del df['percent_total']\n",
    "del df['percent_daily']\n",
    "\n",
    "df.head()"
   ]
  },
  {
   "cell_type": "code",
   "execution_count": null,
   "metadata": {},
   "outputs": [],
   "source": [
    "# rename columns to match new schema\n",
    "df = df.rename(columns = {'2018_population': 'Population 2018', 'Date': 'Date Range', 'Confirmed Cases': 'Accumulated Confirmed Cases', \n",
    "                         'Rate Per 100K': 'Accumulated Rate Per 100K', '7 Day Case Increase': '7-Day Confirmed Cases', \n",
    "                          '7 Days Rolling Change*1000': '7-Day Change Rate*1000'})\n",
    "\n",
    "df['Date Range'] = date_range\n",
    "\n",
    "df.head()"
   ]
  },
  {
   "cell_type": "code",
   "execution_count": null,
   "metadata": {
    "scrolled": true
   },
   "outputs": [],
   "source": [
    "# create columns, calculate values for daily average and weekly case rate per 100k residents\n",
    "df['7-Day Case Average'] = round(df['7-Day Confirmed Cases']/7, 2)\n",
    "\n",
    "df['7-Day Case Rate Per 100K'] = round(df['7-Day Confirmed Cases']/df['Population 2018']*100000, 2)\n",
    "\n",
    "df.head()"
   ]
  },
  {
   "cell_type": "code",
   "execution_count": null,
   "metadata": {},
   "outputs": [],
   "source": [
    "# save df to csv files\n",
    "df.to_csv(path_out, index=False)\n",
    "df.to_csv(path_out2, index=False)"
   ]
  },
  {
   "cell_type": "markdown",
   "metadata": {},
   "source": [
    "## Data Processing - arcpy\n",
    "Calculate number of County test sites in each zip code and in adjacent zip codes, add as columns to df"
   ]
  },
  {
   "cell_type": "code",
   "execution_count": null,
   "metadata": {},
   "outputs": [],
   "source": [
    "# csv path for gdb table\n",
    "csv_in = path_out\n",
    "\n",
    "# Get and set current project and geodatabase info\n",
    "arcpy.env.overwriteOutput = True\n",
    "aprx = arcpy.mp.ArcGISProject('CURRENT')\n",
    "defaultGeoDb = arcpy.env.workspace\n",
    "aprx.defaultGeodatabase = defaultGeoDb\n",
    "currentMap = aprx.activeMap\n",
    "\n",
    "# set names for table and layer\n",
    "tempStr = 'radx_covid_update_{}.csv'.format(d)\n",
    "newMapName= 'lyr_' + tempStr\n",
    "newTableName = 'tbl_' + tempStr\n",
    "\n",
    "# convert CSV data into table and add to default database - look in database to see it was added\n",
    "arcpy.TableToTable_conversion(csv_in,defaultGeoDb,newTableName)"
   ]
  },
  {
   "cell_type": "code",
   "execution_count": null,
   "metadata": {
    "scrolled": true
   },
   "outputs": [],
   "source": [
    "# join radx case data to zipcode polygon\n",
    "covid_data_join = arcpy.management.AddJoin('zips_test_sites', 'ZIP', newTableName, 'Zipcode')\n",
    "\n",
    "# output joined layer to gdb\n",
    "arcpy.CopyFeatures_management(covid_data_join, 'C:/Users/jesse/iCloudDrive/HDMA/covid_dashboards/Default.gdb/{}'.format(newMapName).replace('.csv',''))"
   ]
  },
  {
   "cell_type": "code",
   "execution_count": null,
   "metadata": {},
   "outputs": [],
   "source": [
    "# remove join\n",
    "arcpy.RemoveJoin_management('zips_test_sites')"
   ]
  },
  {
   "cell_type": "code",
   "execution_count": null,
   "metadata": {},
   "outputs": [],
   "source": [
    "# spatial join to get number of test sites in each zip code\n",
    "# Join_Count = number of tests sites in each zip code\n",
    "zip_sites = arcpy.analysis.SpatialJoin('zips_test_sites', 'COVID19_Testing_Locations', \n",
    "                                       'C:/Users/jesse/iCloudDrive/HDMA/covid_dashboards/Default.gdb/sites_in_zips_{}'.format(d))"
   ]
  },
  {
   "cell_type": "code",
   "execution_count": null,
   "metadata": {},
   "outputs": [],
   "source": [
    "# get zip code neighbors - do not need to re-run each time\n",
    "# zip_nbrs = arcpy.analysis.PolygonNeighbors('zips_test_sites', 'C:/Users/jesse/iCloudDrive/HDMA/covid_dashboards/Default.gdb/zip_neighbors', 'ZIP')"
   ]
  },
  {
   "cell_type": "code",
   "execution_count": null,
   "metadata": {
    "scrolled": true
   },
   "outputs": [],
   "source": [
    "#join zip_nbrs to zip_sites to eventually get number of sites in neighboring zip codes for each zip code\n",
    "nbrs_join = arcpy.management.AddJoin('sites_in_zips_{}'.format(most_recent_date.replace('/', '')), 'ZIP', \n",
    "                                     'zip_neighbors', 'nbr_ZIP')\n",
    "# output joined layer to gdb\n",
    "arcpy.CopyFeatures_management(nbrs_join, 'C:/Users/jesse/iCloudDrive/HDMA/covid_dashboards/Default.gdb/zip_nbr_join_{}'.format(d))"
   ]
  },
  {
   "cell_type": "code",
   "execution_count": null,
   "metadata": {},
   "outputs": [],
   "source": [
    "# remove join\n",
    "arcpy.RemoveJoin_management('sites_in_zips_{}'.format(most_recent_date.replace('/', '')))"
   ]
  },
  {
   "cell_type": "code",
   "execution_count": null,
   "metadata": {},
   "outputs": [],
   "source": [
    "# dissolve zip_nbr_join to get sum of sites in neighboring zips\n",
    "arcpy.management.Dissolve('C:/Users/jesse/iCloudDrive/HDMA/covid_dashboards/Default.gdb/zip_nbr_join_{}'.format(d), \n",
    "                          'C:/Users/jesse/iCloudDrive/HDMA/covid_dashboards/Default.gdb/zip_nbr_diss_{}'.format(d), \n",
    "                          'zip_neighbors_src_ZIP', 'sites_in_zips_{}_Join_Count SUM'.format(d))"
   ]
  },
  {
   "cell_type": "code",
   "execution_count": null,
   "metadata": {},
   "outputs": [],
   "source": [
    "# join zip_nbr_diss and sites_in_zips\n",
    "sites_join_in_adj = arcpy.management.AddJoin('sites_in_zips_{}'.format(d), 'ZIP', \n",
    "                                             'zip_nbr_diss_{}'.format(d), 'zip_neighbors_src_ZIP')\n",
    "# output joined layer to gdb\n",
    "arcpy.CopyFeatures_management(sites_join_in_adj, 'C:/Users/jesse/iCloudDrive/HDMA/covid_dashboards/Default.gdb/zip_sites_in_and_adj_{}'.format(d))"
   ]
  },
  {
   "cell_type": "code",
   "execution_count": null,
   "metadata": {},
   "outputs": [],
   "source": [
    "# remove join\n",
    "arcpy.RemoveJoin_management('sites_in_zips_{}'.format(d))"
   ]
  },
  {
   "cell_type": "code",
   "execution_count": null,
   "metadata": {},
   "outputs": [],
   "source": [
    "# join zip_sites_in_and_adj and lyr_radx_covid_update\n",
    "radx_sites_join = arcpy.management.AddJoin(newMapName, 'zips_test_sites_ZIP', \n",
    "                                             'zip_sites_in_and_adj_{}'.format(d), \n",
    "                                             'sites_in_zips_{}_ZIP'.format(d))\n",
    "\n",
    "# output joined layer to gdb\n",
    "arcpy.CopyFeatures_management(radx_sites_join, 'C:/Users/jesse/iCloudDrive/HDMA/covid_dashboards/Default.gdb/radx_7day_update_{}'.format(d))"
   ]
  },
  {
   "cell_type": "code",
   "execution_count": null,
   "metadata": {
    "scrolled": true
   },
   "outputs": [],
   "source": [
    "# remove join\n",
    "arcpy.RemoveJoin_management(newMapName)"
   ]
  },
  {
   "cell_type": "code",
   "execution_count": null,
   "metadata": {},
   "outputs": [],
   "source": [
    "# del unnecessary fields from radx_7day_update\n",
    "\n",
    "# layer name\n",
    "layer_name = 'radx_7day_update_{}'.format(d)\n",
    "\n",
    "# repeat field name segments\n",
    "f1 = 'lyr_radx_covid_update_{}'.format(d)\n",
    "f2 = 'zip_sites_in_and_adj_{}'.format(d)\n",
    "f3 = 'sites_in_zips_{}'.format(d)\n",
    "f4 = '{}_tbl_radx_covid_update_{}'.format(f1, d)\n",
    "\n",
    "arcpy.DeleteField_management(layer_name, \n",
    "                             ['{}_zips_test_sites_ZIP'.format(f1),\n",
    "                             '{}_zips_test_sites_zip_text'.format(f1), \n",
    "                             '{}_OB'.format(f4),\n",
    "                             '{}_OBJECTID'.format(f2),\n",
    "                             '{}_{}_TARGET_FID'.format(f2, f3),\n",
    "                             '{}_{}_ZIP'.format(f2, f3),\n",
    "                             '{}_{}_zip_text'.format(f2, f3),\n",
    "                             '{}_{}_facilityid'.format(f2, f3),\n",
    "                             '{}_{}_name'.format(f2, f3),\n",
    "                             '{}_{}_fulladdr'.format(f2, f3),\n",
    "                             '{}_{}_municipalit'.format(f2, f3),\n",
    "                             '{}_{}_agency'.format(f2, f3),\n",
    "                             '{}_{}_agencytype'.format(f2, f3),\n",
    "                             '{}_{}_phone'.format(f2, f3),\n",
    "                             '{}_{}_agencyurl'.format(f2, f3),\n",
    "                             '{}_{}_operhours'.format(f2, f3),\n",
    "                             '{}_{}_comments'.format(f2, f3),\n",
    "                             '{}_{}_Instruction'.format(f2, f3),\n",
    "                             '{}_{}_status'.format(f2, f3),\n",
    "                             '{}_{}_CreationDat'.format(f2, f3),\n",
    "                             '{}_{}_EditDate'.format(f2, f3),\n",
    "                             '{}_{}_drive_throu'.format(f2, f3),\n",
    "                             '{}_{}_appt_only'.format(f2, f3),\n",
    "                             '{}_{}_referral_re'.format(f2, f3),\n",
    "                             '{}_{}_services_of'.format(f2, f3),\n",
    "                             '{}_{}_call_first'.format(f2, f3),\n",
    "                             '{}_{}_virtual_scr'.format(f2, f3),\n",
    "                             '{}_{}_health_dept'.format(f2, f3),\n",
    "                             '{}_{}_State'.format(f2, f3),\n",
    "                             '{}_{}_data_source'.format(f2, f3),\n",
    "                             '{}_{}_county'.format(f2, f3),\n",
    "                             '{}_{}_red_flag'.format(f2, f3),\n",
    "                             '{}_{}_vol_note'.format(f2, f3),\n",
    "                             '{}_{}_public_form'.format(f2, f3),\n",
    "                             '{}_{}_start_date'.format(f2, f3),\n",
    "                             '{}_{}_end_date'.format(f2, f3),\n",
    "                             '{}_{}_type_of_tes'.format(f2, f3),\n",
    "                             '{}_{}_test_proces'.format(f2, f3),\n",
    "                             '{}_{}_fine_print'.format(f2, f3),\n",
    "                             '{}_{}_bos_distric'.format(f2, f3),\n",
    "                             '{}_{}_DISPLAY_PUB'.format(f2, f3),\n",
    "                             '{}_{}_name_spanis'.format(f2, f3),\n",
    "                             '{}_{}_operhours_s'.format(f2, f3),\n",
    "                             '{}_{}_instructi_1'.format(f2, f3),\n",
    "                             '{}_{}_operhours_n'.format(f2, f3),\n",
    "                             '{}_zip_nbr_diss_{}_OBJECTID'.format(f2, d),\n",
    "                             '{}_zip_nbr_diss_{}_zip_neighbor'.format(f2, d)\n",
    "                             ])"
   ]
  },
  {
   "cell_type": "code",
   "execution_count": null,
   "metadata": {},
   "outputs": [],
   "source": [
    "# rename fields\n",
    "\n",
    "# [old name, new name, alias]\n",
    "col_names = [\n",
    "         ['{}_Zi'.format(f4), 'zipcode', 'Zip Code'],\n",
    "         ['{}_Co'.format(f4), 'community', 'Community'],\n",
    "         ['{}_La'.format(f4), 'lat', 'Latitude'],\n",
    "         ['{}_Lo'.format(f4), 'lon', 'Longitude'],\n",
    "         ['{}_Po'.format(f4), 'population2018', 'Population 2018'],\n",
    "         ['{}_Da'.format(f4), 'date_range', 'Date Range'],\n",
    "         ['{}_Ac'.format(f4),'accum_cases', 'Accumulated Confirmed Cases'],\n",
    "         ['{}__1'.format(f4), 'accum_rate_100k_res', 'Accumulated Rate Per 100K'],\n",
    "         ['{}_F7'.format(f4),'change_rate_7day', '7-Day Change Rate*1000'],\n",
    "         ['{}__2'.format(f4), 'confirmed_cases_7day', '7-Day Confirmed Cases'],\n",
    "         ['{}__3'.format(f4),'case_avg_7day', '7-Day Case Average'],\n",
    "         ['{}__4'.format(f4), 'case_100kres_7day', '7-Day Case Rate Per 100K'],\n",
    "         ['{}_sites_in_zips_{}_Join_Count'.format(f2, d), 'sites_in_zip', 'County Test Sites in Zip'],\n",
    "         ['{}_zip_nbr_diss_{}_SUM_sites_in'.format(f2, d),'sites_adj_zips', 'County Test Sites in Adj. Zips']\n",
    "        ]\n",
    "\n",
    "# rename columns with AlterField\n",
    "for name in col_names:\n",
    "    arcpy.management.AlterField(layer_name, name[0], name[1], name[2])"
   ]
  },
  {
   "cell_type": "code",
   "execution_count": null,
   "metadata": {
    "scrolled": false
   },
   "outputs": [],
   "source": [
    "# save as csv file\n",
    "arcpy.conversion.TableToTable('radx_7day_update_{}'.format(d),\n",
    "                              '../covid_data/radx_updates',\n",
    "                              'radx_covid_sites_update{}.csv'.format(d)\n",
    "                             )"
   ]
  },
  {
   "cell_type": "code",
   "execution_count": null,
   "metadata": {
    "scrolled": true
   },
   "outputs": [],
   "source": [
    "# format table for layer overwrite\n",
    "df2 = pd.read_csv('../covid_data/radx_updates/radx_covid_sites_update{}.csv'.format(d))\n",
    "\n",
    "del df2['OID_']\n",
    "del df2 ['Shape_Length']\n",
    "del df2['Shape_Area']\n",
    "\n",
    "for name in col_names:\n",
    "    df2 = df2.rename(columns = {name[1] : name[2]})\n",
    "                                \n",
    "df2 = df2.dropna(subset = ['Zip Code'])\n",
    "\n",
    "df2['Zip Code'] = df2['Zip Code'].astype(int)\n",
    "df2['Population 2018'] = df2['Population 2018'].astype(int)\n",
    "df2['Accumulated Confirmed Cases'] = df2['Accumulated Confirmed Cases'].astype(int)\n",
    "df2['7-Day Confirmed Cases'] = df2['7-Day Confirmed Cases'].astype(int)\n",
    "df2['County Test Sites in Zip'] = df2['County Test Sites in Zip'].astype(int)\n",
    "df2['County Test Sites in Adj. Zips'] = df2['County Test Sites in Adj. Zips'].astype(int)\n",
    "\n",
    "# save df to csv files\n",
    "df2.to_csv(path_out3, index=False)\n",
    "df2.to_csv(path_out4, index=False)\n",
    "\n",
    "print(len(df2))\n",
    "df2.head()"
   ]
  },
  {
   "cell_type": "markdown",
   "metadata": {},
   "source": [
    "## Update ArcGIS Online Feature Layer and Maps"
   ]
  },
  {
   "cell_type": "code",
   "execution_count": null,
   "metadata": {},
   "outputs": [],
   "source": [
    "# connect to arcgis account\n",
    "gis = GIS('pro')"
   ]
  },
  {
   "cell_type": "code",
   "execution_count": null,
   "metadata": {},
   "outputs": [],
   "source": [
    "# functions\n",
    "def get_map (map_id):\n",
    "    '''\n",
    "    GET MAP DATA FOR SYMBOLOGY CHANGES\n",
    "    '''  \n",
    "    m = gis.content.get(map_id)\n",
    "    data = m.get_data()    \n",
    "    #Include this line for JSON\n",
    "    #print(json.dumps(data, indent=4, sort_keys=True))\n",
    "    print(m)    \n",
    "    return data\n",
    "    \n",
    "def update_map (map_id, data):\n",
    "    '''\n",
    "    UPDATE MAP TO SAVE CHANGES\n",
    "    '''\n",
    "    m = gis.content.get(map_id)    \n",
    "    # Set the item_properties to include the desired update\n",
    "    properties = {\"text\": json.dumps(data)}\n",
    "    # 'Commit' the updates to the Item\n",
    "    update = m.update(item_properties=properties)\n",
    "    return update"
   ]
  },
  {
   "cell_type": "code",
   "execution_count": null,
   "metadata": {},
   "outputs": [],
   "source": [
    "# feature layer overwrite\n",
    "#get feature layer containing updated data for maps associated with the COVID-19 dashboards\n",
    "layer = gis.content.get(layer_id)\n",
    "layer\n",
    "\n",
    "layer_collection = FeatureLayerCollection.fromitem(layer)\n",
    "\n",
    "#call the overwrite() method which can be accessed using the manager property\n",
    "layer_collection.manager.overwrite(path_out4)"
   ]
  },
  {
   "cell_type": "code",
   "execution_count": null,
   "metadata": {},
   "outputs": [],
   "source": [
    "# get max values to update map symbology - rate100k [14], average [13], changerate [12]\n",
    "max_rate100k = df2['7-Day Case Rate Per 100K'].max()\n",
    "max_average = df2['7-Day Case Average'].max()\n",
    "max_changerate = df2['7-Day Change Rate*1000'].max()\n",
    "\n",
    "print(max_rate100k, max_average, max_changerate)"
   ]
  },
  {
   "cell_type": "code",
   "execution_count": null,
   "metadata": {},
   "outputs": [],
   "source": [
    "# update desktop map\n",
    "#get map data\n",
    "data = get_map(map_id)\n",
    "\n",
    "#adjust symbology for graduated points to reflect new max/min\n",
    "#MAX rate 100k\n",
    "data['operationalLayers'][14]['layerDefinition']['drawingInfo']['renderer']['authoringInfo']['visualVariables'][0]['maxSliderValue'] = max_rate100k.item()\n",
    "data['operationalLayers'][14]['layerDefinition']['drawingInfo']['renderer']['visualVariables'][0]['maxDataValue'] = max_rate100k.item()\n",
    "\n",
    "#max average\n",
    "data['operationalLayers'][13]['layerDefinition']['drawingInfo']['renderer']['authoringInfo']['visualVariables'][0]['maxSliderValue'] = max_average.item()\n",
    "data['operationalLayers'][13]['layerDefinition']['drawingInfo']['renderer']['visualVariables'][0]['maxDataValue'] = max_average.item()\n",
    "\n",
    "#max change rate\n",
    "data['operationalLayers'][12]['layerDefinition']['drawingInfo']['renderer']['authoringInfo']['visualVariables'][0]['maxSliderValue'] = max_changerate.item()\n",
    "data['operationalLayers'][12]['layerDefinition']['drawingInfo']['renderer']['visualVariables'][0]['maxDataValue'] = max_changerate.item()\n",
    "\n",
    "#update map to save changes\n",
    "update = update_map(map_id, data)\n",
    "update"
   ]
  },
  {
   "cell_type": "code",
   "execution_count": null,
   "metadata": {},
   "outputs": [],
   "source": [
    "# update mobile map\n",
    "#get map data\n",
    "data2 = get_map(mobilemap_id)\n",
    "\n",
    "#adjust symbology for graduated points to reflect new max/min\n",
    "#MAX rate 100k\n",
    "data2['operationalLayers'][14]['layerDefinition']['drawingInfo']['renderer']['authoringInfo']['visualVariables'][0]['maxSliderValue'] = max_rate100k.item()\n",
    "data2['operationalLayers'][14]['layerDefinition']['drawingInfo']['renderer']['visualVariables'][0]['maxDataValue'] = max_rate100k.item()\n",
    "\n",
    "#max average\n",
    "data2['operationalLayers'][13]['layerDefinition']['drawingInfo']['renderer']['authoringInfo']['visualVariables'][0]['maxSliderValue'] = max_average.item()\n",
    "data2['operationalLayers'][13]['layerDefinition']['drawingInfo']['renderer']['visualVariables'][0]['maxDataValue'] = max_average.item()\n",
    "\n",
    "#max change rate\n",
    "data2['operationalLayers'][12]['layerDefinition']['drawingInfo']['renderer']['authoringInfo']['visualVariables'][0]['maxSliderValue'] = max_changerate.item()\n",
    "data2['operationalLayers'][12]['layerDefinition']['drawingInfo']['renderer']['visualVariables'][0]['maxDataValue'] = max_changerate.item()\n",
    "\n",
    "#update map to save changes\n",
    "update2 = update_map(mobilemap_id, data2)\n",
    "update2"
   ]
  },
  {
   "cell_type": "code",
   "execution_count": null,
   "metadata": {},
   "outputs": [],
   "source": [
    "#Open dashboard in browser\n",
    "webbrowser.open(dash, new=2)"
   ]
  },
  {
   "cell_type": "markdown",
   "metadata": {},
   "source": [
    "## Create Tables for Weekly Report"
   ]
  },
  {
   "cell_type": "code",
   "execution_count": null,
   "metadata": {
    "scrolled": true
   },
   "outputs": [],
   "source": [
    "# Table 1:  Highest 7-Day Case Rates Per 100,000 Resident\n",
    "df2[['Zip Code', 'Community', '7-Day Case Rate Per 100K', 'County Test Sites in Zip', 'County Test Sites in Adj. Zips']].sort_values(['7-Day Case Rate Per 100K'], ascending=False).head(10)#.to_string(index=False)"
   ]
  },
  {
   "cell_type": "code",
   "execution_count": null,
   "metadata": {},
   "outputs": [],
   "source": [
    "# Table 2:  Highest 7-Day Average Case Burdens\n",
    "df2[['Zip Code', 'Community', '7-Day Case Average', 'County Test Sites in Zip', 'County Test Sites in Adj. Zips']].sort_values(['7-Day Case Average'], ascending=False).head(10)#.to_string(index=False))"
   ]
  },
  {
   "cell_type": "code",
   "execution_count": null,
   "metadata": {
    "scrolled": true
   },
   "outputs": [],
   "source": [
    "# Table 3:  Highest 7-Day Average Change Rate\n",
    "df2[['Zip Code', 'Community', '7-Day Change Rate*1000', 'County Test Sites in Zip', 'County Test Sites in Adj. Zips']].sort_values(['7-Day Change Rate*1000'], ascending=False).head(10)#.to_string(index=False))"
   ]
  },
  {
   "cell_type": "code",
   "execution_count": null,
   "metadata": {},
   "outputs": [],
   "source": []
  }
 ],
 "metadata": {
  "kernelspec": {
   "display_name": "ArcGISPro",
   "language": "Python",
   "name": "python3"
  },
  "language_info": {
   "file_extension": ".py",
   "name": "python",
   "version": "3"
  }
 },
 "nbformat": 4,
 "nbformat_minor": 2
}
