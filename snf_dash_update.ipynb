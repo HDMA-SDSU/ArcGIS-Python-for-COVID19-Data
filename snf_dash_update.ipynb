{
 "cells": [
  {
   "cell_type": "markdown",
   "metadata": {},
   "source": [
    "# COVID-19 SNF Dashboard Update"
   ]
  },
  {
   "cell_type": "markdown",
   "metadata": {},
   "source": [
    "Download data from https://www.cdph.ca.gov/Programs/CID/DCDC/Pages/COVID-19/SNFsCOVID_19.aspx"
   ]
  },
  {
   "cell_type": "code",
   "execution_count": 5,
   "metadata": {},
   "outputs": [
    {
     "data": {
      "text/plain": [
       "True"
      ]
     },
     "execution_count": 5,
     "metadata": {},
     "output_type": "execute_result"
    }
   ],
   "source": [
    "#Open CDPH's COVID-19 SNF site in browser\n",
    "import sys\n",
    "import webbrowser\n",
    "webbrowser.open('https://www.cdph.ca.gov/Programs/CID/DCDC/Pages/COVID-19/SNFsCOVID_19.aspx', new=2)"
   ]
  },
  {
   "cell_type": "markdown",
   "metadata": {},
   "source": [
    "### ENTER FILE DATES BEFORE RUNNING CELLS"
   ]
  },
  {
   "cell_type": "code",
   "execution_count": 6,
   "metadata": {},
   "outputs": [],
   "source": [
    "##############################\n",
    "###SET DATES BEFORE RUNNING###\n",
    "##############################\n",
    "\n",
    "#file_date = 'MMDDYY'\n",
    "file_date = '090620'\n",
    "\n",
    "#data_date = 'MM/DD/YYYY'\n",
    "data_date ='09/06/2020'\n"
   ]
  },
  {
   "cell_type": "markdown",
   "metadata": {},
   "source": [
    "### DATA PREPARATION"
   ]
  },
  {
   "cell_type": "code",
   "execution_count": 7,
   "metadata": {},
   "outputs": [],
   "source": [
    "#import modules\n",
    "from arcgis.gis import GIS\n",
    "from arcgis.features import FeatureLayerCollection\n",
    "from arcgis.mapping import WebMap\n",
    "from arcgis import geometry #use geometry module to project Long,Lat to X and Y\n",
    "from copy import deepcopy\n",
    "import pandas as pd\n",
    "pd.options.mode.chained_assignment = None  # default='warn'\n",
    "import numpy\n",
    "import json"
   ]
  },
  {
   "cell_type": "code",
   "execution_count": 8,
   "metadata": {},
   "outputs": [],
   "source": [
    "#connect to ArcGIS account\n",
    "gis = GIS(\"pro\")"
   ]
  },
  {
   "cell_type": "code",
   "execution_count": 9,
   "metadata": {},
   "outputs": [],
   "source": [
    "#specify file paths\n",
    "#paths in\n",
    "path_in = 'raw_snf_covid_{}.csv'.format(file_date)\n",
    "path_snf = 'data/snf_basic_info.csv'\n",
    "\n",
    "#paths out\n",
    "path_out = 'snf_covid_{}.csv'.format(file_date)"
   ]
  },
  {
   "cell_type": "code",
   "execution_count": 10,
   "metadata": {},
   "outputs": [
    {
     "name": "stdout",
     "output_type": "stream",
     "text": [
      "86\n"
     ]
    },
    {
     "data": {
      "text/html": [
       "<div>\n",
       "<style scoped>\n",
       "    .dataframe tbody tr th:only-of-type {\n",
       "        vertical-align: middle;\n",
       "    }\n",
       "\n",
       "    .dataframe tbody tr th {\n",
       "        vertical-align: top;\n",
       "    }\n",
       "\n",
       "    .dataframe thead th {\n",
       "        text-align: right;\n",
       "    }\n",
       "</style>\n",
       "<table border=\"1\" class=\"dataframe\">\n",
       "  <thead>\n",
       "    <tr style=\"text-align: right;\">\n",
       "      <th></th>\n",
       "      <th>FACID</th>\n",
       "      <th>HCW_DEATHS_LABEL</th>\n",
       "      <th>RES_DEATHS_LABEL</th>\n",
       "      <th>HCW_CUM_LABEL</th>\n",
       "      <th>RES_CUM_LABEL</th>\n",
       "      <th>HCW_DEATHS_PTS</th>\n",
       "      <th>HCW_DEATHS_STATS</th>\n",
       "      <th>RES_DEATHS_PTS</th>\n",
       "      <th>RES_DEATHS_STATS</th>\n",
       "      <th>HCW_CUM_PTS</th>\n",
       "      <th>HCW_CUM_STATS</th>\n",
       "      <th>RES_CUM_PTS</th>\n",
       "      <th>RES_CUM_STATS</th>\n",
       "      <th>DATA_DATE</th>\n",
       "    </tr>\n",
       "  </thead>\n",
       "  <tbody>\n",
       "    <tr>\n",
       "      <th>1</th>\n",
       "      <td>80000056</td>\n",
       "      <td>0</td>\n",
       "      <td>0</td>\n",
       "      <td>&lt;11</td>\n",
       "      <td>&lt;11</td>\n",
       "      <td>0</td>\n",
       "      <td>0</td>\n",
       "      <td>0</td>\n",
       "      <td>0</td>\n",
       "      <td>1</td>\n",
       "      <td>0</td>\n",
       "      <td>1</td>\n",
       "      <td>0</td>\n",
       "      <td>09/06/2020</td>\n",
       "    </tr>\n",
       "    <tr>\n",
       "      <th>3</th>\n",
       "      <td>90000102</td>\n",
       "      <td>0</td>\n",
       "      <td>0</td>\n",
       "      <td>0</td>\n",
       "      <td>0</td>\n",
       "      <td>0</td>\n",
       "      <td>0</td>\n",
       "      <td>0</td>\n",
       "      <td>0</td>\n",
       "      <td>0</td>\n",
       "      <td>0</td>\n",
       "      <td>0</td>\n",
       "      <td>0</td>\n",
       "      <td>09/06/2020</td>\n",
       "    </tr>\n",
       "    <tr>\n",
       "      <th>5</th>\n",
       "      <td>80000070</td>\n",
       "      <td>0</td>\n",
       "      <td>0</td>\n",
       "      <td>16</td>\n",
       "      <td>&lt;11</td>\n",
       "      <td>0</td>\n",
       "      <td>0</td>\n",
       "      <td>0</td>\n",
       "      <td>0</td>\n",
       "      <td>16</td>\n",
       "      <td>16</td>\n",
       "      <td>1</td>\n",
       "      <td>0</td>\n",
       "      <td>09/06/2020</td>\n",
       "    </tr>\n",
       "    <tr>\n",
       "      <th>7</th>\n",
       "      <td>90000029</td>\n",
       "      <td>0</td>\n",
       "      <td>0</td>\n",
       "      <td>0</td>\n",
       "      <td>0</td>\n",
       "      <td>0</td>\n",
       "      <td>0</td>\n",
       "      <td>0</td>\n",
       "      <td>0</td>\n",
       "      <td>0</td>\n",
       "      <td>0</td>\n",
       "      <td>0</td>\n",
       "      <td>0</td>\n",
       "      <td>09/06/2020</td>\n",
       "    </tr>\n",
       "    <tr>\n",
       "      <th>9</th>\n",
       "      <td>80000761</td>\n",
       "      <td>&lt;11</td>\n",
       "      <td>0</td>\n",
       "      <td>&lt;11</td>\n",
       "      <td>&lt;11</td>\n",
       "      <td>1</td>\n",
       "      <td>0</td>\n",
       "      <td>0</td>\n",
       "      <td>0</td>\n",
       "      <td>1</td>\n",
       "      <td>0</td>\n",
       "      <td>1</td>\n",
       "      <td>0</td>\n",
       "      <td>09/06/2020</td>\n",
       "    </tr>\n",
       "  </tbody>\n",
       "</table>\n",
       "</div>"
      ],
      "text/plain": [
       "      FACID HCW_DEATHS_LABEL  ... RES_CUM_STATS   DATA_DATE\n",
       "1  80000056                0  ...             0  09/06/2020\n",
       "3  90000102                0  ...             0  09/06/2020\n",
       "5  80000070                0  ...             0  09/06/2020\n",
       "7  90000029                0  ...             0  09/06/2020\n",
       "9  80000761              <11  ...             0  09/06/2020\n",
       "\n",
       "[5 rows x 14 columns]"
      ]
     },
     "execution_count": 10,
     "metadata": {},
     "output_type": "execute_result"
    }
   ],
   "source": [
    "###################################################\n",
    "###PREP WEBSITE DATA FOR MERGE WITH SPATIAL DATA###\n",
    "###################################################\n",
    "\n",
    "#read csv\n",
    "df = pd.read_csv(path_in)\n",
    "\n",
    "# replacing blank spaces with '_' in column names \n",
    "df.columns =[column.replace(\" \", \"_\") for column in df.columns]\n",
    "\n",
    "# filtering with query method to eliminate \"copy\" rows\n",
    "df.query(\"Measure_Names == 'Record'\", inplace = True) \n",
    "  \n",
    "#delete unnecessary columns from df\n",
    "del df['COUNTY']\n",
    "del df['County_(copy)']\n",
    "del df['FACILITY_NAME']\n",
    "del df['Measure_Names']\n",
    "del df['TODAY_POSITIVE_HCW_']\n",
    "del df['TODAY_POSITIVE_RESIDENTS']\n",
    "del df['Measure_Values']\n",
    "\n",
    "#rename columns to match feature layer\n",
    "df = df.rename(columns = {'Facility_Id':'FACID','COVID-RELATED_HCW_DEATHS_':'HCW_DEATHS_LABEL', 'COVID-RELATED_RESIDENT_DEATHS':'RES_DEATHS_LABEL', 'CUMULATIVE_POSITIVE_HCW_':'HCW_CUM_LABEL', 'CUMULATIVE_POSITIVE_RESIDENTS_':'RES_CUM_LABEL'})\n",
    "\n",
    "#duplicate columns \n",
    "#3 columns for each attribute: label (includes <11), points (<11 as 1 for symbology), stats (<11 as 0 for calcs)\n",
    "df['HCW_DEATHS_PTS'] = df['HCW_DEATHS_LABEL']\n",
    "df['HCW_DEATHS_STATS'] = df['HCW_DEATHS_LABEL']\n",
    "\n",
    "df['RES_DEATHS_PTS'] = df['RES_DEATHS_LABEL']\n",
    "df['RES_DEATHS_STATS'] = df['RES_DEATHS_LABEL']\n",
    "\n",
    "df['HCW_CUM_PTS'] = df['HCW_CUM_LABEL']\n",
    "df['HCW_CUM_STATS'] = df['HCW_CUM_LABEL']\n",
    "\n",
    "df['RES_CUM_PTS'] = df['RES_CUM_LABEL']\n",
    "df['RES_CUM_STATS'] = df['RES_CUM_LABEL']\n",
    "\n",
    "df['DATA_DATE'] = data_date\n",
    "\n",
    "#format duplicated rows according to rules\n",
    "#3 columns for each attribute: label (includes <11), points (<11 as 1 for symbology), stats (<11 as 0 for calcs)\n",
    "for i, row in df.iterrows():\n",
    "    if(df['HCW_DEATHS_PTS'][i] == '<11'):\n",
    "        df['HCW_DEATHS_PTS'][i] = 1\n",
    "    if(df['HCW_DEATHS_STATS'][i] == '<11'):\n",
    "        df['HCW_DEATHS_STATS'][i] = 0   \n",
    "    if(df['RES_DEATHS_PTS'][i] == '<11'):\n",
    "        df['RES_DEATHS_PTS'][i] = 1\n",
    "    if(df['RES_DEATHS_STATS'][i] == '<11'):\n",
    "        df['RES_DEATHS_STATS'][i] = 0 \n",
    "    if(df['HCW_CUM_PTS'][i] == '<11'):\n",
    "        df['HCW_CUM_PTS'][i] = 1\n",
    "    if(df['HCW_CUM_STATS'][i] == '<11'):\n",
    "        df['HCW_CUM_STATS'][i] = 0   \n",
    "    if(df['RES_CUM_PTS'][i] == '<11'):\n",
    "        df['RES_CUM_PTS'][i] = 1\n",
    "    if(df['RES_CUM_STATS'][i] == '<11'):\n",
    "        df['RES_CUM_STATS'][i] = 0 \n",
    "\n",
    "#cast columns from string to int for feature layer\n",
    "df['HCW_DEATHS_PTS'] = df['HCW_DEATHS_PTS'].astype(int)\n",
    "df['HCW_DEATHS_STATS'] = df['HCW_DEATHS_STATS'].astype(int)\n",
    "df['RES_DEATHS_PTS'] = df['RES_DEATHS_PTS'].astype(int)\n",
    "df['RES_DEATHS_STATS'] = df['RES_DEATHS_STATS'].astype(int)\n",
    "df['HCW_CUM_PTS'] = df['HCW_CUM_PTS'].astype(int)\n",
    "df['HCW_CUM_STATS'] = df['HCW_CUM_STATS'].astype(int)\n",
    "df['RES_CUM_PTS'] = df['RES_CUM_PTS'].astype(int)\n",
    "df['RES_CUM_STATS'] = df['RES_CUM_STATS'].astype(int)\n",
    "\n",
    "print(len(df))\n",
    "df.head()"
   ]
  },
  {
   "cell_type": "code",
   "execution_count": 11,
   "metadata": {
    "scrolled": true
   },
   "outputs": [
    {
     "name": "stdout",
     "output_type": "stream",
     "text": [
      "0 81 570 924\n"
     ]
    }
   ],
   "source": [
    "###########################################\n",
    "###MERGE WEBSITE & SPATIAL (COORDS) DATA###\n",
    "###########################################\n",
    "\n",
    "#read SNF file (addresses and coordinates)\n",
    "snf = pd.read_csv(path_snf)\n",
    "\n",
    "#merge website and spatial data\n",
    "snf = snf.merge(df, on = 'FACID')\n",
    "\n",
    "#########################################\n",
    "###DETERMINE COUNTY TOTALS AND ADD ROW###\n",
    "#########################################\n",
    "\n",
    "#get county wide totals\n",
    "hcw_deaths_sum = 0\n",
    "res_deaths_sum = 0\n",
    "hcw_cum_sum = 0\n",
    "res_cum_sum = 0\n",
    "\n",
    "for i,row in snf.iterrows():\n",
    "    hcw_deaths_sum = hcw_deaths_sum + snf['HCW_DEATHS_STATS'][i]\n",
    "    res_deaths_sum = res_deaths_sum + snf['RES_DEATHS_STATS'][i]\n",
    "    hcw_cum_sum = hcw_cum_sum + snf['HCW_CUM_STATS'][i]\n",
    "    res_cum_sum = res_cum_sum + snf['RES_CUM_STATS'][i]\n",
    "\n",
    "print(hcw_deaths_sum, res_deaths_sum, hcw_cum_sum, res_cum_sum)"
   ]
  },
  {
   "cell_type": "code",
   "execution_count": 12,
   "metadata": {},
   "outputs": [
    {
     "name": "stdout",
     "output_type": "stream",
     "text": [
      "Max Res Cum: 118\n",
      "Max HCW Cum: 49\n",
      "Max Cum: 118\n",
      "Max Res Deaths: 21\n",
      "Max HCW Deaths: 0\n",
      "Max Deaths: 21\n"
     ]
    }
   ],
   "source": [
    "#get max deaths and max cumulative cases for point symbology corrections\n",
    "max_res_cum = snf['RES_CUM_STATS'].max()\n",
    "print('Max Res Cum: {}'.format(max_res_cum))\n",
    "\n",
    "max_hcw_cum = snf['HCW_CUM_STATS'].max()\n",
    "print('Max HCW Cum: {}'.format(max_hcw_cum))\n",
    "\n",
    "max_cum = 0\n",
    "if(max_res_cum > max_hcw_cum):\n",
    "    max_cum = max_res_cum\n",
    "else:\n",
    "    max_cum = max_hcw_cum\n",
    "print('Max Cum: {}'.format(max_cum))\n",
    "\n",
    "max_res_deaths = snf['RES_DEATHS_STATS'].max()\n",
    "print('Max Res Deaths: {}'.format(max_res_deaths))\n",
    "\n",
    "max_hcw_deaths = snf['HCW_DEATHS_STATS'].max()\n",
    "print('Max HCW Deaths: {}'.format(max_hcw_deaths))\n",
    "\n",
    "max_deaths = 0\n",
    "if(max_res_deaths > max_hcw_deaths):\n",
    "    max_deaths = max_res_deaths\n",
    "else:\n",
    "    max_deaths = max_hcw_deaths\n",
    "print('Max Deaths: {}'.format(max_deaths))"
   ]
  },
  {
   "cell_type": "code",
   "execution_count": 13,
   "metadata": {
    "scrolled": true
   },
   "outputs": [
    {
     "name": "stdout",
     "output_type": "stream",
     "text": [
      "87\n"
     ]
    },
    {
     "data": {
      "text/html": [
       "<div>\n",
       "<style scoped>\n",
       "    .dataframe tbody tr th:only-of-type {\n",
       "        vertical-align: middle;\n",
       "    }\n",
       "\n",
       "    .dataframe tbody tr th {\n",
       "        vertical-align: top;\n",
       "    }\n",
       "\n",
       "    .dataframe thead th {\n",
       "        text-align: right;\n",
       "    }\n",
       "</style>\n",
       "<table border=\"1\" class=\"dataframe\">\n",
       "  <thead>\n",
       "    <tr style=\"text-align: right;\">\n",
       "      <th></th>\n",
       "      <th>Longitude</th>\n",
       "      <th>Latitude</th>\n",
       "      <th>COUNTY</th>\n",
       "      <th>FACID</th>\n",
       "      <th>FACILITY_NAME</th>\n",
       "      <th>SRA</th>\n",
       "      <th>ADDRESS</th>\n",
       "      <th>HCW_DEATHS_LABEL</th>\n",
       "      <th>RES_DEATHS_LABEL</th>\n",
       "      <th>HCW_CUM_LABEL</th>\n",
       "      <th>RES_CUM_LABEL</th>\n",
       "      <th>HCW_DEATHS_PTS</th>\n",
       "      <th>HCW_DEATHS_STATS</th>\n",
       "      <th>RES_DEATHS_PTS</th>\n",
       "      <th>RES_DEATHS_STATS</th>\n",
       "      <th>HCW_CUM_PTS</th>\n",
       "      <th>HCW_CUM_STATS</th>\n",
       "      <th>RES_CUM_PTS</th>\n",
       "      <th>RES_CUM_STATS</th>\n",
       "      <th>DATA_DATE</th>\n",
       "    </tr>\n",
       "  </thead>\n",
       "  <tbody>\n",
       "    <tr>\n",
       "      <th>86</th>\n",
       "      <td>-118.0</td>\n",
       "      <td>33.0</td>\n",
       "      <td>SAN DIEGO</td>\n",
       "      <td>999</td>\n",
       "      <td>ALL SKILLED NURSING FACILITIES</td>\n",
       "      <td>ALL SRAs</td>\n",
       "      <td>Totals do not include suppressed data for faci...</td>\n",
       "      <td>0</td>\n",
       "      <td>81</td>\n",
       "      <td>570</td>\n",
       "      <td>924</td>\n",
       "      <td>0</td>\n",
       "      <td>0</td>\n",
       "      <td>0</td>\n",
       "      <td>81</td>\n",
       "      <td>0</td>\n",
       "      <td>570</td>\n",
       "      <td>0</td>\n",
       "      <td>924</td>\n",
       "      <td>09/06/2020</td>\n",
       "    </tr>\n",
       "  </tbody>\n",
       "</table>\n",
       "</div>"
      ],
      "text/plain": [
       "    Longitude  Latitude     COUNTY  ...  RES_CUM_PTS RES_CUM_STATS   DATA_DATE\n",
       "86     -118.0      33.0  SAN DIEGO  ...            0           924  09/06/2020\n",
       "\n",
       "[1 rows x 20 columns]"
      ]
     },
     "execution_count": 13,
     "metadata": {},
     "output_type": "execute_result"
    }
   ],
   "source": [
    "#create new row for county wide totals\n",
    "new_row = {'Longitude':-118 , 'Latitude':33 , 'COUNTY': 'SAN DIEGO', 'FACID':999, 'FACILITY_NAME':' ALL SKILLED NURSING FACILITIES', 'SRA':'ALL SRAs', 'ADDRESS':'Totals do not include suppressed data for facilities with <11 confirmed cases or related deaths.', 'DATA_DATE':data_date, 'HCW_DEATHS_LABEL':hcw_deaths_sum, 'RES_DEATHS_LABEL':res_deaths_sum, 'HCW_CUM_LABEL':hcw_cum_sum, 'RES_CUM_LABEL':res_cum_sum, 'HCW_DEATHS_STATS':hcw_deaths_sum, 'RES_DEATHS_STATS':res_deaths_sum, 'HCW_CUM_STATS':hcw_cum_sum, 'RES_CUM_STATS':res_cum_sum, 'HCW_DEATHS_PTS':0, 'RES_DEATHS_PTS':0, 'HCW_CUM_PTS':0, 'RES_CUM_PTS':0}\n",
    "\n",
    "#append row to dataframe\n",
    "snf = snf.append(new_row, ignore_index=True)\n",
    "\n",
    "#save as csv file\n",
    "snf.to_csv(path_out, index = False)\n",
    "\n",
    "print(len(snf))\n",
    "snf.tail(1)"
   ]
  },
  {
   "cell_type": "markdown",
   "metadata": {},
   "source": [
    "### OVERWRITE FEATURE LAYER"
   ]
  },
  {
   "cell_type": "code",
   "execution_count": 14,
   "metadata": {},
   "outputs": [
    {
     "data": {
      "text/plain": [
       "{'success': True}"
      ]
     },
     "execution_count": 14,
     "metadata": {},
     "output_type": "execute_result"
    }
   ],
   "source": [
    "#############################\n",
    "###OVERWRITE FEATURE LAYER###\n",
    "#############################\n",
    "\n",
    "#get feature layer containing updated data for maps associated with the COVID-19 dashboards\n",
    "layer = gis.content.get(\"55b29be4e904457f994713697f8f073b\")\n",
    "layer\n",
    "\n",
    "layer_collection = FeatureLayerCollection.fromitem(layer)\n",
    "\n",
    "#call the overwrite() method which can be accessed using the manager property\n",
    "layer_collection.manager.overwrite(path_out)\n"
   ]
  },
  {
   "cell_type": "markdown",
   "metadata": {},
   "source": [
    "### FUNCTIONS FOR MAP MODIFICATIONS"
   ]
  },
  {
   "cell_type": "markdown",
   "metadata": {},
   "source": [
    "Code Reference: https://community.esri.com/groups/arcgis-python-api/blog/2019/04/09/updating-layer-symbology-with-the-arcgis-api-for-python"
   ]
  },
  {
   "cell_type": "code",
   "execution_count": 15,
   "metadata": {},
   "outputs": [],
   "source": [
    "def get_map (map_id):\n",
    "    '''\n",
    "    GET MAP DATA FOR SYMBOLOGY CHANGES\n",
    "    '''   \n",
    "    m = gis.content.get(map_id)\n",
    "    data = m.get_data()    \n",
    "    print(m)    \n",
    "    return data"
   ]
  },
  {
   "cell_type": "code",
   "execution_count": 16,
   "metadata": {},
   "outputs": [],
   "source": [
    "def update_map (map_id, data):\n",
    "    '''\n",
    "    UPDATE MAP TO SAVE CHANGES\n",
    "    '''\n",
    "\n",
    "    m = gis.content.get(map_id)\n",
    "    \n",
    "    # Set the item_properties to include the desired update\n",
    "    properties = {\"text\": json.dumps(data)}\n",
    "\n",
    "    # 'Commit' the updates to the Item\n",
    "    update = m.update(item_properties=properties)\n",
    "\n",
    "    # Print item_data to see that changes are reflected\n",
    "    #new_data = m.get_data()\n",
    "    #print(\"***********************NEW DEFINITION**********************\")\n",
    "    #print(json.dumps(new_data, indent=4, sort_keys=True))\n",
    "    \n",
    "    return update"
   ]
  },
  {
   "cell_type": "markdown",
   "metadata": {},
   "source": [
    "### RESIDENTS - CUMULATIVE CASES (res1)"
   ]
  },
  {
   "cell_type": "code",
   "execution_count": 17,
   "metadata": {},
   "outputs": [
    {
     "name": "stdout",
     "output_type": "stream",
     "text": [
      "<Item title:\"COVID-19 and San Diego County SNF Residents\" type:Web Map owner:jembury8568_SDSUGeo>\n"
     ]
    }
   ],
   "source": [
    "#residents - cumulative cases\n",
    "res1 = \"16dce30762734f579f7849bdafc8c019\"\n",
    "\n",
    "res1_data = get_map(res1)"
   ]
  },
  {
   "cell_type": "code",
   "execution_count": 18,
   "metadata": {},
   "outputs": [],
   "source": [
    "#set max value for graduated points symbols\n",
    "res1_data['operationalLayers'][4]['layerDefinition']['drawingInfo']['renderer']['visualVariables'][0]['maxDataValue'] = max_cum.item()\n",
    "res1_data['operationalLayers'][4]['layerDefinition']['drawingInfo']['renderer']['authoringInfo']['visualVariables'][0]['maxSliderValue'] = max_cum.item()"
   ]
  },
  {
   "cell_type": "code",
   "execution_count": 19,
   "metadata": {},
   "outputs": [
    {
     "data": {
      "text/plain": [
       "True"
      ]
     },
     "execution_count": 19,
     "metadata": {},
     "output_type": "execute_result"
    }
   ],
   "source": [
    "#update map to save changes\n",
    "res1_update = update_map(res1, res1_data)\n",
    "res1_update"
   ]
  },
  {
   "cell_type": "markdown",
   "metadata": {},
   "source": [
    "### RESIDENTS - DEATHS (res2)"
   ]
  },
  {
   "cell_type": "code",
   "execution_count": 20,
   "metadata": {},
   "outputs": [
    {
     "name": "stdout",
     "output_type": "stream",
     "text": [
      "<Item title:\"COVID-19 and San Diego County SNF Resident Deaths\" type:Web Map owner:jembury8568_SDSUGeo>\n"
     ]
    }
   ],
   "source": [
    "#residents - deaths\n",
    "res2 = \"a8319de392f64e4c836d42190ed10205\"\n",
    "\n",
    "res2_data = get_map(res2)"
   ]
  },
  {
   "cell_type": "code",
   "execution_count": 21,
   "metadata": {},
   "outputs": [],
   "source": [
    "#set max value for graduated points symbols\n",
    "res2_data['operationalLayers'][2]['layerDefinition']['drawingInfo']['renderer']['visualVariables'][0]['maxDataValue'] = max_deaths.item()\n",
    "res2_data['operationalLayers'][2]['layerDefinition']['drawingInfo']['renderer']['authoringInfo']['visualVariables'][0]['maxSliderValue'] = max_deaths.item()"
   ]
  },
  {
   "cell_type": "code",
   "execution_count": 22,
   "metadata": {},
   "outputs": [
    {
     "data": {
      "text/plain": [
       "True"
      ]
     },
     "execution_count": 22,
     "metadata": {},
     "output_type": "execute_result"
    }
   ],
   "source": [
    "#update map to save changes\n",
    "res2_update = update_map(res2, res2_data)\n",
    "res2_update"
   ]
  },
  {
   "cell_type": "markdown",
   "metadata": {},
   "source": [
    "### HCW - CUMULATIVE CASES (hcw1)"
   ]
  },
  {
   "cell_type": "code",
   "execution_count": 23,
   "metadata": {},
   "outputs": [
    {
     "name": "stdout",
     "output_type": "stream",
     "text": [
      "<Item title:\"COVID-19 and San Diego County SNF Healthcare Workers\" type:Web Map owner:jembury8568_SDSUGeo>\n"
     ]
    }
   ],
   "source": [
    "#healthcare workers - cumulative cases\n",
    "hcw1 = \"11543f486f414409b3106b98eb3e5fe4\"\n",
    "\n",
    "hcw1_data = get_map(hcw1)"
   ]
  },
  {
   "cell_type": "code",
   "execution_count": 24,
   "metadata": {},
   "outputs": [],
   "source": [
    "#set max value for graduated points symbols\n",
    "hcw1_data['operationalLayers'][2]['layerDefinition']['drawingInfo']['renderer']['visualVariables'][0]['maxDataValue'] = max_cum.item()\n",
    "hcw1_data['operationalLayers'][2]['layerDefinition']['drawingInfo']['renderer']['authoringInfo']['visualVariables'][0]['maxSliderValue'] = max_cum.item()"
   ]
  },
  {
   "cell_type": "code",
   "execution_count": 25,
   "metadata": {},
   "outputs": [
    {
     "data": {
      "text/plain": [
       "True"
      ]
     },
     "execution_count": 25,
     "metadata": {},
     "output_type": "execute_result"
    }
   ],
   "source": [
    "#update map to save changes\n",
    "hcw1_update = update_map(hcw1, hcw1_data)\n",
    "hcw1_update"
   ]
  },
  {
   "cell_type": "markdown",
   "metadata": {},
   "source": [
    "### HCW - DEATHS (hcw2)"
   ]
  },
  {
   "cell_type": "code",
   "execution_count": 26,
   "metadata": {},
   "outputs": [
    {
     "name": "stdout",
     "output_type": "stream",
     "text": [
      "<Item title:\"COVID-19 and San Diego County SNF Healthcare Worker Deaths\" type:Web Map owner:jembury8568_SDSUGeo>\n"
     ]
    }
   ],
   "source": [
    "#healthcare workers - deaths\n",
    "hcw2 = \"d2cbaba1d61e43dab61aeb2fb2bd26de\"\n",
    "\n",
    "hcw2_data = get_map(hcw2)"
   ]
  },
  {
   "cell_type": "code",
   "execution_count": 27,
   "metadata": {},
   "outputs": [],
   "source": [
    "#set max value for graduated points symbols\n",
    "hcw2_data['operationalLayers'][2]['layerDefinition']['drawingInfo']['renderer']['visualVariables'][0]['maxDataValue'] = max_deaths.item()\n",
    "hcw2_data['operationalLayers'][2]['layerDefinition']['drawingInfo']['renderer']['authoringInfo']['visualVariables'][0]['maxSliderValue'] = max_deaths.item()"
   ]
  },
  {
   "cell_type": "code",
   "execution_count": 28,
   "metadata": {},
   "outputs": [
    {
     "data": {
      "text/plain": [
       "True"
      ]
     },
     "execution_count": 28,
     "metadata": {},
     "output_type": "execute_result"
    }
   ],
   "source": [
    "#update map to save changes\n",
    "hcw2_update = update_map(hcw2, hcw2_data)\n",
    "hcw2_update"
   ]
  },
  {
   "cell_type": "markdown",
   "metadata": {},
   "source": [
    "### VERIFY COVID-19 SNF DASHBOARD"
   ]
  },
  {
   "cell_type": "code",
   "execution_count": 29,
   "metadata": {},
   "outputs": [
    {
     "data": {
      "text/plain": [
       "True"
      ]
     },
     "execution_count": 29,
     "metadata": {},
     "output_type": "execute_result"
    }
   ],
   "source": [
    "#Open COVID-19 SNF dashboard in browser\n",
    "webbrowser.open('https://arcg.is/0bjCe1', new=2)"
   ]
  },
  {
   "cell_type": "code",
   "execution_count": null,
   "metadata": {},
   "outputs": [],
   "source": []
  }
 ],
 "metadata": {
  "kernelspec": {
   "display_name": "ArcGISPro",
   "language": "Python",
   "name": "python3"
  },
  "language_info": {
   "file_extension": ".py",
   "name": "python",
   "version": "3"
  }
 },
 "nbformat": 4,
 "nbformat_minor": 2
}
