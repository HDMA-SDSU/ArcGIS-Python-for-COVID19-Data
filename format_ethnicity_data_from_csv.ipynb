{
 "cells": [
  {
   "cell_type": "markdown",
   "metadata": {},
   "source": [
    "# Clean & Process COVID-19 Ethnicity Files for Pie Chart Symbology Maps\n",
    "Center for Human Dynamics in the Mobile Age (HDMA) at San Diego State University\n",
    "\n",
    "Jessica Embury"
   ]
  },
  {
   "cell_type": "markdown",
   "metadata": {},
   "source": [
    "### MODULES"
   ]
  },
  {
   "cell_type": "code",
   "execution_count": null,
   "metadata": {},
   "outputs": [],
   "source": [
    "import arcpy\n",
    "import pandas as pd\n",
    "import os"
   ]
  },
  {
   "cell_type": "markdown",
   "metadata": {},
   "source": [
    "### USER SET VARIABLE FOR FILE DATE\n",
    "Use county's naming convention for file date"
   ]
  },
  {
   "cell_type": "code",
   "execution_count": null,
   "metadata": {},
   "outputs": [],
   "source": [
    "date = '28NOV2020'"
   ]
  },
  {
   "cell_type": "markdown",
   "metadata": {},
   "source": [
    "### CREATE LIST OBJECT WITH ALL FILE NAMES"
   ]
  },
  {
   "cell_type": "code",
   "execution_count": null,
   "metadata": {},
   "outputs": [],
   "source": [
    "#file directory\n",
    "path = '../covid_data/ethnicity/{}/'.format(date)\n",
    "\n",
    "#file names\n",
    "base = 'COVID19_DailyTotalRate_'\n",
    "\n",
    "white_file = base + 'White_' + date + '.csv'\n",
    "multi_file = base + 'MultipleRace_' + date + '.csv'\n",
    "hispanic_file = base + 'Hispanic_' + date + '.csv'\n",
    "black_file = base + 'Black_' + date + '.csv'\n",
    "api_file = base + 'API_' + date + '.csv'\n",
    "aian_file = base + 'AIAN_' + date + '.csv'\n",
    "\n",
    "files = [aian_file, api_file, black_file, hispanic_file, white_file, multi_file]"
   ]
  },
  {
   "cell_type": "markdown",
   "metadata": {},
   "source": [
    "### DATA FRAME WITH SUPPLEMENTAL SRA DATA, COORDINATES"
   ]
  },
  {
   "cell_type": "code",
   "execution_count": null,
   "metadata": {},
   "outputs": [],
   "source": [
    "#path\n",
    "sra_in = './data/sra_info.csv'\n",
    "\n",
    "#base sra data\n",
    "sra = pd.read_csv(sra_in)\n",
    "print(len(sra))\n",
    "sra.head()"
   ]
  },
  {
   "cell_type": "markdown",
   "metadata": {},
   "source": [
    "### ADD A COLUMN FOR EACH ETHNICITY TO THE SRA DATAFRAME"
   ]
  },
  {
   "cell_type": "code",
   "execution_count": null,
   "metadata": {
    "scrolled": false
   },
   "outputs": [],
   "source": [
    "#add ethnicity data as columns to the sra df\n",
    "for f in range(len(files)):\n",
    "    \n",
    "    #not every week has had a file for each ethnicity, so check if file for ethnicity exists\n",
    "    if os.path.exists(path + files[f]):\n",
    "        \n",
    "        #ethnicity column name\n",
    "        ethnicity = files[f].split('_')[2]\n",
    "        if ethnicity == 'MultipleRace':\n",
    "            ethnicity = 'Multiple\\nRace'\n",
    "    \n",
    "        #temp df for specific ethnicity\n",
    "        df = pd.read_csv(path + files[f])\n",
    "\n",
    "        #add date to sra df\n",
    "        if f == 0:\n",
    "            sra['Date'] = df['Date'][0]\n",
    "    \n",
    "        #add ethnicity columns to sra df\n",
    "        #multiple column name options to catch naming variations in files from the county\n",
    "        df = df.rename(columns = {'Allocated {}\\nCase Count (Raw)'.format(ethnicity):'{}'.format(ethnicity.replace('\\n',' ')),\n",
    "                                  'Allocated {} Case Count (Raw)'.format(ethnicity.replace('\\n',' ')):'{}'.format(ethnicity.replace('\\n',' ')),\n",
    "                                  'Allocated\\n{} Case Count (Raw)'.format(ethnicity):'{}'.format(ethnicity.replace('\\n',' ')),\n",
    "                                  'Allocated\\n{} Case\\nCount\\n(Raw)'.format(ethnicity):'{}'.format(ethnicity.replace('\\n',' ')), \n",
    "                                  'Allocated\\n{}\\nCase\\nCount\\n(Raw)'.format(ethnicity):'{}'.format(ethnicity.replace('\\n',' ')), \n",
    "                                  'Allocated\\n{}\\nRace\\nCase\\nCount\\n(Raw)'.format(ethnicity):'{}'.format(ethnicity.replace('\\n',' ')), \n",
    "                                  'Geography':'sra_name'})\n",
    "        subset_df = df[['sra_name', ethnicity.replace('\\n',' ')]].fillna(0)\n",
    "    \n",
    "        sra = sra.merge(subset_df, how='left', on='sra_name')\n",
    "\n",
    "sra = sra.rename(columns = {'sra_num':'SRA', \n",
    "                            'sra_name':'Name', \n",
    "                            'latitude':'Latitude', \n",
    "                            'longitude':'Longitude', \n",
    "                            'AIAN':'American Indian, AK Native', \n",
    "                            'API':'Asian, Pacific Islander'})\n",
    "print(len(sra))\n",
    "sra.head()    \n",
    "    "
   ]
  },
  {
   "cell_type": "code",
   "execution_count": null,
   "metadata": {},
   "outputs": [],
   "source": [
    "#alphabetize rows by sra name\n",
    "sra = sra.sort_values(by='Name', axis=0, ascending=True, inplace=False, kind='quicksort', na_position='last')\n",
    "sra.head()"
   ]
  },
  {
   "cell_type": "markdown",
   "metadata": {},
   "source": [
    "### EXPORT CSV FILE"
   ]
  },
  {
   "cell_type": "code",
   "execution_count": null,
   "metadata": {},
   "outputs": [],
   "source": [
    "# save sra df as csv\n",
    "date2 = sra['Date'][0]\n",
    "sra.to_csv('./data/covid_ethnicity_data_{}.csv'.format(date2.replace('/','')), index=False)\n",
    "sra.to_csv('C:/Users/jesse/Dropbox/Mapping-Vulearable-Pop-Tasks/Ethnicity-Maps/covid_ethnicity_data_{}.csv'.format(date2.replace('/','')), index=False)"
   ]
  },
  {
   "cell_type": "markdown",
   "metadata": {},
   "source": [
    "### APPEND NEW DATE TO ETHNICITY POINTS LAYER"
   ]
  },
  {
   "cell_type": "code",
   "execution_count": null,
   "metadata": {},
   "outputs": [],
   "source": [
    "# csv path for gdb table\n",
    "csv_in = './data/covid_ethnicity_data_{}.csv'.format(date2.replace('/',''))\n",
    "\n",
    "# Get and set current project and geodatabase info\n",
    "arcpy.env.overwriteOutput = True\n",
    "aprx = arcpy.mp.ArcGISProject('CURRENT')\n",
    "defaultGeoDb = arcpy.env.workspace\n",
    "aprx.defaultGeodatabase = defaultGeoDb\n",
    "currentMap = aprx.activeMap\n",
    "\n",
    "# set names for table and layer\n",
    "tempStr = 'covid_ethnicity_data_{}'.format(date2.replace('/',''))\n",
    "newMapName= 'lyr_' + tempStr\n",
    "newTableName = 'tbl_' + tempStr\n",
    "\n",
    "# convert CSV data into table and add to default database - look in database to see it was added\n",
    "arcpy.TableToTable_conversion(csv_in,defaultGeoDb,newTableName)\n",
    "\n",
    "# convert table to XY point layer\n",
    "arcpy.management.XYTableToPoint(newTableName, newMapName, 'Longitude', 'Latitude')\n",
    "\n",
    "# append new date's point data to main feature class\n",
    "arcpy.management.Append(newMapName, 'lyr_main_ethnicity_pts')"
   ]
  },
  {
   "cell_type": "code",
   "execution_count": null,
   "metadata": {},
   "outputs": [],
   "source": []
  }
 ],
 "metadata": {
  "kernelspec": {
   "display_name": "ArcGISPro",
   "language": "Python",
   "name": "python3"
  },
  "language_info": {
   "file_extension": ".py",
   "name": "python",
   "version": "3"
  }
 },
 "nbformat": 4,
 "nbformat_minor": 4
}
